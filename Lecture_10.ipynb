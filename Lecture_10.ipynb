{
 "cells": [
  {
   "cell_type": "markdown",
   "id": "76bf96f7-25a4-41f0-bf6d-34ec8be7a5e2",
   "metadata": {},
   "source": [
    "# Дисперсионный анализ"
   ]
  },
  {
   "cell_type": "code",
   "execution_count": 1,
   "id": "9707fcdf-0c53-40bc-9c0e-afb647129882",
   "metadata": {},
   "outputs": [],
   "source": [
    "import numpy as np\n",
    "from scipy import stats\n",
    "import matplotlib.pyplot as plt"
   ]
  },
  {
   "cell_type": "code",
   "execution_count": 2,
   "id": "bc267f98-f287-41c3-852f-83bf219987f4",
   "metadata": {},
   "outputs": [
    {
     "data": {
      "text/plain": [
       "65.85714285714286"
      ]
     },
     "execution_count": 2,
     "metadata": {},
     "output_type": "execute_result"
    }
   ],
   "source": [
    "y1 = np.array([70, 50, 65, 60, 75, 67, 74])\n",
    "y2 = np.array([80, 74, 90, 70, 75, 65, 85])\n",
    "y3 = np.array([148, 142, 140, 150, 160, 170, 155])\n",
    "\n",
    "k = 3\n",
    "n = 21\n",
    "\n",
    "y_mean_1 = np.mean(y1)\n",
    "y_mean_1"
   ]
  },
  {
   "cell_type": "code",
   "execution_count": 3,
   "id": "4a6fdcc2-46d0-4d44-bd71-159c00429a1d",
   "metadata": {},
   "outputs": [
    {
     "data": {
      "text/plain": [
       "77.0"
      ]
     },
     "execution_count": 3,
     "metadata": {},
     "output_type": "execute_result"
    }
   ],
   "source": [
    "y_mean_2 = np.mean(y2)\n",
    "y_mean_2"
   ]
  },
  {
   "cell_type": "code",
   "execution_count": 4,
   "id": "71ec74dd-e050-486b-ba6e-d7a894788f61",
   "metadata": {},
   "outputs": [
    {
     "data": {
      "text/plain": [
       "152.14285714285714"
      ]
     },
     "execution_count": 4,
     "metadata": {},
     "output_type": "execute_result"
    }
   ],
   "source": [
    "y_mean_3 = np.mean(y3)\n",
    "y_mean_3"
   ]
  },
  {
   "cell_type": "code",
   "execution_count": 5,
   "id": "0b099a7b-e326-4e0c-bcce-a80dd0f17a6b",
   "metadata": {},
   "outputs": [
    {
     "data": {
      "text/plain": [
       "array([[ 70,  50,  65,  60,  75,  67,  74],\n",
       "       [ 80,  74,  90,  70,  75,  65,  85],\n",
       "       [148, 142, 140, 150, 160, 170, 155]])"
      ]
     },
     "execution_count": 5,
     "metadata": {},
     "output_type": "execute_result"
    }
   ],
   "source": [
    "total = np.array([y1, y2, y3])\n",
    "total"
   ]
  },
  {
   "cell_type": "code",
   "execution_count": 6,
   "id": "99a62b8b-5aa0-4caa-86e7-2bc49934ba57",
   "metadata": {},
   "outputs": [
    {
     "data": {
      "text/plain": [
       "98.33333333333333"
      ]
     },
     "execution_count": 6,
     "metadata": {},
     "output_type": "execute_result"
    }
   ],
   "source": [
    "y_mean_total = np.mean(total)\n",
    "y_mean_total"
   ]
  },
  {
   "cell_type": "code",
   "execution_count": 7,
   "id": "e75e26c0-6e72-4773-835a-b978bb5950b5",
   "metadata": {},
   "outputs": [
    {
     "data": {
      "text/plain": [
       "32400.66666666667"
      ]
     },
     "execution_count": 7,
     "metadata": {},
     "output_type": "execute_result"
    }
   ],
   "source": [
    "# Сумма квадратов отлконений наблюдений от общего среднего\n",
    "sq_sum = np.sum((total - y_mean_total)**2)\n",
    "sq_sum"
   ]
  },
  {
   "cell_type": "code",
   "execution_count": 9,
   "id": "17ce5cfc-04fa-4856-9207-e50727c98eb8",
   "metadata": {},
   "outputs": [
    {
     "data": {
      "text/plain": [
       "30836.952380952374"
      ]
     },
     "execution_count": 9,
     "metadata": {},
     "output_type": "execute_result"
    }
   ],
   "source": [
    "# Сумма квадратов отклонений средних групповых значений от общего среднего\n",
    "S_f = np.sum((y_mean_1 - y_mean_total)**2) * (n/3) + np.sum((y_mean_2 - y_mean_total)**2) * (n/3) + np.sum((y_mean_3 - y_mean_total)**2) * (n/3)\n",
    "S_f"
   ]
  },
  {
   "cell_type": "code",
   "execution_count": 10,
   "id": "417e4ec8-60cb-4123-8ca8-2526fe253374",
   "metadata": {},
   "outputs": [
    {
     "data": {
      "text/plain": [
       "1563.7142857142858"
      ]
     },
     "execution_count": 10,
     "metadata": {},
     "output_type": "execute_result"
    }
   ],
   "source": [
    "# Остаточная сумма квадратов отклонений\n",
    "S_ost = np.sum((y1 - y_mean_1)**2) + np.sum((y2 - y_mean_2)**2) + np.sum((y3 - y_mean_3)**2)\n",
    "S_ost"
   ]
  },
  {
   "cell_type": "code",
   "execution_count": 11,
   "id": "e8ff03d2-6992-4010-95a4-e7a97bab3558",
   "metadata": {},
   "outputs": [
    {
     "data": {
      "text/plain": [
       "32400.66666666666"
      ]
     },
     "execution_count": 11,
     "metadata": {},
     "output_type": "execute_result"
    }
   ],
   "source": [
    "S_common = S_f + S_ost\n",
    "S_common"
   ]
  },
  {
   "cell_type": "code",
   "execution_count": 12,
   "id": "aac94302-b740-4c8b-93e0-00ed6fe97f0d",
   "metadata": {},
   "outputs": [
    {
     "data": {
      "text/plain": [
       "15418.476190476187"
      ]
     },
     "execution_count": 12,
     "metadata": {},
     "output_type": "execute_result"
    }
   ],
   "source": [
    "D_f = S_f / (k - 1)\n",
    "D_f"
   ]
  },
  {
   "cell_type": "code",
   "execution_count": 13,
   "id": "6c3ca91f-82d8-4bce-9d03-d645825ce751",
   "metadata": {},
   "outputs": [
    {
     "data": {
      "text/plain": [
       "86.87301587301587"
      ]
     },
     "execution_count": 13,
     "metadata": {},
     "output_type": "execute_result"
    }
   ],
   "source": [
    "D_ost = S_ost / (n - k)\n",
    "D_ost"
   ]
  },
  {
   "cell_type": "code",
   "execution_count": 14,
   "id": "b829b642-bfa2-4e05-a288-889aa680108c",
   "metadata": {},
   "outputs": [
    {
     "data": {
      "text/plain": [
       "177.48291613374744"
      ]
     },
     "execution_count": 14,
     "metadata": {},
     "output_type": "execute_result"
    }
   ],
   "source": [
    "F_n = D_f / D_ost\n",
    "F_n"
   ]
  },
  {
   "cell_type": "code",
   "execution_count": 16,
   "id": "c4184ef9-4951-48e5-8a9e-ff9aca83db4d",
   "metadata": {},
   "outputs": [
    {
     "data": {
      "text/plain": [
       "F_onewayResult(statistic=177.48291613374704, pvalue=1.420466900107174e-12)"
      ]
     },
     "execution_count": 16,
     "metadata": {},
     "output_type": "execute_result"
    }
   ],
   "source": [
    "f = stats.f_oneway(y1, y2, y3)\n",
    "f"
   ]
  },
  {
   "cell_type": "code",
   "execution_count": null,
   "id": "6f3736a4-c7f9-4b1a-a926-3c18195aeb66",
   "metadata": {},
   "outputs": [],
   "source": []
  },
  {
   "cell_type": "code",
   "execution_count": 17,
   "id": "d5592495-7a22-4884-8c5b-6ef9e499f35f",
   "metadata": {},
   "outputs": [],
   "source": [
    "from statsmodels.stats.multicomp import pairwise_tukeyhsd\n",
    "import pandas as pd"
   ]
  },
  {
   "cell_type": "code",
   "execution_count": 19,
   "id": "edb67dd1-4a47-4a26-bd3a-cd43b1e935d3",
   "metadata": {},
   "outputs": [
    {
     "name": "stdout",
     "output_type": "stream",
     "text": [
      "    Multiple Comparison of Means - Tukey HSD, FWER=0.05     \n",
      "============================================================\n",
      "  group1     group2   meandiff p-adj   lower   upper  reject\n",
      "------------------------------------------------------------\n",
      "accountant     lawyer  11.1429 0.0918 -1.5722 23.8579  False\n",
      "accountant programmer  86.2857    0.0 73.5707 99.0007   True\n",
      "    lawyer programmer  75.1429    0.0 62.4278 87.8579   True\n",
      "------------------------------------------------------------\n"
     ]
    }
   ],
   "source": [
    "df = pd.DataFrame({'score': [70, 50, 65, 60, 75, 67, 74,\n",
    "                            80, 74, 90, 70, 75, 65, 85,\n",
    "                            148, 142, 140, 150, 160, 170, 155],\n",
    "                   'group': np.repeat(['accountant', 'lawyer', 'programmer'], repeats=7)})\n",
    "tukey = pairwise_tukeyhsd(endog=df['score'],\n",
    "                         groups=df['group'],\n",
    "                         alpha=0.05)\n",
    "print(tukey)"
   ]
  },
  {
   "cell_type": "code",
   "execution_count": null,
   "id": "dc15f59b-3e58-4f9f-a9e8-ec2bd1e54007",
   "metadata": {},
   "outputs": [],
   "source": []
  },
  {
   "cell_type": "code",
   "execution_count": 20,
   "id": "26066cde-467a-45d0-9b4d-c5379d387985",
   "metadata": {},
   "outputs": [
    {
     "data": {
      "text/plain": [
       "58.0"
      ]
     },
     "execution_count": 20,
     "metadata": {},
     "output_type": "execute_result"
    }
   ],
   "source": [
    "y111 = 57\n",
    "y112 = 59\n",
    "y11 = (y111 + y112) / 2\n",
    "y11"
   ]
  },
  {
   "cell_type": "code",
   "execution_count": 21,
   "id": "9dd3a031-2581-44fc-b0a4-c5ab5b08aea1",
   "metadata": {},
   "outputs": [
    {
     "data": {
      "text/plain": [
       "57.0"
      ]
     },
     "execution_count": 21,
     "metadata": {},
     "output_type": "execute_result"
    }
   ],
   "source": [
    "y121 = 56\n",
    "y122 = 58\n",
    "y12 = (y121 + y122) /2\n",
    "y12"
   ]
  },
  {
   "cell_type": "code",
   "execution_count": 22,
   "id": "17daab87-8952-4793-8848-c5ea314bb6be",
   "metadata": {},
   "outputs": [
    {
     "data": {
      "text/plain": [
       "33.0"
      ]
     },
     "execution_count": 22,
     "metadata": {},
     "output_type": "execute_result"
    }
   ],
   "source": [
    "y211 = 32\n",
    "y212 = 34\n",
    "y21 = (y211 + y212) / 2\n",
    "y21"
   ]
  },
  {
   "cell_type": "code",
   "execution_count": 23,
   "id": "0fb4b20e-546f-4f84-800d-357e85d98ad7",
   "metadata": {},
   "outputs": [
    {
     "data": {
      "text/plain": [
       "71.0"
      ]
     },
     "execution_count": 23,
     "metadata": {},
     "output_type": "execute_result"
    }
   ],
   "source": [
    "y221 = 71\n",
    "y222 = 71\n",
    "y22 = (y221 + y222) / 2\n",
    "y22"
   ]
  },
  {
   "cell_type": "code",
   "execution_count": 24,
   "id": "37cbeda4-da15-4c1a-89af-a7ba4aa8318c",
   "metadata": {},
   "outputs": [
    {
     "data": {
      "text/plain": [
       "57.5"
      ]
     },
     "execution_count": 24,
     "metadata": {},
     "output_type": "execute_result"
    }
   ],
   "source": [
    "YcpA1 = (y11 + y12) /2\n",
    "YcpA1"
   ]
  },
  {
   "cell_type": "code",
   "execution_count": 25,
   "id": "0cc66045-6ceb-472a-b6f1-c0de99df3ee5",
   "metadata": {},
   "outputs": [
    {
     "data": {
      "text/plain": [
       "52.0"
      ]
     },
     "execution_count": 25,
     "metadata": {},
     "output_type": "execute_result"
    }
   ],
   "source": [
    "YcpA2 = (y21 + y22) / 2\n",
    "YcpA2"
   ]
  },
  {
   "cell_type": "code",
   "execution_count": 26,
   "id": "381fc448-517a-4c7d-a009-eceb6ee26a8c",
   "metadata": {},
   "outputs": [
    {
     "data": {
      "text/plain": [
       "45.5"
      ]
     },
     "execution_count": 26,
     "metadata": {},
     "output_type": "execute_result"
    }
   ],
   "source": [
    "YcpB1 = (y11 + y21) / 2\n",
    "YcpB1"
   ]
  },
  {
   "cell_type": "code",
   "execution_count": 27,
   "id": "85cecb2b-d197-4a5c-a9eb-29a7defb2e0a",
   "metadata": {},
   "outputs": [
    {
     "data": {
      "text/plain": [
       "64.0"
      ]
     },
     "execution_count": 27,
     "metadata": {},
     "output_type": "execute_result"
    }
   ],
   "source": [
    "YcpB2 = (y12 + y22) / 2\n",
    "YcpB2"
   ]
  },
  {
   "cell_type": "code",
   "execution_count": 29,
   "id": "070f6cd0-5a27-44e1-bd49-28cf6849ed3e",
   "metadata": {},
   "outputs": [
    {
     "data": {
      "text/plain": [
       "54.75"
      ]
     },
     "execution_count": 29,
     "metadata": {},
     "output_type": "execute_result"
    }
   ],
   "source": [
    "Ycp = np.mean(YcpA1 + YcpA2 + YcpB1 + YcpB2) / 4\n",
    "Ycp"
   ]
  },
  {
   "cell_type": "code",
   "execution_count": 30,
   "id": "4e31c27f-4204-4626-8118-9cf8c0f5069f",
   "metadata": {},
   "outputs": [],
   "source": [
    "a = 2\n",
    "b = 2\n",
    "n = k = 2\n",
    "\n",
    "dfA = a - 1\n",
    "dfB = b - 1\n",
    "\n",
    "dfAB = (a - 1) * (b - 1)\n",
    "dfE = a * b * (n - 1)"
   ]
  },
  {
   "cell_type": "code",
   "execution_count": 31,
   "id": "d991b23b-3f1e-40c0-812b-b491c8921ed1",
   "metadata": {},
   "outputs": [
    {
     "data": {
      "text/plain": [
       "6.0"
      ]
     },
     "execution_count": 31,
     "metadata": {},
     "output_type": "execute_result"
    }
   ],
   "source": [
    "SSt = 1511.5\n",
    "SSA = 60.5\n",
    "SSB = 684.5\n",
    "SSAB = 760.5\n",
    "SSE = SSt - SSA - SSB - SSAB\n",
    "SSE"
   ]
  },
  {
   "cell_type": "code",
   "execution_count": 32,
   "id": "367fd520-f426-4f7a-a5a4-c4c4fea9e136",
   "metadata": {},
   "outputs": [
    {
     "data": {
      "text/plain": [
       "(60.5, 684.5)"
      ]
     },
     "execution_count": 32,
     "metadata": {},
     "output_type": "execute_result"
    }
   ],
   "source": [
    "MSA = SSA / dfA\n",
    "MSB = SSB / dfB\n",
    "\n",
    "MSA, MSB"
   ]
  },
  {
   "cell_type": "code",
   "execution_count": 33,
   "id": "c08230b0-d764-4bfc-9cc5-613a3c449ffe",
   "metadata": {},
   "outputs": [
    {
     "data": {
      "text/plain": [
       "(760.5, 1.5)"
      ]
     },
     "execution_count": 33,
     "metadata": {},
     "output_type": "execute_result"
    }
   ],
   "source": [
    "MSAB = SSAB / dfAB\n",
    "MSE = SSE / dfE\n",
    "\n",
    "MSAB, MSE"
   ]
  },
  {
   "cell_type": "code",
   "execution_count": 34,
   "id": "b4fddadd-fdc6-4551-a6de-9010a5d5a066",
   "metadata": {},
   "outputs": [
    {
     "data": {
      "text/plain": [
       "(40.333333333333336, 456.3333333333333, 507.0)"
      ]
     },
     "execution_count": 34,
     "metadata": {},
     "output_type": "execute_result"
    }
   ],
   "source": [
    "FA = MSA / MSE\n",
    "FB = MSB / MSE\n",
    "FAB = MSAB / MSE\n",
    "F_t = 7.1\n",
    "FA, FB, FAB"
   ]
  },
  {
   "cell_type": "code",
   "execution_count": null,
   "id": "7ea9aa51-8f0c-40b2-ad46-f8142a61cef1",
   "metadata": {},
   "outputs": [],
   "source": []
  },
  {
   "cell_type": "code",
   "execution_count": 35,
   "id": "bd3299ee-b03c-44be-a635-abcfcda86b82",
   "metadata": {},
   "outputs": [],
   "source": [
    "import statsmodels.api as sm\n",
    "from statsmodels.formula.api import ols"
   ]
  },
  {
   "cell_type": "code",
   "execution_count": 36,
   "id": "0be8e2e5-30b9-433e-b93a-6d3a2888a563",
   "metadata": {},
   "outputs": [
    {
     "data": {
      "text/plain": [
       "array(['low', 'low', 'low', 'low', 'high', 'high', 'high', 'high'],\n",
       "      dtype='<U4')"
      ]
     },
     "execution_count": 36,
     "metadata": {},
     "output_type": "execute_result"
    }
   ],
   "source": [
    "fA = np.array([\"low\", \"low\", \"low\", \"low\", \"high\", \"high\", \"high\", \"high\"])\n",
    "fA"
   ]
  },
  {
   "cell_type": "code",
   "execution_count": 37,
   "id": "1c807307-f966-477e-b32e-426971650f84",
   "metadata": {},
   "outputs": [],
   "source": [
    "fB = np.array([\"low\", \"low\", \"high\", \"high\",\"low\", \"low\",  \"high\", \"high\"])"
   ]
  },
  {
   "cell_type": "code",
   "execution_count": 38,
   "id": "f44961b1-8374-4f47-8e76-526eeb13540f",
   "metadata": {},
   "outputs": [],
   "source": [
    "values = np.array([57, 59, 56, 58, 32, 34, 71, 71])"
   ]
  },
  {
   "cell_type": "code",
   "execution_count": 39,
   "id": "e6cada1d-abef-4466-a733-e5470f25f2a6",
   "metadata": {},
   "outputs": [
    {
     "data": {
      "text/html": [
       "<div>\n",
       "<style scoped>\n",
       "    .dataframe tbody tr th:only-of-type {\n",
       "        vertical-align: middle;\n",
       "    }\n",
       "\n",
       "    .dataframe tbody tr th {\n",
       "        vertical-align: top;\n",
       "    }\n",
       "\n",
       "    .dataframe thead th {\n",
       "        text-align: right;\n",
       "    }\n",
       "</style>\n",
       "<table border=\"1\" class=\"dataframe\">\n",
       "  <thead>\n",
       "    <tr style=\"text-align: right;\">\n",
       "      <th></th>\n",
       "      <th>fA</th>\n",
       "      <th>fB</th>\n",
       "      <th>values</th>\n",
       "    </tr>\n",
       "  </thead>\n",
       "  <tbody>\n",
       "    <tr>\n",
       "      <th>0</th>\n",
       "      <td>low</td>\n",
       "      <td>low</td>\n",
       "      <td>57</td>\n",
       "    </tr>\n",
       "    <tr>\n",
       "      <th>1</th>\n",
       "      <td>low</td>\n",
       "      <td>low</td>\n",
       "      <td>59</td>\n",
       "    </tr>\n",
       "    <tr>\n",
       "      <th>2</th>\n",
       "      <td>low</td>\n",
       "      <td>high</td>\n",
       "      <td>56</td>\n",
       "    </tr>\n",
       "    <tr>\n",
       "      <th>3</th>\n",
       "      <td>low</td>\n",
       "      <td>high</td>\n",
       "      <td>58</td>\n",
       "    </tr>\n",
       "    <tr>\n",
       "      <th>4</th>\n",
       "      <td>high</td>\n",
       "      <td>low</td>\n",
       "      <td>32</td>\n",
       "    </tr>\n",
       "    <tr>\n",
       "      <th>5</th>\n",
       "      <td>high</td>\n",
       "      <td>low</td>\n",
       "      <td>34</td>\n",
       "    </tr>\n",
       "    <tr>\n",
       "      <th>6</th>\n",
       "      <td>high</td>\n",
       "      <td>high</td>\n",
       "      <td>71</td>\n",
       "    </tr>\n",
       "    <tr>\n",
       "      <th>7</th>\n",
       "      <td>high</td>\n",
       "      <td>high</td>\n",
       "      <td>71</td>\n",
       "    </tr>\n",
       "  </tbody>\n",
       "</table>\n",
       "</div>"
      ],
      "text/plain": [
       "     fA    fB  values\n",
       "0   low   low      57\n",
       "1   low   low      59\n",
       "2   low  high      56\n",
       "3   low  high      58\n",
       "4  high   low      32\n",
       "5  high   low      34\n",
       "6  high  high      71\n",
       "7  high  high      71"
      ]
     },
     "execution_count": 39,
     "metadata": {},
     "output_type": "execute_result"
    }
   ],
   "source": [
    "df = pd.DataFrame({'fA': fA, 'fB': fB, 'values': values})\n",
    "df"
   ]
  },
  {
   "cell_type": "code",
   "execution_count": 40,
   "id": "18a187ac-bb62-4e9b-8b0a-46fe2b87f0db",
   "metadata": {},
   "outputs": [],
   "source": [
    "lm_model = ols('values ~ C(fA) * C(fB)', data=df).fit()"
   ]
  },
  {
   "cell_type": "code",
   "execution_count": 41,
   "id": "e3591a36-5a2e-4051-92d1-c7b138a9063c",
   "metadata": {},
   "outputs": [
    {
     "data": {
      "text/html": [
       "<div>\n",
       "<style scoped>\n",
       "    .dataframe tbody tr th:only-of-type {\n",
       "        vertical-align: middle;\n",
       "    }\n",
       "\n",
       "    .dataframe tbody tr th {\n",
       "        vertical-align: top;\n",
       "    }\n",
       "\n",
       "    .dataframe thead th {\n",
       "        text-align: right;\n",
       "    }\n",
       "</style>\n",
       "<table border=\"1\" class=\"dataframe\">\n",
       "  <thead>\n",
       "    <tr style=\"text-align: right;\">\n",
       "      <th></th>\n",
       "      <th>sum_sq</th>\n",
       "      <th>df</th>\n",
       "      <th>F</th>\n",
       "      <th>PR(&gt;F)</th>\n",
       "    </tr>\n",
       "  </thead>\n",
       "  <tbody>\n",
       "    <tr>\n",
       "      <th>C(fA)</th>\n",
       "      <td>60.5</td>\n",
       "      <td>1.0</td>\n",
       "      <td>40.333333</td>\n",
       "      <td>0.003150</td>\n",
       "    </tr>\n",
       "    <tr>\n",
       "      <th>C(fB)</th>\n",
       "      <td>684.5</td>\n",
       "      <td>1.0</td>\n",
       "      <td>456.333333</td>\n",
       "      <td>0.000028</td>\n",
       "    </tr>\n",
       "    <tr>\n",
       "      <th>C(fA):C(fB)</th>\n",
       "      <td>760.5</td>\n",
       "      <td>1.0</td>\n",
       "      <td>507.000000</td>\n",
       "      <td>0.000023</td>\n",
       "    </tr>\n",
       "    <tr>\n",
       "      <th>Residual</th>\n",
       "      <td>6.0</td>\n",
       "      <td>4.0</td>\n",
       "      <td>NaN</td>\n",
       "      <td>NaN</td>\n",
       "    </tr>\n",
       "  </tbody>\n",
       "</table>\n",
       "</div>"
      ],
      "text/plain": [
       "             sum_sq   df           F    PR(>F)\n",
       "C(fA)          60.5  1.0   40.333333  0.003150\n",
       "C(fB)         684.5  1.0  456.333333  0.000028\n",
       "C(fA):C(fB)   760.5  1.0  507.000000  0.000023\n",
       "Residual        6.0  4.0         NaN       NaN"
      ]
     },
     "execution_count": 41,
     "metadata": {},
     "output_type": "execute_result"
    }
   ],
   "source": [
    "table = sm.stats.anova_lm(lm_model, typ=2)\n",
    "table"
   ]
  }
 ],
 "metadata": {
  "kernelspec": {
   "display_name": "Python 3 (ipykernel)",
   "language": "python",
   "name": "python3"
  },
  "language_info": {
   "codemirror_mode": {
    "name": "ipython",
    "version": 3
   },
   "file_extension": ".py",
   "mimetype": "text/x-python",
   "name": "python",
   "nbconvert_exporter": "python",
   "pygments_lexer": "ipython3",
   "version": "3.11.9"
  }
 },
 "nbformat": 4,
 "nbformat_minor": 5
}
