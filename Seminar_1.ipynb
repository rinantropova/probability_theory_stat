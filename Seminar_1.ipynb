{
 "cells": [
  {
   "cell_type": "markdown",
   "id": "ecd7d5ca-ef1f-4673-b2a8-492fbfb261a7",
   "metadata": {},
   "source": [
    "## Task 1\n",
    "В партии 10 деталей. Среди них 3 бракованные. Какова вероятность, что среди\r\n",
    "5 ,взятых на удачу, 4 хорошие детали?"
   ]
  },
  {
   "cell_type": "code",
   "execution_count": 9,
   "id": "813c3a43-30ea-4516-a44e-4dad0c0fd727",
   "metadata": {},
   "outputs": [],
   "source": [
    "import numpy as np\n",
    "from math import factorial"
   ]
  },
  {
   "cell_type": "code",
   "execution_count": 10,
   "id": "cd441710-28cc-4cac-b645-b0a2faef570d",
   "metadata": {},
   "outputs": [],
   "source": [
    "def combinations(n, k):\n",
    "    return np.math.factorial(n) // (np.math.factorial(k) * np.math.factorial(n - k))"
   ]
  },
  {
   "cell_type": "code",
   "execution_count": 12,
   "id": "35020d1e-f51b-4622-bfed-5e3a1f036e4c",
   "metadata": {},
   "outputs": [
    {
     "name": "stderr",
     "output_type": "stream",
     "text": [
      "C:\\Users\\Administrator\\AppData\\Local\\Temp\\ipykernel_14040\\1976221405.py:2: DeprecationWarning: `np.math` is a deprecated alias for the standard library `math` module (Deprecated Numpy 1.25). Replace usages of `np.math` with `math`\n",
      "  return np.math.factorial(n) // (np.math.factorial(k) * np.math.factorial(n - k))\n"
     ]
    },
    {
     "data": {
      "text/plain": [
       "0.4166666666666667"
      ]
     },
     "execution_count": 12,
     "metadata": {},
     "output_type": "execute_result"
    }
   ],
   "source": [
    "n = combinations(10, 5)\n",
    "m = combinations(3, 1) * combinations(7, 4)\n",
    "p = m / n\n",
    "p"
   ]
  },
  {
   "cell_type": "markdown",
   "id": "66cdd0ce-e47d-451b-9b41-a78a8b363699",
   "metadata": {},
   "source": [
    "## Task 2\n",
    "Разработали спам-фильтр на основании часто встречающихся фраз. 70% всех писем –это\r\n",
    "спам. В 10 % писем со спамом встречается фраза: «вся правда о» и в 0.5% она встречается\r\n",
    "в хороших письмах. Какова вероятность, что пришедшее на почту письмо является спамом,\r\n",
    "если в нем есть данная фраза?"
   ]
  },
  {
   "cell_type": "markdown",
   "id": "246008c9-daba-4ff2-8824-c7f23c7bf0b7",
   "metadata": {},
   "source": [
    "$$P(B|A) = \\frac{P(A|B) * P(B)}{P(A)}$$\n",
    "A - phrase is present\n",
    "\n",
    "B - spam\n",
    "\n",
    "P(A|B) = 0,1\n",
    "\n",
    "P(B) = 0,7\n",
    "$$P(A) = {P(A|B) * P(B) + P(A|notB) * P(notB)}$$"
   ]
  },
  {
   "cell_type": "code",
   "execution_count": 15,
   "id": "a0219c5a-a736-4291-82fa-e4936f285f17",
   "metadata": {},
   "outputs": [
    {
     "data": {
      "text/plain": [
       "0.979020979020979"
      ]
     },
     "execution_count": 15,
     "metadata": {},
     "output_type": "execute_result"
    }
   ],
   "source": [
    "spam_with_phrase = 0.1\n",
    "spam = 0.7\n",
    "non_spam_with_phrase = 0.005\n",
    "non_spam = 1 - spam\n",
    "\n",
    "p_a = spam_with_phrase * spam + non_spam_with_phrase * non_spam\n",
    "p_b_a = (spam_with_phrase * spam) / p_a\n",
    "p_b_a"
   ]
  },
  {
   "cell_type": "markdown",
   "id": "0f7e9bed-2a64-4592-8aab-6c0dd7dd70a4",
   "metadata": {},
   "source": [
    "## Task 3\n",
    "В ящике находится 10 красных, 5 черных, 5 зеленых шаров. Наудачу вынимают 6 шаров.\r\n",
    "Какова вероятность, что вынуты 3 красных, 2 черных, 1 зеленый?"
   ]
  },
  {
   "cell_type": "code",
   "execution_count": 16,
   "id": "43885461-c8e7-4731-826e-d76df95923d7",
   "metadata": {},
   "outputs": [
    {
     "name": "stderr",
     "output_type": "stream",
     "text": [
      "C:\\Users\\Administrator\\AppData\\Local\\Temp\\ipykernel_14040\\1976221405.py:2: DeprecationWarning: `np.math` is a deprecated alias for the standard library `math` module (Deprecated Numpy 1.25). Replace usages of `np.math` with `math`\n",
      "  return np.math.factorial(n) // (np.math.factorial(k) * np.math.factorial(n - k))\n"
     ]
    },
    {
     "data": {
      "text/plain": [
       "0.15479876160990713"
      ]
     },
     "execution_count": 16,
     "metadata": {},
     "output_type": "execute_result"
    }
   ],
   "source": [
    "n = combinations(20, 6)\n",
    "m = combinations(10, 3) * combinations(5, 2) * combinations(5, 1)\n",
    "p = m / n\n",
    "p"
   ]
  },
  {
   "cell_type": "markdown",
   "id": "fea07dd8-0692-4cb7-8081-6af0310e9d6f",
   "metadata": {},
   "source": [
    "## Task 4\n",
    "На 5 одинаковых карточках написаны буквы Ч, А, Й ,К, И\r\n",
    "Какова вероятность, что получится слова ЧАЙКИ"
   ]
  },
  {
   "cell_type": "code",
   "execution_count": 17,
   "id": "ea365409-cc7b-4745-bb80-59e63762a91b",
   "metadata": {},
   "outputs": [],
   "source": [
    "def permutations(n):\n",
    "    return np.math.factorial(n)"
   ]
  },
  {
   "cell_type": "code",
   "execution_count": 18,
   "id": "4928cca9-a97f-4360-aea6-523e83df0ea9",
   "metadata": {},
   "outputs": [
    {
     "name": "stderr",
     "output_type": "stream",
     "text": [
      "C:\\Users\\Administrator\\AppData\\Local\\Temp\\ipykernel_14040\\152184047.py:2: DeprecationWarning: `np.math` is a deprecated alias for the standard library `math` module (Deprecated Numpy 1.25). Replace usages of `np.math` with `math`\n",
      "  return np.math.factorial(n)\n"
     ]
    },
    {
     "data": {
      "text/plain": [
       "0.008333333333333333"
      ]
     },
     "execution_count": 18,
     "metadata": {},
     "output_type": "execute_result"
    }
   ],
   "source": [
    "m = 1\n",
    "n = permutations(5)\n",
    "p = m / n\n",
    "p"
   ]
  },
  {
   "cell_type": "markdown",
   "id": "27e301a4-1984-4ab6-8107-b3f885796b17",
   "metadata": {},
   "source": [
    "## Task 5\n",
    "На 5 одинаковых карточках написаны буквы Ч, А, Й ,К, А.\r\n",
    "Какова вероятность, что получится слова ЧАЙКА"
   ]
  },
  {
   "cell_type": "code",
   "execution_count": 21,
   "id": "bb8222be-feb5-4385-b1c5-aa1c982960e4",
   "metadata": {},
   "outputs": [
    {
     "name": "stderr",
     "output_type": "stream",
     "text": [
      "C:\\Users\\Administrator\\AppData\\Local\\Temp\\ipykernel_14040\\1767643019.py:2: DeprecationWarning: `np.math` is a deprecated alias for the standard library `math` module (Deprecated Numpy 1.25). Replace usages of `np.math` with `math`\n",
      "  n = np.math.factorial(5) // np.math.factorial(2)\n"
     ]
    },
    {
     "data": {
      "text/plain": [
       "0.016666666666666666"
      ]
     },
     "execution_count": 21,
     "metadata": {},
     "output_type": "execute_result"
    }
   ],
   "source": [
    "m = 1\n",
    "n = np.math.factorial(5) // np.math.factorial(2)\n",
    "p = m / n\n",
    "p"
   ]
  },
  {
   "cell_type": "markdown",
   "id": "90708e19-e7d3-4a51-a353-3be10c418111",
   "metadata": {},
   "source": [
    "## Task 6\n",
    "Какое количество семизначных номеров можно придумать, если в качестве первой\r\n",
    "цифры не может быть 0,1,7"
   ]
  },
  {
   "cell_type": "code",
   "execution_count": 19,
   "id": "d8381021-f461-4014-a99b-a88779e91b9d",
   "metadata": {},
   "outputs": [],
   "source": [
    "def arrangements_repeat(n, k):\n",
    "    return n ** k"
   ]
  },
  {
   "cell_type": "code",
   "execution_count": 20,
   "id": "b09a7f15-f591-4185-8266-efca1bb1c583",
   "metadata": {},
   "outputs": [
    {
     "data": {
      "text/plain": [
       "7000000"
      ]
     },
     "execution_count": 20,
     "metadata": {},
     "output_type": "execute_result"
    }
   ],
   "source": [
    "n_1 = arrangements_repeat(7, 1)\n",
    "n_2 = arrangements_repeat(10, 6)\n",
    "n = n_1 * n_2\n",
    "n"
   ]
  }
 ],
 "metadata": {
  "kernelspec": {
   "display_name": "Python 3 (ipykernel)",
   "language": "python",
   "name": "python3"
  },
  "language_info": {
   "codemirror_mode": {
    "name": "ipython",
    "version": 3
   },
   "file_extension": ".py",
   "mimetype": "text/x-python",
   "name": "python",
   "nbconvert_exporter": "python",
   "pygments_lexer": "ipython3",
   "version": "3.11.9"
  }
 },
 "nbformat": 4,
 "nbformat_minor": 5
}
