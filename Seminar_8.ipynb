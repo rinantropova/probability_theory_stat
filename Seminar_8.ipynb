{
 "cells": [
  {
   "cell_type": "markdown",
   "id": "05c8a5df-b681-4c2a-9a18-b5fbac68308e",
   "metadata": {},
   "source": [
    "## Task 1\n",
    "Проведено 4 эксперимента. Для каждого построить график и посчитать коэффициенты\r\n",
    "корреляции Пирсона\n",
    "\n",
    ".\r\n",
    "x = np.array([10,8, 13, 9,11,14, 6,4,12, 7,5]\r\n",
    " y = np.array([8.04, 6.95, 7.58, 8.81, 8.33, 9.96, 7.24, 4.26, 10.84, 4.82, 5.68\n",
    "\n",
    " ])\r\n",
    "x= np.array([ 10,8, 13, 9,11,14, 6,4,12, 7,5 ])\r\n",
    "y2 = np.array([ 9.14, 8.14, 8.74,8.77, 9.26, 8.10, 6.13, 3.10, 9.13, 7.26, 4\n",
    "\n",
    ".74])\r\n",
    "x= np.array([ 10,8, 13, 9,11,14, 6,4,12, 7,5 ])\r\n",
    "y3 = np.array([7.46,6.77, 12.74, 7.11, 7.81, 8.84, 6.08, 5.39, 8.15, 6.42,\n",
    "\n",
    " 5.73])\r\n",
    "x4 = np.array([8, 8, 8, 8, 8, 8, 8, 19, 8, 8, 8])\r\n",
    "y4 = np.array([6.58, 5.76, 7.71, 8.84, 8.47, 7.04, 5.25,12.5, 5.56, 7.9\n",
    "\n",
    "1, 6.89])\r\n",
    " x0= np.array([ 10, 8, 13, 9, 11, 14, 6, 4, 12, 7,5, 15, 16, 18 ])\r\n",
    " y0 = np.array([ 9.14, 8.14, 8.74,8.77, 9.26, 8.10, 6.13, 3.10, 9.13, 7.26, 4.74, 6.5, 5, 2.9])\r"
   ]
  },
  {
   "cell_type": "code",
   "execution_count": 1,
   "id": "7e817629-7a75-4fb9-a1e4-26c3e9b5ef92",
   "metadata": {},
   "outputs": [],
   "source": [
    "import matplotlib.pyplot as plt\n",
    "from scipy import stats\n",
    "import numpy as np"
   ]
  },
  {
   "cell_type": "code",
   "execution_count": 3,
   "id": "6fe01912-9c98-4982-b49b-77fc3f55b90e",
   "metadata": {},
   "outputs": [],
   "source": [
    "# 1\n",
    "x = np.array([10, 8, 13, 9, 11, 14, 6, 4, 12, 7, 5])\n",
    "y = np.array([8.04, 6.95, 7.58, 8.81, 8.33, 9.96, 7.24, 4.26, 10.84, 4.82, 5.68])         "
   ]
  },
  {
   "cell_type": "code",
   "execution_count": 4,
   "id": "f70a85a1-d02f-4ebd-ba35-9f8ed260f74b",
   "metadata": {},
   "outputs": [],
   "source": [
    "# 2\n",
    "x = np.array([ 10, 8, 13, 9, 11, 14, 6, 4, 12, 7, 5 ])\n",
    "y2 = np.array([ 9.14, 8.14, 8.74, 8.77, 9.26, 8.10, 6.13, 3.10, 9.13, 7.26, 4.74])"
   ]
  },
  {
   "cell_type": "code",
   "execution_count": 5,
   "id": "c46ce5ed-24ce-4ba6-9f65-fc239ca02de8",
   "metadata": {},
   "outputs": [],
   "source": [
    "# 3\n",
    "x = np.array([ 10, 8, 13, 9, 11, 14, 6, 4, 12, 7, 5 ])\n",
    "y3 = np.array([7.46,6.77, 12.74, 7.11, 7.81, 8.84, 6.08, 5.39, 8.15, 6.42, 5.73])"
   ]
  },
  {
   "cell_type": "code",
   "execution_count": 6,
   "id": "45a462cd-a885-4e19-8ed1-72c77c67aed4",
   "metadata": {},
   "outputs": [],
   "source": [
    "# 4\n",
    "x4 = np.array([8, 8, 8, 8, 8, 8, 8, 19, 8, 8, 8])\n",
    "y4 = np.array([6.58, 5.76, 7.71, 8.84, 8.47, 7.04, 5.25,12.5, 5.56, 7.91, 6.89])"
   ]
  },
  {
   "cell_type": "code",
   "execution_count": 7,
   "id": "575d6958-df50-40b0-8eea-5d980dade7c0",
   "metadata": {},
   "outputs": [],
   "source": [
    "# 5 \n",
    "x0= np.array([10, 8, 13, 9, 11, 14, 6, 4, 12, 7,5, 15, 16, 18])\n",
    "y0 = np.array([ 9.14, 8.14, 8.74,8.77, 9.26, 8.10, 6.13, 3.10, 9.13, 7.26, 4.74, 6.5, 5, 2.9])"
   ]
  },
  {
   "cell_type": "code",
   "execution_count": 26,
   "id": "c24bb635-7ac9-4fe2-b57b-f90352eb13ff",
   "metadata": {},
   "outputs": [
    {
     "data": {
      "text/plain": [
       "array([[1.        , 0.02245218],\n",
       "       [0.02245218, 1.        ]])"
      ]
     },
     "execution_count": 26,
     "metadata": {},
     "output_type": "execute_result"
    }
   ],
   "source": [
    "r = np.corrcoef(x0, y0)\n",
    "r"
   ]
  },
  {
   "cell_type": "code",
   "execution_count": 27,
   "id": "5964dd75-89bd-43ec-a5ff-e35a6f7b3112",
   "metadata": {},
   "outputs": [
    {
     "data": {
      "image/png": "[encoded data removed]",
      "text/plain": [
       "<Figure size 640x480 with 1 Axes>"
      ]
     },
     "metadata": {},
     "output_type": "display_data"
    }
   ],
   "source": [
    "plt.scatter(x0, y0)\n",
    "plt.title(f'r = {round(r[0][1], 3)}')\n",
    "plt.xlabel('x')\n",
    "plt.ylabel('y')\n",
    "plt.show();"
   ]
  },
  {
   "cell_type": "markdown",
   "id": "3ff1c1ae-dfd4-4f5a-a976-f17b179381c6",
   "metadata": {},
   "source": [
    "## Task 2\n",
    "Провести двусторонний тест и ответить на вопрос, есть ли статистически значимые\r\n",
    "различия между средними 2х нормально распределенных генеральных совокупностей,\r\n",
    "представленных следующими независимыми выборками:\r\n",
    " a = np.array([12, 10, 11, 19, 13, 11, 17, 15, 19, 14, 21, 18, 21, 11, 17, 14, 15, 17, 20, 19])\r\n",
    " b = np.array([11, 13, 18, 15, 17, 18, 10, 21, 26, 15, 11, 12, 15, 17, 10, 18, 18, 12,21, 20])\r\n",
    "Уровень статистической значимости принять за 5%\r\n",
    "1 . Используйте функцию в Python:\r\n",
    "2. Имея p-value из функции рассчитать наблюдаемое значение критерия."
   ]
  },
  {
   "cell_type": "code",
   "execution_count": 14,
   "id": "a5500505-a3a6-46e6-a4e3-95321a50263b",
   "metadata": {},
   "outputs": [],
   "source": [
    "a = np.array([12, 10, 11, 19, 13, 11, 17, 15, 19, 14, 21, 18, 21, 11, 17, 14, 15, 17, 20, 19])\n",
    "b = np.array([11, 13, 18, 15, 17, 18, 10, 21, 26, 15, 11, 12, 15, 17, 10, 18, 18, 12,21, 20])\n",
    "alpha = 0.05"
   ]
  },
  {
   "cell_type": "code",
   "execution_count": 28,
   "id": "29279fd3-a0b5-45d2-862e-ffe9ebcb500f",
   "metadata": {},
   "outputs": [
    {
     "data": {
      "text/plain": [
       "(3.5850567051229985, 4.290748922483052)"
      ]
     },
     "execution_count": 28,
     "metadata": {},
     "output_type": "execute_result"
    }
   ],
   "source": [
    "sigma_a = np.std(a, ddof=1)\n",
    "sigma_b = np.std(b, ddof=1)\n",
    "sigma_a, sigma_b"
   ]
  },
  {
   "cell_type": "code",
   "execution_count": 29,
   "id": "7dc94484-7876-45ce-8d87-732a1eb48ca6",
   "metadata": {},
   "outputs": [
    {
     "data": {
      "text/plain": [
       "(20, 20)"
      ]
     },
     "execution_count": 29,
     "metadata": {},
     "output_type": "execute_result"
    }
   ],
   "source": [
    "len_a = len(a)\n",
    "len_b = len(b)\n",
    "len_a, len_b"
   ]
  },
  {
   "cell_type": "code",
   "execution_count": 32,
   "id": "f70bb9f2-eee5-4f68-9f09-376297ca5855",
   "metadata": {},
   "outputs": [
    {
     "data": {
      "text/plain": [
       "TtestResult(statistic=-0.1599663264228627, pvalue=0.8737549039369696, df=38.0)"
      ]
     },
     "execution_count": 32,
     "metadata": {},
     "output_type": "execute_result"
    }
   ],
   "source": [
    "stats.ttest_ind(a, b) # H1: mu_a != mu_b two-sided critical area\n",
    "# p-value > alpha, H0 is accepted, there is no difference"
   ]
  },
  {
   "cell_type": "code",
   "execution_count": 33,
   "id": "06e08f9f-9510-44ed-bbab-e845e3f8e3eb",
   "metadata": {},
   "outputs": [
    {
     "data": {
      "text/plain": [
       "TtestResult(statistic=-0.1599663264228627, pvalue=0.4368774519684848, df=38.0)"
      ]
     },
     "execution_count": 33,
     "metadata": {},
     "output_type": "execute_result"
    }
   ],
   "source": [
    "stats.ttest_ind(a, b, alternative='less') #H1: mu_a < mu_b"
   ]
  },
  {
   "cell_type": "code",
   "execution_count": 34,
   "id": "da9ecf5e-4f0a-4ab4-92a9-6188dd9a252a",
   "metadata": {},
   "outputs": [
    {
     "data": {
      "text/plain": [
       "TtestResult(statistic=-0.1599663264228627, pvalue=0.5631225480315152, df=38.0)"
      ]
     },
     "execution_count": 34,
     "metadata": {},
     "output_type": "execute_result"
    }
   ],
   "source": [
    "stats.ttest_ind(a, b, alternative='greater') # H1: mu_a > mu_b"
   ]
  },
  {
   "cell_type": "code",
   "execution_count": 36,
   "id": "bf150951-e0e9-4a83-a26d-c4bd96737dbc",
   "metadata": {},
   "outputs": [
    {
     "data": {
      "text/plain": [
       "TtestResult(statistic=-0.1599663264228627, pvalue=0.8737549039369696, df=38.0)"
      ]
     },
     "execution_count": 36,
     "metadata": {},
     "output_type": "execute_result"
    }
   ],
   "source": [
    "stats.ttest_ind(a, b, alternative='two-sided', equal_var='True') # H1: mu_a != mu_b, dispersions are equal"
   ]
  },
  {
   "cell_type": "code",
   "execution_count": null,
   "id": "24b6aa1f-6ca1-4c89-b88b-8326e4ebf58c",
   "metadata": {},
   "outputs": [],
   "source": []
  }
 ],
 "metadata": {
  "kernelspec": {
   "display_name": "Python 3 (ipykernel)",
   "language": "python",
   "name": "python3"
  },
  "language_info": {
   "codemirror_mode": {
    "name": "ipython",
    "version": 3
   },
   "file_extension": ".py",
   "mimetype": "text/x-python",
   "name": "python",
   "nbconvert_exporter": "python",
   "pygments_lexer": "ipython3",
   "version": "3.11.9"
  }
 },
 "nbformat": 4,
 "nbformat_minor": 5
}
