{
 "cells": [
  {
   "cell_type": "markdown",
   "id": "a9d9f09b-2afd-4c08-9352-8ab15f84d82b",
   "metadata": {},
   "source": [
    "Вероятность того, что стрелок попадет в мишень, выстрелив один раз, равна 0.8. Стрелок выстрелил 100 раз. Найдите вероятность того, что стрелок попадет в цель ровно 85 раз."
   ]
  },
  {
   "cell_type": "code",
   "execution_count": 1,
   "id": "92404634-9579-4f2f-898e-7c048dce4a89",
   "metadata": {},
   "outputs": [],
   "source": [
    "import numpy as np"
   ]
  },
  {
   "cell_type": "code",
   "execution_count": 2,
   "id": "d2b12288-b5c8-4969-b195-38c4eec294fc",
   "metadata": {},
   "outputs": [],
   "source": [
    "def combinations(n, k):\n",
    "    return np.math.factorial(n) // (np.math.factorial(k) * np.math.factorial(n - k))"
   ]
  },
  {
   "cell_type": "code",
   "execution_count": 4,
   "id": "55535c6b-6558-46e3-ad0d-314ecd23c066",
   "metadata": {},
   "outputs": [],
   "source": [
    "def bernoulli(n, k, p):\n",
    "    q = 1 - p\n",
    "    return combinations(n, k) * (p ** k) * (q ** (n-k)) "
   ]
  },
  {
   "cell_type": "code",
   "execution_count": 5,
   "id": "c9d94ed8-c3e4-4796-b9f4-adfdf9473c0c",
   "metadata": {},
   "outputs": [
    {
     "name": "stderr",
     "output_type": "stream",
     "text": [
      "C:\\Users\\Administrator\\AppData\\Local\\Temp\\ipykernel_9500\\1976221405.py:2: DeprecationWarning: `np.math` is a deprecated alias for the standard library `math` module (Deprecated Numpy 1.25). Replace usages of `np.math` with `math`\n",
      "  return np.math.factorial(n) // (np.math.factorial(k) * np.math.factorial(n - k))\n"
     ]
    },
    {
     "data": {
      "text/plain": [
       "0.048061793700746355"
      ]
     },
     "execution_count": 5,
     "metadata": {},
     "output_type": "execute_result"
    }
   ],
   "source": [
    "p85 = bernoulli(100, 85, 0.8)\n",
    "p85"
   ]
  },
  {
   "cell_type": "markdown",
   "id": "58034b72-4398-4269-aa3e-b1da62616f34",
   "metadata": {},
   "source": [
    "## Task 2\n",
    "Вероятность того, что лампочка перегорит в течение первого дня эксплуатации, равна 0.0004. В жилом комплексе после ремонта в один день включили 5000 новых лампочек. Какова вероятность, что ни одна из них не перегорит в первый день? Какова вероятность, что перегорят ровно две?"
   ]
  },
  {
   "cell_type": "code",
   "execution_count": 6,
   "id": "19c6e727-8ef0-4420-8818-f6a8480cbf55",
   "metadata": {},
   "outputs": [],
   "source": [
    "import math"
   ]
  },
  {
   "cell_type": "code",
   "execution_count": 7,
   "id": "ffd35427-9842-4244-8de2-ab1df5c19576",
   "metadata": {},
   "outputs": [],
   "source": [
    "def poisson(m, n, p):\n",
    "    lam = n * p\n",
    "    return lam**m / np.math.factorial(m) * math.e ** (-lam)"
   ]
  },
  {
   "cell_type": "code",
   "execution_count": 8,
   "id": "f2b1a298-b2c1-49dd-ac51-408f77776c07",
   "metadata": {},
   "outputs": [
    {
     "name": "stderr",
     "output_type": "stream",
     "text": [
      "C:\\Users\\Administrator\\AppData\\Local\\Temp\\ipykernel_9500\\3309186834.py:3: DeprecationWarning: `np.math` is a deprecated alias for the standard library `math` module (Deprecated Numpy 1.25). Replace usages of `np.math` with `math`\n",
      "  return lam**m / np.math.factorial(m) * math.e ** (-lam)\n"
     ]
    },
    {
     "data": {
      "text/plain": [
       "0.1353352832366127"
      ]
     },
     "execution_count": 8,
     "metadata": {},
     "output_type": "execute_result"
    }
   ],
   "source": [
    "# 1\n",
    "p_m = poisson(0, 5000, 0.0004)\n",
    "p_m"
   ]
  },
  {
   "cell_type": "code",
   "execution_count": 9,
   "id": "a3c62323-d77f-4837-84f4-1d354ec09091",
   "metadata": {},
   "outputs": [
    {
     "name": "stderr",
     "output_type": "stream",
     "text": [
      "C:\\Users\\Administrator\\AppData\\Local\\Temp\\ipykernel_9500\\3309186834.py:3: DeprecationWarning: `np.math` is a deprecated alias for the standard library `math` module (Deprecated Numpy 1.25). Replace usages of `np.math` with `math`\n",
      "  return lam**m / np.math.factorial(m) * math.e ** (-lam)\n"
     ]
    },
    {
     "data": {
      "text/plain": [
       "0.2706705664732254"
      ]
     },
     "execution_count": 9,
     "metadata": {},
     "output_type": "execute_result"
    }
   ],
   "source": [
    "# 2\n",
    "p_m2 = poisson(2, 5000, 0.0004)\n",
    "p_m2"
   ]
  },
  {
   "cell_type": "markdown",
   "id": "14629f9d-bd80-4c04-9a59-f83d000402a6",
   "metadata": {},
   "source": [
    "## Task 3\n",
    "Монету подбросили 144 раза. Какова вероятность, что орел выпадет ровно 70 раз?"
   ]
  },
  {
   "cell_type": "code",
   "execution_count": 10,
   "id": "d65aa102-5ae9-46ca-81c0-400df2ed579b",
   "metadata": {},
   "outputs": [
    {
     "name": "stderr",
     "output_type": "stream",
     "text": [
      "C:\\Users\\Administrator\\AppData\\Local\\Temp\\ipykernel_9500\\1976221405.py:2: DeprecationWarning: `np.math` is a deprecated alias for the standard library `math` module (Deprecated Numpy 1.25). Replace usages of `np.math` with `math`\n",
      "  return np.math.factorial(n) // (np.math.factorial(k) * np.math.factorial(n - k))\n"
     ]
    },
    {
     "data": {
      "text/plain": [
       "0.06281178035144776"
      ]
     },
     "execution_count": 10,
     "metadata": {},
     "output_type": "execute_result"
    }
   ],
   "source": [
    "p70 = bernoulli(144, 70, 0.5)\n",
    "p70"
   ]
  },
  {
   "cell_type": "markdown",
   "id": "f53c7641-f5dd-40fc-bf74-07b4e1e24ed5",
   "metadata": {},
   "source": [
    "## Task 4\n",
    "В первом ящике находится 10 мячей, из которых 7 - белые. Во втором ящике - 11 мячей, из которых 9 белых. Из каждого ящика вытаскивают случайным образом по два мяча. Какова вероятность того, что все мячи белые? Какова вероятность того, что ровно два мяча белые? Какова вероятность того, что хотя бы один мяч белый?"
   ]
  },
  {
   "cell_type": "code",
   "execution_count": 13,
   "id": "686feba7-57cf-4d8e-8033-d2cd593bcac4",
   "metadata": {},
   "outputs": [
    {
     "name": "stderr",
     "output_type": "stream",
     "text": [
      "C:\\Users\\Administrator\\AppData\\Local\\Temp\\ipykernel_9500\\1976221405.py:2: DeprecationWarning: `np.math` is a deprecated alias for the standard library `math` module (Deprecated Numpy 1.25). Replace usages of `np.math` with `math`\n",
      "  return np.math.factorial(n) // (np.math.factorial(k) * np.math.factorial(n - k))\n"
     ]
    },
    {
     "data": {
      "text/plain": [
       "(45, 55)"
      ]
     },
     "execution_count": 13,
     "metadata": {},
     "output_type": "execute_result"
    }
   ],
   "source": [
    "c_1 = combinations(10, 2)\n",
    "c_2 = combinations(11, 2)\n",
    "c_1, c_2 #combinations for 1 and 2 boxes"
   ]
  },
  {
   "cell_type": "code",
   "execution_count": 14,
   "id": "a36dffa8-5b9b-48dd-8761-8eff51fe82d7",
   "metadata": {},
   "outputs": [
    {
     "name": "stderr",
     "output_type": "stream",
     "text": [
      "C:\\Users\\Administrator\\AppData\\Local\\Temp\\ipykernel_9500\\1976221405.py:2: DeprecationWarning: `np.math` is a deprecated alias for the standard library `math` module (Deprecated Numpy 1.25). Replace usages of `np.math` with `math`\n",
      "  return np.math.factorial(n) // (np.math.factorial(k) * np.math.factorial(n - k))\n"
     ]
    },
    {
     "data": {
      "text/plain": [
       "(21, 7, 1)"
      ]
     },
     "execution_count": 14,
     "metadata": {},
     "output_type": "execute_result"
    }
   ],
   "source": [
    "# combinations to extract 2, 1, 0 white balls from the 1st box\n",
    "com1_2 = combinations(7, 2)\n",
    "com1_1 = combinations(7, 1)\n",
    "com1_0 = combinations(7, 0)\n",
    "com1_2, com1_1, com1_0"
   ]
  },
  {
   "cell_type": "code",
   "execution_count": 15,
   "id": "694da1de-429e-4534-8ea4-5ec0ae800f49",
   "metadata": {},
   "outputs": [
    {
     "name": "stderr",
     "output_type": "stream",
     "text": [
      "C:\\Users\\Administrator\\AppData\\Local\\Temp\\ipykernel_9500\\1976221405.py:2: DeprecationWarning: `np.math` is a deprecated alias for the standard library `math` module (Deprecated Numpy 1.25). Replace usages of `np.math` with `math`\n",
      "  return np.math.factorial(n) // (np.math.factorial(k) * np.math.factorial(n - k))\n"
     ]
    },
    {
     "data": {
      "text/plain": [
       "(36, 9, 1)"
      ]
     },
     "execution_count": 15,
     "metadata": {},
     "output_type": "execute_result"
    }
   ],
   "source": [
    "# combintations to extract 2, 1, 0 white ballse from the 2nd box\n",
    "com2_2 = combinations(9, 2)\n",
    "com2_1 = combinations(9, 1)\n",
    "com2_0 = combinations(9, 0)\n",
    "com2_2, com2_1, com2_0"
   ]
  },
  {
   "cell_type": "code",
   "execution_count": 27,
   "id": "001b108b-b13f-4b8d-9b68-41453c9fe949",
   "metadata": {},
   "outputs": [
    {
     "data": {
      "text/plain": [
       "(0.6545454545454545, 0.3054545454545455)"
      ]
     },
     "execution_count": 27,
     "metadata": {},
     "output_type": "execute_result"
    }
   ],
   "source": [
    "# 1 - all 4 balls are white\n",
    "p1 = com1_2 / c_1\n",
    "p2 = com2_2 / c_2\n",
    "P = p1 * p2\n",
    "p2, P"
   ]
  },
  {
   "cell_type": "code",
   "execution_count": 18,
   "id": "a3e4f964-6998-43f4-954a-c6e798a99c79",
   "metadata": {},
   "outputs": [
    {
     "name": "stderr",
     "output_type": "stream",
     "text": [
      "C:\\Users\\Administrator\\AppData\\Local\\Temp\\ipykernel_9500\\1976221405.py:2: DeprecationWarning: `np.math` is a deprecated alias for the standard library `math` module (Deprecated Numpy 1.25). Replace usages of `np.math` with `math`\n",
      "  return np.math.factorial(n) // (np.math.factorial(k) * np.math.factorial(n - k))\n"
     ]
    },
    {
     "data": {
      "text/plain": [
       "(3, 3, 2, 1)"
      ]
     },
     "execution_count": 18,
     "metadata": {},
     "output_type": "execute_result"
    }
   ],
   "source": [
    "# combinations for black balls\n",
    "cb1_1 = combinations(3, 1)\n",
    "cb1_2 = combinations(3, 2)\n",
    "\n",
    "cb2_1 = combinations(2, 1)\n",
    "cb2_2 = combinations(2, 2)\n",
    "\n",
    "cb1_1, cb1_2, cb2_1, cb2_2"
   ]
  },
  {
   "cell_type": "code",
   "execution_count": 30,
   "id": "b5729d2f-b4e3-4c9b-b224-7f09ba13dd4b",
   "metadata": {},
   "outputs": [
    {
     "data": {
      "text/plain": [
       "0.15272727272727274"
      ]
     },
     "execution_count": 30,
     "metadata": {},
     "output_type": "execute_result"
    }
   ],
   "source": [
    "# just precisely 2 balls are white\n",
    "# 2.1 - one white from every box\n",
    "p_box1 = com1_1 * cb1_1 / c_1\n",
    "p_box2 = com2_1 * cb2_1 / c_2\n",
    "P_1 = p_box1 * p_box2\n",
    "P_1"
   ]
  },
  {
   "cell_type": "code",
   "execution_count": 31,
   "id": "a023127c-3951-4591-b5d4-8920b55f3a83",
   "metadata": {},
   "outputs": [
    {
     "data": {
      "text/plain": [
       "0.008484848484848484"
      ]
     },
     "execution_count": 31,
     "metadata": {},
     "output_type": "execute_result"
    }
   ],
   "source": [
    "# 2.2 - 2 whites from the first box\n",
    "p_box_all = p1\n",
    "p_box_no = com2_0 / c_2\n",
    "P_2 = p_box_all * p_box_no\n",
    "P_2"
   ]
  },
  {
   "cell_type": "code",
   "execution_count": 33,
   "id": "dc7535ed-f497-4563-8658-16d0b5505e2f",
   "metadata": {},
   "outputs": [
    {
     "data": {
      "text/plain": [
       "0.04363636363636363"
      ]
     },
     "execution_count": 33,
     "metadata": {},
     "output_type": "execute_result"
    }
   ],
   "source": [
    "# 2.3 - 2 whites from 2nd box\n",
    "p_box_all2 = p2\n",
    "p_box_no = cb1_2 / c_1\n",
    "P_3 = p_box_all2 * p_box_no\n",
    "P_3"
   ]
  },
  {
   "cell_type": "code",
   "execution_count": 34,
   "id": "ae27f3b5-ca37-4942-b955-003e9e0e9bf2",
   "metadata": {},
   "outputs": [
    {
     "data": {
      "text/plain": [
       "0.20484848484848486"
      ]
     },
     "execution_count": 34,
     "metadata": {},
     "output_type": "execute_result"
    }
   ],
   "source": [
    "P_two_whites = P_1 + P_2 + P_3\n",
    "P_two_whites"
   ]
  },
  {
   "cell_type": "code",
   "execution_count": 35,
   "id": "1ebd28e1-26c5-4e7e-81fb-275b10761fc8",
   "metadata": {},
   "outputs": [
    {
     "data": {
      "text/plain": [
       "0.9995959595959596"
      ]
     },
     "execution_count": 35,
     "metadata": {},
     "output_type": "execute_result"
    }
   ],
   "source": [
    "# 3 - at least one is white\n",
    "p0_1 = com1_0 / c_1\n",
    "p0_2 = com2_0 / c_2\n",
    "P_0 = p0_1 * p0_2\n",
    "P1 = 1 - P_0\n",
    "P1"
   ]
  }
 ],
 "metadata": {
  "kernelspec": {
   "display_name": "Python 3 (ipykernel)",
   "language": "python",
   "name": "python3"
  },
  "language_info": {
   "codemirror_mode": {
    "name": "ipython",
    "version": 3
   },
   "file_extension": ".py",
   "mimetype": "text/x-python",
   "name": "python",
   "nbconvert_exporter": "python",
   "pygments_lexer": "ipython3",
   "version": "3.11.9"
  }
 },
 "nbformat": 4,
 "nbformat_minor": 5
}
