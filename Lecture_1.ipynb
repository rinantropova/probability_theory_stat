{
 "cells": [
  {
   "cell_type": "code",
   "execution_count": 1,
   "id": "d5fd0d1b-1bd9-4814-b4da-2c0bf5158d43",
   "metadata": {},
   "outputs": [],
   "source": [
    "import numpy as np"
   ]
  },
  {
   "cell_type": "markdown",
   "id": "4e70dd67-2dcd-45fc-802d-035fe3af2150",
   "metadata": {},
   "source": [
    "## Task 1\n",
    "\n",
    "Creating a model where dice is tossed 60 times. We will find a frequency for event A - dice will result in 3."
   ]
  },
  {
   "cell_type": "code",
   "execution_count": 2,
   "id": "7eff2be3-348d-4d83-906c-1633a0808767",
   "metadata": {},
   "outputs": [
    {
     "data": {
      "text/plain": [
       "array([6, 4, 5, 1, 2, 4, 6, 1, 1, 2, 5, 6, 5, 2, 3, 5, 6, 3, 5, 4, 5, 3,\n",
       "       5, 6, 3, 5, 2, 2, 1, 6, 2, 2, 6, 2, 2, 1, 5, 2, 1, 1, 6, 4, 3, 2,\n",
       "       1, 4, 6, 2, 2, 4, 5, 1, 2, 4, 5, 3, 5, 1, 6, 4])"
      ]
     },
     "execution_count": 2,
     "metadata": {},
     "output_type": "execute_result"
    }
   ],
   "source": [
    "np.random.seed(1)\n",
    "n = 60\n",
    "b = np.random.randint(1, 7, n)\n",
    "b"
   ]
  },
  {
   "cell_type": "code",
   "execution_count": 3,
   "id": "e7be189e-b2fa-457d-aa55-73d570fe3bb2",
   "metadata": {},
   "outputs": [
    {
     "data": {
      "text/plain": [
       "array([3, 3, 3, 3, 3, 3])"
      ]
     },
     "execution_count": 3,
     "metadata": {},
     "output_type": "execute_result"
    }
   ],
   "source": [
    "a = b [b == 3]\n",
    "a"
   ]
  },
  {
   "cell_type": "code",
   "execution_count": 4,
   "id": "213bcac0-f6e5-415a-a972-60bb98e354a3",
   "metadata": {},
   "outputs": [
    {
     "data": {
      "text/plain": [
       "6"
      ]
     },
     "execution_count": 4,
     "metadata": {},
     "output_type": "execute_result"
    }
   ],
   "source": [
    "m = len(a)\n",
    "m"
   ]
  },
  {
   "cell_type": "code",
   "execution_count": 5,
   "id": "174c906c-a443-4beb-be98-29b5648f3beb",
   "metadata": {},
   "outputs": [
    {
     "data": {
      "text/plain": [
       "0.1"
      ]
     },
     "execution_count": 5,
     "metadata": {},
     "output_type": "execute_result"
    }
   ],
   "source": [
    "# now we can calculate relative frequence of the event A\n",
    "\n",
    "W = m/n\n",
    "W"
   ]
  },
  {
   "cell_type": "markdown",
   "id": "edf89db9-c1f8-47d0-8e31-0cb36d3a4d28",
   "metadata": {},
   "source": [
    "## Task 2\n",
    "\n",
    "2 dices are tossed 360 times each. Event is - 1st dice shows 1, 2nd dice shows 2"
   ]
  },
  {
   "cell_type": "code",
   "execution_count": 6,
   "id": "80559682-6325-4756-bcd2-620bc0f1c461",
   "metadata": {},
   "outputs": [
    {
     "data": {
      "text/plain": [
       "array([6, 4, 5, 1, 2, 4, 6, 1, 1, 2, 5, 6, 5, 2, 3, 5, 6, 3, 5, 4, 5, 3,\n",
       "       5, 6, 3, 5, 2, 2, 1, 6, 2, 2, 6, 2, 2, 1, 5, 2, 1, 1, 6, 4, 3, 2,\n",
       "       1, 4, 6, 2, 2, 4, 5, 1, 2, 4, 5, 3, 5, 1, 6, 4, 2, 3, 1, 5, 2, 3,\n",
       "       3, 2, 1, 2, 4, 6, 5, 4, 6, 2, 4, 1, 1, 3, 3, 2, 4, 5, 3, 1, 1, 2,\n",
       "       2, 6, 4, 1, 1, 6, 6, 5, 6, 3, 5, 4, 6, 4, 6, 1, 4, 5, 4, 5, 5, 6,\n",
       "       5, 2, 1, 5, 3, 1, 6, 3, 5, 2, 2, 1, 3, 5, 5, 1, 5, 2, 5, 2, 1, 3,\n",
       "       4, 2, 3, 5, 5, 3, 3, 1, 2, 3, 3, 1, 6, 2, 3, 5, 1, 6, 6, 2, 3, 2,\n",
       "       6, 5, 3, 1, 6, 1, 2, 6, 1, 2, 4, 2, 2, 6, 5, 5, 4, 6, 1, 4, 1, 4,\n",
       "       2, 3, 6, 6, 5, 6, 1, 6, 1, 6, 4, 2, 2, 6, 1, 6, 1, 5, 3, 6, 4, 5,\n",
       "       3, 1, 6, 4, 4, 6, 6, 2, 3, 5, 4, 1, 1, 6, 5, 3, 5, 3, 1, 6, 4, 1,\n",
       "       1, 5, 6, 3, 2, 1, 5, 4, 1, 2, 3, 5, 5, 4, 4, 4, 4, 3, 4, 4, 6, 5,\n",
       "       4, 3, 5, 5, 1, 4, 4, 1, 4, 6, 6, 2, 1, 3, 3, 3, 1, 3, 2, 5, 1, 5,\n",
       "       5, 2, 4, 2, 5, 2, 3, 6, 2, 1, 1, 3, 5, 2, 1, 1, 4, 2, 1, 5, 4, 3,\n",
       "       4, 5, 6, 5, 4, 1, 1, 1, 5, 6, 2, 6, 5, 2, 3, 6, 3, 6, 5, 6, 4, 5,\n",
       "       5, 1, 4, 3, 5, 6, 4, 5, 3, 4, 1, 6, 6, 3, 2, 4, 3, 1, 6, 2, 5, 2,\n",
       "       4, 4, 2, 3, 1, 3, 5, 1, 3, 5, 4, 5, 4, 1, 6, 6, 5, 3, 3, 5, 2, 3,\n",
       "       6, 2, 2, 2, 1, 6, 6, 5])"
      ]
     },
     "execution_count": 6,
     "metadata": {},
     "output_type": "execute_result"
    }
   ],
   "source": [
    "n = 360\n",
    "np.random.seed(1)\n",
    "c = np.random.randint(1, 7, size=n)\n",
    "d = np.random.randint(1, 7, size=n)\n",
    "c"
   ]
  },
  {
   "cell_type": "code",
   "execution_count": 7,
   "id": "5921f1dd-3814-4a3f-a1b5-797a46012e97",
   "metadata": {},
   "outputs": [
    {
     "data": {
      "text/plain": [
       "array([5, 3, 3, 4, 2, 5, 1, 1, 4, 3, 5, 2, 4, 2, 2, 3, 6, 6, 5, 6, 1, 4,\n",
       "       1, 5, 3, 4, 6, 2, 2, 5, 5, 1, 3, 2, 4, 1, 2, 1, 6, 3, 3, 5, 4, 3,\n",
       "       3, 3, 1, 6, 3, 1, 5, 6, 2, 6, 1, 3, 4, 1, 5, 4, 4, 4, 1, 4, 2, 3,\n",
       "       1, 2, 5, 3, 4, 5, 6, 5, 3, 2, 3, 6, 1, 6, 4, 6, 4, 3, 1, 1, 1, 1,\n",
       "       3, 5, 1, 5, 2, 3, 2, 3, 5, 2, 4, 6, 2, 6, 2, 3, 5, 2, 1, 3, 6, 2,\n",
       "       3, 1, 1, 6, 4, 5, 2, 6, 1, 5, 1, 4, 3, 5, 4, 3, 5, 3, 5, 1, 1, 6,\n",
       "       5, 3, 3, 5, 3, 4, 6, 1, 1, 5, 4, 5, 4, 4, 5, 1, 6, 4, 6, 2, 5, 5,\n",
       "       4, 3, 3, 3, 3, 3, 1, 3, 2, 6, 3, 4, 6, 1, 1, 6, 6, 6, 2, 2, 4, 4,\n",
       "       6, 4, 2, 4, 4, 4, 2, 4, 1, 5, 6, 1, 6, 6, 3, 5, 5, 3, 1, 4, 6, 3,\n",
       "       5, 6, 1, 5, 6, 3, 4, 5, 3, 5, 2, 4, 5, 4, 1, 4, 1, 5, 4, 1, 6, 4,\n",
       "       2, 5, 5, 6, 3, 6, 6, 3, 5, 3, 2, 3, 4, 2, 6, 6, 4, 4, 1, 5, 4, 4,\n",
       "       6, 4, 4, 1, 3, 4, 6, 2, 6, 4, 3, 6, 4, 3, 6, 3, 1, 5, 1, 2, 4, 1,\n",
       "       1, 1, 2, 3, 5, 5, 3, 1, 2, 1, 1, 6, 3, 6, 5, 4, 1, 3, 2, 4, 4, 2,\n",
       "       5, 5, 5, 6, 1, 2, 1, 2, 3, 3, 5, 6, 6, 3, 5, 6, 1, 6, 3, 6, 5, 5,\n",
       "       2, 2, 2, 2, 6, 5, 6, 4, 5, 2, 2, 6, 2, 3, 5, 4, 3, 4, 4, 3, 4, 1,\n",
       "       3, 1, 2, 6, 1, 6, 1, 4, 5, 1, 1, 6, 1, 1, 2, 1, 6, 2, 4, 4, 5, 6,\n",
       "       1, 2, 6, 1, 4, 3, 2, 2])"
      ]
     },
     "execution_count": 7,
     "metadata": {},
     "output_type": "execute_result"
    }
   ],
   "source": [
    "d"
   ]
  },
  {
   "cell_type": "code",
   "execution_count": 8,
   "id": "e6c19cc9-0d9d-493b-9722-abadd94b5313",
   "metadata": {},
   "outputs": [
    {
     "data": {
      "text/plain": [
       "array([1, 1, 1, 1, 1, 1, 1, 1, 1, 1, 1, 1])"
      ]
     },
     "execution_count": 8,
     "metadata": {},
     "output_type": "execute_result"
    }
   ],
   "source": [
    "a = c[(c == 1) & (d == 2)]\n",
    "a"
   ]
  },
  {
   "cell_type": "code",
   "execution_count": 9,
   "id": "09fda626-a39d-4d70-9662-8eaddaa5bf4d",
   "metadata": {},
   "outputs": [
    {
     "data": {
      "text/plain": [
       "12"
      ]
     },
     "execution_count": 9,
     "metadata": {},
     "output_type": "execute_result"
    }
   ],
   "source": [
    "m = len(a)\n",
    "m"
   ]
  },
  {
   "cell_type": "code",
   "execution_count": 10,
   "id": "832c1630-76f6-47e7-b9d5-c30d00409e46",
   "metadata": {},
   "outputs": [
    {
     "data": {
      "text/plain": [
       "0.03333333333333333"
      ]
     },
     "execution_count": 10,
     "metadata": {},
     "output_type": "execute_result"
    }
   ],
   "source": [
    "W = m / n\n",
    "W"
   ]
  },
  {
   "cell_type": "markdown",
   "id": "7c3f5fc7-b8f4-4a3e-b04d-9db52f467152",
   "metadata": {},
   "source": [
    "## Task 3\n",
    "How many combinations exist for 4 cards from 36."
   ]
  },
  {
   "cell_type": "code",
   "execution_count": 11,
   "id": "2b3ad2c4-27ae-4c87-a3f4-070c9dae28d5",
   "metadata": {},
   "outputs": [],
   "source": [
    "from math import factorial"
   ]
  },
  {
   "cell_type": "code",
   "execution_count": 14,
   "id": "41645104-455f-4eec-a611-01b839e13a6b",
   "metadata": {},
   "outputs": [
    {
     "name": "stderr",
     "output_type": "stream",
     "text": [
      "C:\\Users\\Administrator\\AppData\\Local\\Temp\\ipykernel_7044\\1814717036.py:2: DeprecationWarning: `np.math` is a deprecated alias for the standard library `math` module (Deprecated Numpy 1.25). Replace usages of `np.math` with `math`\n",
      "  return np.math.factorial(n) // (np.math.factorial(k) * np.math.factorial(n - k))\n"
     ]
    },
    {
     "data": {
      "text/plain": [
       "58905"
      ]
     },
     "execution_count": 14,
     "metadata": {},
     "output_type": "execute_result"
    }
   ],
   "source": [
    "def combinations(n, k):\n",
    "    return np.math.factorial(n) // (np.math.factorial(k) * np.math.factorial(n - k))\n",
    "\n",
    "combinations(36, 4)"
   ]
  },
  {
   "cell_type": "markdown",
   "id": "5ece8582-9c78-4d0b-b1cc-154fccf8a2ff",
   "metadata": {},
   "source": [
    "## Task 3\n",
    "There are 20 customers in the shop. Calculate the amount of ways, how they can create a line in 5 persons"
   ]
  },
  {
   "cell_type": "code",
   "execution_count": 17,
   "id": "04a4b9f8-b465-4868-b5f9-3c2a2eeb3ccb",
   "metadata": {},
   "outputs": [
    {
     "name": "stderr",
     "output_type": "stream",
     "text": [
      "C:\\Users\\Administrator\\AppData\\Local\\Temp\\ipykernel_7044\\986820548.py:2: DeprecationWarning: `np.math` is a deprecated alias for the standard library `math` module (Deprecated Numpy 1.25). Replace usages of `np.math` with `math`\n",
      "  return np.math.factorial(n) // np.math.factorial(n - k)\n"
     ]
    },
    {
     "data": {
      "text/plain": [
       "1860480"
      ]
     },
     "execution_count": 17,
     "metadata": {},
     "output_type": "execute_result"
    }
   ],
   "source": [
    "def arrangements(n, k):\n",
    "    return np.math.factorial(n) // np.math.factorial(n - k)\n",
    "\n",
    "arrangements(20, 5)"
   ]
  },
  {
   "cell_type": "markdown",
   "id": "ab46efba-b28c-4991-a884-bd6cbb54f943",
   "metadata": {},
   "source": [
    "## Task 4\n",
    "Calculate the amount of ways how 5 customers can create a line."
   ]
  },
  {
   "cell_type": "code",
   "execution_count": 18,
   "id": "b7c34afe-e8bc-4ba5-908f-a3db043affce",
   "metadata": {},
   "outputs": [
    {
     "name": "stderr",
     "output_type": "stream",
     "text": [
      "C:\\Users\\Administrator\\AppData\\Local\\Temp\\ipykernel_7044\\2451456325.py:2: DeprecationWarning: `np.math` is a deprecated alias for the standard library `math` module (Deprecated Numpy 1.25). Replace usages of `np.math` with `math`\n",
      "  return np.math.factorial(n)\n"
     ]
    },
    {
     "data": {
      "text/plain": [
       "120"
      ]
     },
     "execution_count": 18,
     "metadata": {},
     "output_type": "execute_result"
    }
   ],
   "source": [
    "def permutations(n):\n",
    "    return np.math.factorial(n)\n",
    "\n",
    "permutations(5)"
   ]
  },
  {
   "cell_type": "code",
   "execution_count": null,
   "id": "b5e0505a-5fad-43ca-87d2-8423ca33cad0",
   "metadata": {},
   "outputs": [],
   "source": []
  }
 ],
 "metadata": {
  "kernelspec": {
   "display_name": "Python 3 (ipykernel)",
   "language": "python",
   "name": "python3"
  },
  "language_info": {
   "codemirror_mode": {
    "name": "ipython",
    "version": 3
   },
   "file_extension": ".py",
   "mimetype": "text/x-python",
   "name": "python",
   "nbconvert_exporter": "python",
   "pygments_lexer": "ipython3",
   "version": "3.11.9"
  }
 },
 "nbformat": 4,
 "nbformat_minor": 5
}
