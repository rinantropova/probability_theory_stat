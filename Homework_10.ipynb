{
 "cells": [
  {
   "cell_type": "markdown",
   "id": "d6fd26bf-307e-461e-9509-1e6d66a3cf47",
   "metadata": {},
   "source": [
    "## Task\n",
    "Провести дисперсионный анализ для определения того, есть ли различия\r\n",
    "среднего роста среди взрослых футболистов, хоккеистов и штангистов. Даны\r\n",
    "значения роста в трех группах случайно выбранных спортсменов: Футболисты:\r\n",
    "173, 175, 180, 178, 177, 185, 183, 182. Хоккеисты: 177, 179, 180, 188, 177, 172, 171,\r\n",
    "184, 180. Штангисты: 172, 173, 169, 177, 166, 180, 178, 177, 172, 166, 170."
   ]
  },
  {
   "cell_type": "code",
   "execution_count": 1,
   "id": "24676dad-38dd-4eb4-ae5c-d49ca67cce88",
   "metadata": {},
   "outputs": [],
   "source": [
    "import numpy as np\n",
    "from scipy import stats\n",
    "from statsmodels.stats.multicomp import pairwise_tukeyhsd\n",
    "import pandas as pd"
   ]
  },
  {
   "cell_type": "code",
   "execution_count": 2,
   "id": "5c429b17-8063-48d0-9028-0efc3933edc9",
   "metadata": {},
   "outputs": [],
   "source": [
    "football = np.array([173, 175, 180, 178, 177, 185, 183, 182])\n",
    "hockey = np.array([177, 179, 180, 188, 177, 172, 171, 184, 180])\n",
    "weightlift = np.array([172, 173, 169, 177, 166, 180, 178, 177, 172, 166, 170])"
   ]
  },
  {
   "cell_type": "code",
   "execution_count": 3,
   "id": "55181fe8-88b6-4dda-a1c9-b8172c226e45",
   "metadata": {},
   "outputs": [
    {
     "name": "stdout",
     "output_type": "stream",
     "text": [
      "ShapiroResult(statistic=0.9775081982196379, pvalue=0.9495400664151513)\n",
      "ShapiroResult(statistic=0.957919718551844, pvalue=0.7763139669394437)\n",
      "ShapiroResult(statistic=0.9386807421264948, pvalue=0.5051151338730138)\n"
     ]
    }
   ],
   "source": [
    "# проверка на нормальность\n",
    "# H0: normal\n",
    "print(stats.shapiro(football))\n",
    "print(stats.shapiro(hockey))\n",
    "print(stats.shapiro(weightlift))"
   ]
  },
  {
   "cell_type": "code",
   "execution_count": 4,
   "id": "f35ecd16-42cd-480c-8196-927e8dcc7acc",
   "metadata": {},
   "outputs": [],
   "source": [
    "# при alpha = 0.05\n",
    "# p-value > alpha => H0 is accepted, the distribution is normal"
   ]
  },
  {
   "cell_type": "code",
   "execution_count": 5,
   "id": "cd0c303e-90ce-4393-a030-6888d51ea3fb",
   "metadata": {},
   "outputs": [
    {
     "data": {
      "text/plain": [
       "BartlettResult(statistic=0.4640521043406442, pvalue=0.7929254656083131)"
      ]
     },
     "execution_count": 5,
     "metadata": {},
     "output_type": "execute_result"
    }
   ],
   "source": [
    "# проверим равенство дисперсий\n",
    "\n",
    "#H0: дисперсии равны\n",
    "stats.bartlett(football, hockey, weightlift)"
   ]
  },
  {
   "cell_type": "code",
   "execution_count": 6,
   "id": "d3f1eca9-9041-4d7c-8332-d8d3dd176c35",
   "metadata": {},
   "outputs": [],
   "source": [
    "# при alpha = 0.05\n",
    "# p-value > alpha => H0 is accepted, variances equal for all samples"
   ]
  },
  {
   "cell_type": "code",
   "execution_count": 7,
   "id": "60830833-2652-477a-ab31-c70f771ebcd5",
   "metadata": {},
   "outputs": [
    {
     "data": {
      "text/plain": [
       "F_onewayResult(statistic=5.500053450812596, pvalue=0.010482206918698694)"
      ]
     },
     "execution_count": 7,
     "metadata": {},
     "output_type": "execute_result"
    }
   ],
   "source": [
    "stats.f_oneway(football, hockey, weightlift)"
   ]
  },
  {
   "cell_type": "code",
   "execution_count": 9,
   "id": "e302e5e8-18b3-4006-bd7e-7c431ddabf0a",
   "metadata": {},
   "outputs": [],
   "source": [
    "# при alpha = 0.05\n",
    "# p-value < alpha => H0 is rejected, есть статистически значимые отличия в среднем росте спортсменов в зависимости от вида спорта"
   ]
  },
  {
   "cell_type": "code",
   "execution_count": 11,
   "id": "15206a42-1953-44a9-9e7c-8c07d117a024",
   "metadata": {},
   "outputs": [
    {
     "data": {
      "text/html": [
       "<div>\n",
       "<style scoped>\n",
       "    .dataframe tbody tr th:only-of-type {\n",
       "        vertical-align: middle;\n",
       "    }\n",
       "\n",
       "    .dataframe tbody tr th {\n",
       "        vertical-align: top;\n",
       "    }\n",
       "\n",
       "    .dataframe thead th {\n",
       "        text-align: right;\n",
       "    }\n",
       "</style>\n",
       "<table border=\"1\" class=\"dataframe\">\n",
       "  <thead>\n",
       "    <tr style=\"text-align: right;\">\n",
       "      <th></th>\n",
       "      <th>score</th>\n",
       "      <th>group</th>\n",
       "    </tr>\n",
       "  </thead>\n",
       "  <tbody>\n",
       "    <tr>\n",
       "      <th>0</th>\n",
       "      <td>173</td>\n",
       "      <td>football</td>\n",
       "    </tr>\n",
       "    <tr>\n",
       "      <th>1</th>\n",
       "      <td>175</td>\n",
       "      <td>football</td>\n",
       "    </tr>\n",
       "    <tr>\n",
       "      <th>2</th>\n",
       "      <td>180</td>\n",
       "      <td>football</td>\n",
       "    </tr>\n",
       "    <tr>\n",
       "      <th>3</th>\n",
       "      <td>178</td>\n",
       "      <td>football</td>\n",
       "    </tr>\n",
       "    <tr>\n",
       "      <th>4</th>\n",
       "      <td>177</td>\n",
       "      <td>football</td>\n",
       "    </tr>\n",
       "    <tr>\n",
       "      <th>5</th>\n",
       "      <td>185</td>\n",
       "      <td>football</td>\n",
       "    </tr>\n",
       "    <tr>\n",
       "      <th>6</th>\n",
       "      <td>183</td>\n",
       "      <td>football</td>\n",
       "    </tr>\n",
       "    <tr>\n",
       "      <th>7</th>\n",
       "      <td>182</td>\n",
       "      <td>football</td>\n",
       "    </tr>\n",
       "    <tr>\n",
       "      <th>8</th>\n",
       "      <td>177</td>\n",
       "      <td>hockey</td>\n",
       "    </tr>\n",
       "    <tr>\n",
       "      <th>9</th>\n",
       "      <td>179</td>\n",
       "      <td>hockey</td>\n",
       "    </tr>\n",
       "    <tr>\n",
       "      <th>10</th>\n",
       "      <td>180</td>\n",
       "      <td>hockey</td>\n",
       "    </tr>\n",
       "    <tr>\n",
       "      <th>11</th>\n",
       "      <td>188</td>\n",
       "      <td>hockey</td>\n",
       "    </tr>\n",
       "    <tr>\n",
       "      <th>12</th>\n",
       "      <td>177</td>\n",
       "      <td>hockey</td>\n",
       "    </tr>\n",
       "    <tr>\n",
       "      <th>13</th>\n",
       "      <td>172</td>\n",
       "      <td>hockey</td>\n",
       "    </tr>\n",
       "    <tr>\n",
       "      <th>14</th>\n",
       "      <td>171</td>\n",
       "      <td>hockey</td>\n",
       "    </tr>\n",
       "    <tr>\n",
       "      <th>15</th>\n",
       "      <td>184</td>\n",
       "      <td>hockey</td>\n",
       "    </tr>\n",
       "    <tr>\n",
       "      <th>16</th>\n",
       "      <td>180</td>\n",
       "      <td>hockey</td>\n",
       "    </tr>\n",
       "    <tr>\n",
       "      <th>17</th>\n",
       "      <td>172</td>\n",
       "      <td>weightlift</td>\n",
       "    </tr>\n",
       "    <tr>\n",
       "      <th>18</th>\n",
       "      <td>173</td>\n",
       "      <td>weightlift</td>\n",
       "    </tr>\n",
       "    <tr>\n",
       "      <th>19</th>\n",
       "      <td>169</td>\n",
       "      <td>weightlift</td>\n",
       "    </tr>\n",
       "    <tr>\n",
       "      <th>20</th>\n",
       "      <td>177</td>\n",
       "      <td>weightlift</td>\n",
       "    </tr>\n",
       "    <tr>\n",
       "      <th>21</th>\n",
       "      <td>166</td>\n",
       "      <td>weightlift</td>\n",
       "    </tr>\n",
       "    <tr>\n",
       "      <th>22</th>\n",
       "      <td>180</td>\n",
       "      <td>weightlift</td>\n",
       "    </tr>\n",
       "    <tr>\n",
       "      <th>23</th>\n",
       "      <td>178</td>\n",
       "      <td>weightlift</td>\n",
       "    </tr>\n",
       "    <tr>\n",
       "      <th>24</th>\n",
       "      <td>177</td>\n",
       "      <td>weightlift</td>\n",
       "    </tr>\n",
       "    <tr>\n",
       "      <th>25</th>\n",
       "      <td>172</td>\n",
       "      <td>weightlift</td>\n",
       "    </tr>\n",
       "    <tr>\n",
       "      <th>26</th>\n",
       "      <td>166</td>\n",
       "      <td>weightlift</td>\n",
       "    </tr>\n",
       "    <tr>\n",
       "      <th>27</th>\n",
       "      <td>170</td>\n",
       "      <td>weightlift</td>\n",
       "    </tr>\n",
       "  </tbody>\n",
       "</table>\n",
       "</div>"
      ],
      "text/plain": [
       "    score       group\n",
       "0     173    football\n",
       "1     175    football\n",
       "2     180    football\n",
       "3     178    football\n",
       "4     177    football\n",
       "5     185    football\n",
       "6     183    football\n",
       "7     182    football\n",
       "8     177      hockey\n",
       "9     179      hockey\n",
       "10    180      hockey\n",
       "11    188      hockey\n",
       "12    177      hockey\n",
       "13    172      hockey\n",
       "14    171      hockey\n",
       "15    184      hockey\n",
       "16    180      hockey\n",
       "17    172  weightlift\n",
       "18    173  weightlift\n",
       "19    169  weightlift\n",
       "20    177  weightlift\n",
       "21    166  weightlift\n",
       "22    180  weightlift\n",
       "23    178  weightlift\n",
       "24    177  weightlift\n",
       "25    172  weightlift\n",
       "26    166  weightlift\n",
       "27    170  weightlift"
      ]
     },
     "execution_count": 11,
     "metadata": {},
     "output_type": "execute_result"
    }
   ],
   "source": [
    "# poc host test Tukey\n",
    "df = pd.DataFrame({'score': [173, 175, 180, 178, 177, 185, 183, 182,\n",
    "                            177, 179, 180, 188, 177, 172, 171, 184, 180,\n",
    "                            172, 173, 169, 177, 166, 180, 178, 177, 172, 166, 170],\n",
    "                  'group': np.repeat([\"football\", \"hockey\", \"weightlift\"], repeats=[8, 9, 11])})\n",
    "df"
   ]
  },
  {
   "cell_type": "code",
   "execution_count": 13,
   "id": "6a5ae0d7-8e44-4ef6-8da1-b2930b30f407",
   "metadata": {},
   "outputs": [
    {
     "name": "stdout",
     "output_type": "stream",
     "text": [
      "    Multiple Comparison of Means - Tukey HSD, FWER=0.05    \n",
      "===========================================================\n",
      " group1    group2   meandiff p-adj   lower    upper  reject\n",
      "-----------------------------------------------------------\n",
      "football     hockey  -0.4583  0.979  -6.2732  5.3566  False\n",
      "football weightlift  -6.3977 0.0219 -11.9583 -0.8372   True\n",
      "  hockey weightlift  -5.9394 0.0284 -11.3181 -0.5607   True\n",
      "-----------------------------------------------------------\n"
     ]
    }
   ],
   "source": [
    "tukey = pairwise_tukeyhsd(df['score'], df['group'], alpha=0.05)\n",
    "print(tukey)"
   ]
  },
  {
   "cell_type": "code",
   "execution_count": null,
   "id": "72850450-b247-4bda-b0cf-da47dde361a8",
   "metadata": {},
   "outputs": [],
   "source": [
    "# Для групп футболистов и хоккеистов нулевая гипотеза (что средний рост одинаковый) не отвергается, соответственно\n",
    "# средний рост футболистов и хоккеистов равен при допустимой ошибке в 5%.\n",
    "# Для группы футболисты-штангисты и хоккеисты-штангисты нулевая гипотеза отвергается, так как p-value < alpha, соответственно \n",
    "# средний рост этих групп спортсменов отличается."
   ]
  }
 ],
 "metadata": {
  "kernelspec": {
   "display_name": "Python 3 (ipykernel)",
   "language": "python",
   "name": "python3"
  },
  "language_info": {
   "codemirror_mode": {
    "name": "ipython",
    "version": 3
   },
   "file_extension": ".py",
   "mimetype": "text/x-python",
   "name": "python",
   "nbconvert_exporter": "python",
   "pygments_lexer": "ipython3",
   "version": "3.11.9"
  }
 },
 "nbformat": 4,
 "nbformat_minor": 5
}
