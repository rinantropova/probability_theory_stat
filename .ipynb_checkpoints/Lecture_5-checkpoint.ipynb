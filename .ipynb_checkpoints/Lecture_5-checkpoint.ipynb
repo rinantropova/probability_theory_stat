{
 "cells": [
  {
   "cell_type": "markdown",
   "id": "06ac4639-322e-4e6e-8b91-4cb1523810e5",
   "metadata": {},
   "source": [
    "## распределение стьюдента\n",
    "продавец утверждает, что он изготавливает детали размером 10мм. Взята выборка из 12 деталей. Сигма генеральной совокупности неизвестна"
   ]
  },
  {
   "cell_type": "code",
   "execution_count": 1,
   "id": "03c5775a-0bdc-415a-8b23-d88842d29d53",
   "metadata": {},
   "outputs": [],
   "source": [
    "import numpy as np\n",
    "from scipy import stats"
   ]
  },
  {
   "cell_type": "code",
   "execution_count": 2,
   "id": "70924d11-c32a-46bb-b032-daefc6ab0b01",
   "metadata": {},
   "outputs": [
    {
     "data": {
      "text/plain": [
       "10.110000000000001"
      ]
     },
     "execution_count": 2,
     "metadata": {},
     "output_type": "execute_result"
    }
   ],
   "source": [
    "x = np.array([10.50, 9.94, 10.42, 10.47, 10.4, 9.93, 9.17, 9.26, 10.11, 10.15, 10.5, 10.47])\n",
    "\n",
    "np.mean(x)"
   ]
  },
  {
   "cell_type": "code",
   "execution_count": 3,
   "id": "3cc891e6-45f8-46f1-ae71-717295f0b45d",
   "metadata": {},
   "outputs": [
    {
     "data": {
      "text/plain": [
       "0.4683238972412927"
      ]
     },
     "execution_count": 3,
     "metadata": {},
     "output_type": "execute_result"
    }
   ],
   "source": [
    "np.std(x, ddof=1)"
   ]
  },
  {
   "cell_type": "code",
   "execution_count": 4,
   "id": "d2a86610-9265-43ce-b611-1c7b30ffea49",
   "metadata": {},
   "outputs": [
    {
     "data": {
      "text/plain": [
       "12"
      ]
     },
     "execution_count": 4,
     "metadata": {},
     "output_type": "execute_result"
    }
   ],
   "source": [
    "len(x)"
   ]
  },
  {
   "cell_type": "code",
   "execution_count": 5,
   "id": "4bccaaf5-feae-4292-8398-9ee2e94c173e",
   "metadata": {},
   "outputs": [
    {
     "data": {
      "text/plain": [
       "0.8142119180879295"
      ]
     },
     "execution_count": 5,
     "metadata": {},
     "output_type": "execute_result"
    }
   ],
   "source": [
    "t = (10.11 - 10)/(0.468/np.sqrt(12))\n",
    "t"
   ]
  },
  {
   "cell_type": "markdown",
   "id": "2a32e046-bf40-483b-bc3e-a57da6fbf215",
   "metadata": {},
   "source": [
    "t табличное = 1,8\n",
    "\n",
    "t расчетное = 0,814\n",
    "альфа = 0,05\n",
    "вывод в пользу нулевой гипотезы"
   ]
  },
  {
   "cell_type": "code",
   "execution_count": 8,
   "id": "ec1c6751-538c-45c2-8a39-e7abbb0092f6",
   "metadata": {},
   "outputs": [
    {
     "data": {
      "text/plain": [
       "TtestResult(statistic=0.8136488014166606, pvalue=0.43310585815519953, df=11)"
      ]
     },
     "execution_count": 8,
     "metadata": {},
     "output_type": "execute_result"
    }
   ],
   "source": [
    "stats.ttest_1samp(x, 10) # одновыборочный тест"
   ]
  },
  {
   "cell_type": "code",
   "execution_count": 9,
   "id": "ce8f7582-abb0-4b18-b450-c8df54531617",
   "metadata": {},
   "outputs": [],
   "source": [
    "# двувыборочный тест может быть:\n",
    "# с независимыми выборками\n",
    "# stats.ttest_ind()\n",
    "# с зависимыми выборками\n",
    "# stats.ttest-rel()"
   ]
  },
  {
   "cell_type": "markdown",
   "id": "5b154899-3906-416f-a6f9-03a62e940f09",
   "metadata": {},
   "source": [
    "## Тест Шапиро-Уилка\n",
    "проверка на нормальность"
   ]
  },
  {
   "cell_type": "code",
   "execution_count": 10,
   "id": "1bf1867c-6bbc-4e55-a5da-2fdb278775c7",
   "metadata": {},
   "outputs": [],
   "source": [
    "import pylab"
   ]
  },
  {
   "cell_type": "code",
   "execution_count": 11,
   "id": "2a91ebfc-bf06-43e3-a56e-c020d236e1c8",
   "metadata": {},
   "outputs": [
    {
     "data": {
      "text/plain": [
       "array([ 1.31147765,  1.54896248,  0.01372958, -0.73536114, -0.37525874,\n",
       "        0.29080182,  0.6666039 , -1.0087812 ,  0.30312138, -1.43988932,\n",
       "       -0.06790646,  0.83715991,  1.54153077, -0.57573929, -1.84546823,\n",
       "        0.83021625,  2.3589057 ,  1.15627141, -0.54860939, -0.93693526,\n",
       "        1.412541  ,  0.2419401 ,  1.3995412 ,  0.54663571, -1.16219509,\n",
       "        0.58761321,  1.43224134, -0.68219561,  0.44164524, -0.64976509,\n",
       "        0.19246553, -0.30838783,  0.07375869, -0.40341069,  0.56004074,\n",
       "       -0.97152587,  0.16748467, -0.23189517, -1.03273303, -0.97729787,\n",
       "       -0.69965916, -0.17777707,  0.53322669, -1.01220447,  0.5133404 ,\n",
       "       -0.08852229, -0.67279931, -2.02238639,  0.40433663, -0.99747181])"
      ]
     },
     "execution_count": 11,
     "metadata": {},
     "output_type": "execute_result"
    }
   ],
   "source": [
    "s = np.random.normal(0, 1, 50)\n",
    "s"
   ]
  },
  {
   "cell_type": "code",
   "execution_count": 12,
   "id": "3246d55d-d774-4b36-812e-326f247c68f8",
   "metadata": {},
   "outputs": [
    {
     "data": {
      "text/plain": [
       "ShapiroResult(statistic=0.9834288188998346, pvalue=0.7025339809809922)"
      ]
     },
     "execution_count": 12,
     "metadata": {},
     "output_type": "execute_result"
    }
   ],
   "source": [
    "stats.shapiro(s)"
   ]
  },
  {
   "cell_type": "markdown",
   "id": "f2391b3f-3312-44b1-bff7-d4812da6ee54",
   "metadata": {},
   "source": [
    "Вероятность(уровень квантили) = 97,5%\n",
    "\n",
    "Соответствующая этой вероятности квантиль = 1,96"
   ]
  },
  {
   "cell_type": "code",
   "execution_count": 14,
   "id": "730b80eb-6609-48ed-bc0b-cb8ed6bb7f5d",
   "metadata": {},
   "outputs": [
    {
     "data": {
      "image/png": "[encoded data removed]",
      "text/plain": [
       "<Figure size 640x480 with 1 Axes>"
      ]
     },
     "metadata": {},
     "output_type": "display_data"
    }
   ],
   "source": [
    "stats.probplot(s, dist='norm', plot=pylab)\n",
    "pylab.show()"
   ]
  },
  {
   "cell_type": "code",
   "execution_count": 16,
   "id": "635acc9a-46ed-4680-a723-fda29dac8bbc",
   "metadata": {},
   "outputs": [
    {
     "data": {
      "text/plain": [
       "0.9750021048517795"
      ]
     },
     "execution_count": 16,
     "metadata": {},
     "output_type": "execute_result"
    }
   ],
   "source": [
    "stats.norm.cdf(1.96)"
   ]
  },
  {
   "cell_type": "code",
   "execution_count": 18,
   "id": "b4fc9412-818c-4a78-891e-7d3cae7d9a4b",
   "metadata": {},
   "outputs": [
    {
     "data": {
      "text/plain": [
       "1.959963984540054"
      ]
     },
     "execution_count": 18,
     "metadata": {},
     "output_type": "execute_result"
    }
   ],
   "source": [
    "stats.norm.ppf(0.975)"
   ]
  },
  {
   "cell_type": "code",
   "execution_count": 19,
   "id": "3a9d0083-9d9d-4244-92b0-ac996dfe0b57",
   "metadata": {},
   "outputs": [
    {
     "data": {
      "text/plain": [
       "-1.2815515655446004"
      ]
     },
     "execution_count": 19,
     "metadata": {},
     "output_type": "execute_result"
    }
   ],
   "source": [
    "stats.norm.ppf(0.10)"
   ]
  },
  {
   "cell_type": "code",
   "execution_count": 20,
   "id": "adcd0fb8-3ff1-43a2-9756-bae6162cfa54",
   "metadata": {},
   "outputs": [
    {
     "data": {
      "text/plain": [
       "-0.8416212335729142"
      ]
     },
     "execution_count": 20,
     "metadata": {},
     "output_type": "execute_result"
    }
   ],
   "source": [
    "stats.norm.ppf(0.20)"
   ]
  }
 ],
 "metadata": {
  "kernelspec": {
   "display_name": "Python 3 (ipykernel)",
   "language": "python",
   "name": "python3"
  },
  "language_info": {
   "codemirror_mode": {
    "name": "ipython",
    "version": 3
   },
   "file_extension": ".py",
   "mimetype": "text/x-python",
   "name": "python",
   "nbconvert_exporter": "python",
   "pygments_lexer": "ipython3",
   "version": "3.11.9"
  }
 },
 "nbformat": 4,
 "nbformat_minor": 5
}
