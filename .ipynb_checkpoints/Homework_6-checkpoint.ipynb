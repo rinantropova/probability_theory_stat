{
 "cells": [
  {
   "cell_type": "markdown",
   "id": "0f08e7b8-10fc-4e9c-941a-00d586c6a3ff",
   "metadata": {},
   "source": [
    "## Task 1\n",
    "Известно, что генеральная совокупность распределена нормально со средним квадратическим отклонением, равным 16. Найти доверительный интервал для оценки математического ожидания a с надежностью 0.95, если выборочная средняя M = 80, а объем выборки n = 256."
   ]
  },
  {
   "cell_type": "code",
   "execution_count": 2,
   "id": "60d3a3c7-ad81-4739-b5b6-40eb6dc50a0e",
   "metadata": {},
   "outputs": [],
   "source": [
    "import numpy as np\n",
    "from scipy import stats"
   ]
  },
  {
   "cell_type": "code",
   "execution_count": 2,
   "id": "883c4d0d-98a8-4227-8512-2f53959b7bee",
   "metadata": {},
   "outputs": [],
   "source": [
    "std = 16\n",
    "alpha = 0.05\n",
    "sample_mean = 80\n",
    "n = 256"
   ]
  },
  {
   "cell_type": "code",
   "execution_count": 10,
   "id": "a2637b47-63b2-493f-99e5-8086a05f6b64",
   "metadata": {},
   "outputs": [
    {
     "data": {
      "text/plain": [
       "1.959963984540054"
      ]
     },
     "execution_count": 10,
     "metadata": {},
     "output_type": "execute_result"
    }
   ],
   "source": [
    "z = stats.norm.ppf((1 - alpha / 2))\n",
    "z"
   ]
  },
  {
   "cell_type": "code",
   "execution_count": 11,
   "id": "a324dbd4-d37f-4294-9161-f8f183b905ec",
   "metadata": {},
   "outputs": [
    {
     "data": {
      "text/plain": [
       "78.04003601545995"
      ]
     },
     "execution_count": 11,
     "metadata": {},
     "output_type": "execute_result"
    }
   ],
   "source": [
    "x = sample_mean - z * std / np.sqrt(n)\n",
    "x"
   ]
  },
  {
   "cell_type": "code",
   "execution_count": 13,
   "id": "d3610208-34bd-45ef-8a30-30d912d01577",
   "metadata": {},
   "outputs": [
    {
     "data": {
      "text/plain": [
       "81.95996398454005"
      ]
     },
     "execution_count": 13,
     "metadata": {},
     "output_type": "execute_result"
    }
   ],
   "source": [
    "y = sample_mean + z * std / np.sqrt(n)\n",
    "y"
   ]
  },
  {
   "cell_type": "code",
   "execution_count": 15,
   "id": "c009b5ed-537b-4c17-b09b-b2c13fb4f1b6",
   "metadata": {},
   "outputs": [
    {
     "name": "stdout",
     "output_type": "stream",
     "text": [
      "p(78.040 < mu < 81.960) = 0.95\n",
      "Доверительный интервал математического ожидания составляет (78.040; 81.960)\n"
     ]
    }
   ],
   "source": [
    "print(f'p({x:.3f} < mu < {y:.3f}) = 0.95')\n",
    "print(f'Доверительный интервал математического ожидания составляет ({x:.3f}; {y:.3f})')"
   ]
  },
  {
   "cell_type": "markdown",
   "id": "28b87935-cf89-4c5e-8abf-064cdb8f64a6",
   "metadata": {},
   "source": [
    "## Task 2\n",
    "В результате 10 независимых измерений некоторой величины X, выполненных с одинаковой точностью, получены опытные данные: 6.9, 6.1, 6.2, 6.8, 7.5, 6.3, 6.4, 6.9, 6.7, 6.1 Предполагая, что результаты измерений подчинены нормальному закону распределения вероятностей, оценить истинное значение величины X при помощи доверительного интервала, покрывающего это значение с доверительной вероятностью 0,95."
   ]
  },
  {
   "cell_type": "code",
   "execution_count": 16,
   "id": "cb73985f-76b4-4240-ac39-5ce81c210a46",
   "metadata": {},
   "outputs": [],
   "source": [
    "n = 10\n",
    "x = np.array([6.9, 6.1, 6.2, 6.8, 7.5, 6.3, 6.4, 6.9, 6.7, 6.1])\n",
    "alpha = 0.05"
   ]
  },
  {
   "cell_type": "code",
   "execution_count": 18,
   "id": "6caf50ca-542e-4558-b663-11aafd6c565d",
   "metadata": {},
   "outputs": [
    {
     "data": {
      "text/plain": [
       "6.590000000000001"
      ]
     },
     "execution_count": 18,
     "metadata": {},
     "output_type": "execute_result"
    }
   ],
   "source": [
    "x_mean = np.mean(x)\n",
    "x_mean"
   ]
  },
  {
   "cell_type": "code",
   "execution_count": 19,
   "id": "a983c26b-8484-4f57-b6d4-3cc92c2827ec",
   "metadata": {},
   "outputs": [
    {
     "data": {
      "text/plain": [
       "0.4508017549014448"
      ]
     },
     "execution_count": 19,
     "metadata": {},
     "output_type": "execute_result"
    }
   ],
   "source": [
    "x_std = np.std(x, ddof=1)\n",
    "x_std"
   ]
  },
  {
   "cell_type": "code",
   "execution_count": 24,
   "id": "23e1e000-c89a-4e2e-88b0-e532e339b8f4",
   "metadata": {},
   "outputs": [],
   "source": [
    "# x_var = np.var(x, ddof=1)\n",
    "# sigma = np.sqrt(x_var)\n",
    "# sigma"
   ]
  },
  {
   "cell_type": "code",
   "execution_count": 20,
   "id": "2e651769-1e42-487e-b4e4-e853d70e8e31",
   "metadata": {},
   "outputs": [
    {
     "data": {
      "text/plain": [
       "9"
      ]
     },
     "execution_count": 20,
     "metadata": {},
     "output_type": "execute_result"
    }
   ],
   "source": [
    "df = n - 1\n",
    "df"
   ]
  },
  {
   "cell_type": "code",
   "execution_count": 22,
   "id": "db5dceaf-72ad-4698-b705-e2747be3ded4",
   "metadata": {},
   "outputs": [
    {
     "data": {
      "text/plain": [
       "2.2621571628540993"
      ]
     },
     "execution_count": 22,
     "metadata": {},
     "output_type": "execute_result"
    }
   ],
   "source": [
    "t = stats.t.ppf(1 - alpha/2, df)\n",
    "t"
   ]
  },
  {
   "cell_type": "code",
   "execution_count": 25,
   "id": "22852d1d-9275-471e-b3ac-a2161149adb4",
   "metadata": {},
   "outputs": [],
   "source": [
    "x = x_mean - t * x_std / np.sqrt(n)\n",
    "y = x_mean + t * x_std / np.sqrt(n)"
   ]
  },
  {
   "cell_type": "code",
   "execution_count": 27,
   "id": "f16c47fe-3bbe-47fd-beb0-d4d4ecf37aad",
   "metadata": {},
   "outputs": [
    {
     "name": "stdout",
     "output_type": "stream",
     "text": [
      "p(6.268 < x_mean < 6.912) = 0.95\n",
      "Истинное значение величины Х находится в диапазоне (6.268; 6.912)\n"
     ]
    }
   ],
   "source": [
    "print(f'p({x:.3f} < x_mean < {y:.3f}) = 0.95')\n",
    "print(f'Истинное значение величины Х находится в диапазоне ({x:.3f}; {y:.3f})')"
   ]
  },
  {
   "cell_type": "markdown",
   "id": "b5eb4225-4bde-46ed-b0f4-b2c58e361c86",
   "metadata": {},
   "source": [
    "## Task 3\n",
    "Рост дочерей 175, 167, 154, 174, 178, 148, 160, 167, 169, 170 Рост матерей  178, 165, 165, 173, 168, 155, 160, 164, 178, 175 Используя эти данные построить 95% доверительный интервал для разности среднего роста родителей и детей."
   ]
  },
  {
   "cell_type": "code",
   "execution_count": 28,
   "id": "06c7c312-2a33-41a2-8072-caea91f8011d",
   "metadata": {},
   "outputs": [],
   "source": [
    "mothers = np.array([178, 165, 165, 173, 168, 155, 160, 164, 178, 175])\n",
    "daughters = np.array([175, 167, 154, 174, 178, 148, 160, 167, 169, 170])\n",
    "alpha = 0.05"
   ]
  },
  {
   "cell_type": "code",
   "execution_count": 30,
   "id": "74381693-22f9-4fd1-8b29-80420b563738",
   "metadata": {},
   "outputs": [
    {
     "data": {
      "text/plain": [
       "(10, 10)"
      ]
     },
     "execution_count": 30,
     "metadata": {},
     "output_type": "execute_result"
    }
   ],
   "source": [
    "n_mothers = len(mothers)\n",
    "n_daughters = len(daughters)\n",
    "n_mothers, n_daughters"
   ]
  },
  {
   "cell_type": "code",
   "execution_count": 31,
   "id": "8f9f17c3-7784-45ca-96fc-6cd4b2d381ae",
   "metadata": {},
   "outputs": [
    {
     "data": {
      "text/plain": [
       "(168.1, 166.2)"
      ]
     },
     "execution_count": 31,
     "metadata": {},
     "output_type": "execute_result"
    }
   ],
   "source": [
    "mothers_mean = np.mean(mothers)\n",
    "daughters_mean = np.mean(daughters)\n",
    "mothers_mean, daughters_mean"
   ]
  },
  {
   "cell_type": "code",
   "execution_count": 37,
   "id": "7df1209a-f3c7-46ec-9b7b-a007dcc6dfc6",
   "metadata": {},
   "outputs": [
    {
     "data": {
      "text/plain": [
       "1.9000000000000057"
      ]
     },
     "execution_count": 37,
     "metadata": {},
     "output_type": "execute_result"
    }
   ],
   "source": [
    "delta = mothers_mean - daughters_mean\n",
    "delta"
   ]
  },
  {
   "cell_type": "code",
   "execution_count": 32,
   "id": "8b06d7a1-f55d-4905-a7e0-890a3abe93db",
   "metadata": {},
   "outputs": [
    {
     "data": {
      "text/plain": [
       "(54.09000000000001, 81.96000000000001)"
      ]
     },
     "execution_count": 32,
     "metadata": {},
     "output_type": "execute_result"
    }
   ],
   "source": [
    "mothers_var = np.var(mothers)\n",
    "daughters_var = np.var(daughters)\n",
    "mothers_var, daughters_var"
   ]
  },
  {
   "cell_type": "code",
   "execution_count": 33,
   "id": "44204db3-39f9-4936-b19d-598ae0bd8997",
   "metadata": {},
   "outputs": [
    {
     "data": {
      "text/plain": [
       "68.025"
      ]
     },
     "execution_count": 33,
     "metadata": {},
     "output_type": "execute_result"
    }
   ],
   "source": [
    "d = (mothers_var + daughters_var) / 2\n",
    "d"
   ]
  },
  {
   "cell_type": "code",
   "execution_count": 34,
   "id": "86f70566-c105-400d-b4ce-1629012ba1d1",
   "metadata": {},
   "outputs": [
    {
     "data": {
      "text/plain": [
       "3.688495628301598"
      ]
     },
     "execution_count": 34,
     "metadata": {},
     "output_type": "execute_result"
    }
   ],
   "source": [
    "s_delta = np.sqrt(d / n_mothers + d / n_daughters)\n",
    "s_delta"
   ]
  },
  {
   "cell_type": "code",
   "execution_count": 36,
   "id": "15bd2d92-2b6d-4888-9bd5-8b088eba0692",
   "metadata": {},
   "outputs": [
    {
     "data": {
      "text/plain": [
       "0.975"
      ]
     },
     "execution_count": 36,
     "metadata": {},
     "output_type": "execute_result"
    }
   ],
   "source": [
    "p = 1 - alpha / 2\n",
    "p"
   ]
  },
  {
   "cell_type": "code",
   "execution_count": 35,
   "id": "cd7ff8b1-6444-4d89-93dc-6db14254ef0a",
   "metadata": {},
   "outputs": [
    {
     "data": {
      "text/plain": [
       "2.10092204024096"
      ]
     },
     "execution_count": 35,
     "metadata": {},
     "output_type": "execute_result"
    }
   ],
   "source": [
    "df = 2 * (n_mothers - 1)\n",
    "t = stats.t.ppf((1 - alpha / 2), df)\n",
    "t"
   ]
  },
  {
   "cell_type": "code",
   "execution_count": 39,
   "id": "6d73bba9-bbc0-4adf-aab7-cc5ae83d749f",
   "metadata": {},
   "outputs": [
    {
     "data": {
      "text/plain": [
       "(-5.84924176083125, 9.649241760831261)"
      ]
     },
     "execution_count": 39,
     "metadata": {},
     "output_type": "execute_result"
    }
   ],
   "source": [
    "x = delta - t * s_delta\n",
    "y = delta + t * s_delta\n",
    "x, y"
   ]
  },
  {
   "cell_type": "code",
   "execution_count": 42,
   "id": "63ce0cd1-ed65-4a6a-9eac-356fccb5efab",
   "metadata": {},
   "outputs": [
    {
     "name": "stdout",
     "output_type": "stream",
     "text": [
      "Интервал для разности среднего роста родителей и детей составляет (-5.849; 9.649)\n",
      "Это значит, что существует значение разности delta = 0, соответственно существуют значения среднего роста матерей равное среднему росту дочерей. Из этого можно сделать вывод, что различий существенных нет.\n"
     ]
    }
   ],
   "source": [
    "print(f'Интервал для разности среднего роста родителей и детей составляет ({x:.3f}; {y:.3f})')\n",
    "print('Это значит, что существует значение разности delta = 0, соответственно существуют значения среднего роста матерей равное среднему росту дочерей. Из этого можно сделать вывод, что различий существенных нет.')"
   ]
  },
  {
   "cell_type": "markdown",
   "id": "156cfe30-c6a9-4a96-bb2a-35abcf2d5c56",
   "metadata": {},
   "source": [
    "#### Solution from teacher"
   ]
  },
  {
   "cell_type": "code",
   "execution_count": 4,
   "id": "16679853-fa55-44fd-b1f8-c063b2a9881e",
   "metadata": {},
   "outputs": [
    {
     "name": "stdout",
     "output_type": "stream",
     "text": [
      "10 10\n",
      ">>> 95% доверительный интервал для разности среднего роста родителей и детей: [-6.27, 10.07]\n"
     ]
    }
   ],
   "source": [
    "mum = np.array([178, 165, 165, 173, 168, 155, 160, 164, 178, 175])\n",
    "daut = np.array([175, 167, 154, 174, 178, 148, 160, 167, 169, 170])\n",
    "m = len(mum)\n",
    "d = len(daut)\n",
    "print(m, d)\n",
    "a = 0.975\n",
    "means = np.mean(mum) - np.mean(daut)\n",
    "error = np.sqrt(np.var(mum, ddof=1)/m + np.var(daut, ddof=1)/d)\n",
    "t_crit = stats.t.ppf( a, m+d-2 )\n",
    "left = means - t_crit * error\n",
    "right = means + t_crit * error\n",
    "\n",
    "print(f'>>> 95% доверительный интервал для разности среднего роста родителей и детей: [{left:.2f}, {right:.2f}]')"
   ]
  }
 ],
 "metadata": {
  "kernelspec": {
   "display_name": "Python 3 (ipykernel)",
   "language": "python",
   "name": "python3"
  },
  "language_info": {
   "codemirror_mode": {
    "name": "ipython",
    "version": 3
   },
   "file_extension": ".py",
   "mimetype": "text/x-python",
   "name": "python",
   "nbconvert_exporter": "python",
   "pygments_lexer": "ipython3",
   "version": "3.11.9"
  }
 },
 "nbformat": 4,
 "nbformat_minor": 5
}
