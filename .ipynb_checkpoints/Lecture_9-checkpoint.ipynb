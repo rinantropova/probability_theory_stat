{
 "cells": [
  {
   "cell_type": "markdown",
   "id": "9a5b100d-674c-42cd-a836-6f3a8a10a915",
   "metadata": {},
   "source": [
    "# Linear Regression. Logistics Regression."
   ]
  },
  {
   "cell_type": "code",
   "execution_count": 12,
   "id": "e15b196a-7173-496c-a640-c5ad936441b9",
   "metadata": {},
   "outputs": [],
   "source": [
    "import numpy as np\n",
    "from scipy import stats\n",
    "import pylab"
   ]
  },
  {
   "cell_type": "code",
   "execution_count": 5,
   "id": "be9648ac-ebaa-4f25-aa24-b100a7016c4c",
   "metadata": {},
   "outputs": [],
   "source": [
    "s = np.array([27, 37, 42, 48, 57, 56, 77, 80])\n",
    "p = np.array([1.2, 1.6, 1.8, 1.8, 2.5, 2.6, 3, 3.3])"
   ]
  },
  {
   "cell_type": "code",
   "execution_count": 6,
   "id": "c7d1f6f3-f1cb-4b12-9565-bd5d388b8347",
   "metadata": {},
   "outputs": [
    {
     "data": {
      "text/plain": [
       "0.03874584717607981"
      ]
     },
     "execution_count": 6,
     "metadata": {},
     "output_type": "execute_result"
    }
   ],
   "source": [
    "n = 8\n",
    "\n",
    "b1 = (n*np.sum(p*s)-np.sum(s)*np.sum(p))/(n* np.sum(s**2)-np.sum(s)**2)\n",
    "b1"
   ]
  },
  {
   "cell_type": "code",
   "execution_count": 8,
   "id": "6b28accc-1735-4b70-936f-5c39569f74dd",
   "metadata": {},
   "outputs": [
    {
     "data": {
      "text/plain": [
       "array([1.21760797, 1.60506645, 1.79879568, 2.03127076, 2.37998339,\n",
       "       2.34123754, 3.15490033, 3.27113787])"
      ]
     },
     "execution_count": 8,
     "metadata": {},
     "output_type": "execute_result"
    }
   ],
   "source": [
    "# another way\n",
    "b1 = (np.mean(s*p) - np.mean(s) * np.mean(p)) / (np.mean(s**2) - np.mean(s)**2)\n",
    "b0 = np.mean(p) - b1 * np.mean(s)\n",
    "\n",
    "y_pred = b0 + b1 * s\n",
    "y_pred"
   ]
  },
  {
   "cell_type": "code",
   "execution_count": 9,
   "id": "2db9346d-95a2-4db4-94f5-d5df9c847c54",
   "metadata": {},
   "outputs": [
    {
     "data": {
      "text/plain": [
       "array([-0.01760797, -0.00506645,  0.00120432, -0.23127076,  0.12001661,\n",
       "        0.25876246, -0.15490033,  0.02886213])"
      ]
     },
     "execution_count": 9,
     "metadata": {},
     "output_type": "execute_result"
    }
   ],
   "source": [
    "resid = p - y_pred\n",
    "resid"
   ]
  },
  {
   "cell_type": "code",
   "execution_count": 10,
   "id": "3c5eeee5-ae16-4ed0-a122-1a639625a720",
   "metadata": {},
   "outputs": [
    {
     "data": {
      "text/plain": [
       "ShapiroResult(statistic=0.9600728412338091, pvalue=0.8107934979656635)"
      ]
     },
     "execution_count": 10,
     "metadata": {},
     "output_type": "execute_result"
    }
   ],
   "source": [
    "stats.shapiro(resid)"
   ]
  },
  {
   "cell_type": "code",
   "execution_count": 13,
   "id": "b013e5db-91bc-4728-a94d-24f8de4db382",
   "metadata": {},
   "outputs": [
    {
     "data": {
      "image/png": "[encoded data removed]",
      "text/plain": [
       "<Figure size 640x480 with 1 Axes>"
      ]
     },
     "metadata": {},
     "output_type": "display_data"
    }
   ],
   "source": [
    "stats.probplot(resid, dist='norm', plot=pylab)\n",
    "pylab.show();"
   ]
  },
  {
   "cell_type": "code",
   "execution_count": 15,
   "id": "48f1d840-5c5f-4dfb-a5fe-abc0f850139c",
   "metadata": {},
   "outputs": [
    {
     "data": {
      "text/plain": [
       "0.020001557308970096"
      ]
     },
     "execution_count": 15,
     "metadata": {},
     "output_type": "execute_result"
    }
   ],
   "source": [
    "mse = ((p - y_pred)**2).sum() / n\n",
    "mse"
   ]
  },
  {
   "cell_type": "code",
   "execution_count": 16,
   "id": "4fcd5917-64c0-4ae0-8038-bb05e97c8565",
   "metadata": {},
   "outputs": [
    {
     "data": {
      "text/plain": [
       "array([[27],\n",
       "       [37],\n",
       "       [42],\n",
       "       [48],\n",
       "       [57],\n",
       "       [56],\n",
       "       [77],\n",
       "       [80]])"
      ]
     },
     "execution_count": 16,
     "metadata": {},
     "output_type": "execute_result"
    }
   ],
   "source": [
    "# Matrix\n",
    "\n",
    "x = s.reshape(8, 1)\n",
    "x"
   ]
  },
  {
   "cell_type": "code",
   "execution_count": 17,
   "id": "e4a0b4a9-de73-48d7-b446-11c81b6dfb54",
   "metadata": {},
   "outputs": [
    {
     "data": {
      "text/plain": [
       "array([[1.2],\n",
       "       [1.6],\n",
       "       [1.8],\n",
       "       [1.8],\n",
       "       [2.5],\n",
       "       [2.6],\n",
       "       [3. ],\n",
       "       [3.3]])"
      ]
     },
     "execution_count": 17,
     "metadata": {},
     "output_type": "execute_result"
    }
   ],
   "source": [
    "y = p.reshape(8, 1)\n",
    "y"
   ]
  },
  {
   "cell_type": "code",
   "execution_count": 18,
   "id": "0045786d-55ea-4d04-b879-85669dfdd825",
   "metadata": {},
   "outputs": [
    {
     "data": {
      "text/plain": [
       "array([[ 1., 27.],\n",
       "       [ 1., 37.],\n",
       "       [ 1., 42.],\n",
       "       [ 1., 48.],\n",
       "       [ 1., 57.],\n",
       "       [ 1., 56.],\n",
       "       [ 1., 77.],\n",
       "       [ 1., 80.]])"
      ]
     },
     "execution_count": 18,
     "metadata": {},
     "output_type": "execute_result"
    }
   ],
   "source": [
    "X = np.hstack([np.ones((8, 1)), x])\n",
    "X"
   ]
  },
  {
   "cell_type": "code",
   "execution_count": 19,
   "id": "c26517fa-aea7-4fa8-963e-7974d9a5c361",
   "metadata": {},
   "outputs": [
    {
     "data": {
      "text/plain": [
       "array([[0.1714701 ],\n",
       "       [0.03874585]])"
      ]
     },
     "execution_count": 19,
     "metadata": {},
     "output_type": "execute_result"
    }
   ],
   "source": [
    "B = np.dot(np.linalg.inv(np.dot(X.T, X)), X.T @ y)\n",
    "B"
   ]
  },
  {
   "cell_type": "code",
   "execution_count": 20,
   "id": "28353ab4-6132-4407-8202-28b893de304b",
   "metadata": {},
   "outputs": [
    {
     "name": "stdout",
     "output_type": "stream",
     "text": [
      "B1 = 0.09963717500000001\n",
      "B1 = 0.0992766067715\n",
      "B1 = 0.09891828127738128\n",
      "B1 = 0.09856218456783597\n",
      "B1 = 0.09820830277982404\n",
      "B1 = 0.09785662213653352\n",
      "B1 = 0.09750712894684428\n",
      "B1 = 0.09715980960479491\n",
      "B1 = 0.09681465058905309\n",
      "B1 = 0.09647163846238918\n"
     ]
    }
   ],
   "source": [
    "# Градиентный спуск\n",
    "x = np.array([27, 37, 42, 48, 57, 56, 77, 80])\n",
    "y = np.array([1.2, 1.6, 1.8, 1.8, 2.5, 2.6, 3, 3.3])\n",
    "\n",
    "def mse_(B1, y = y, x = x, n = 8):\n",
    "    return np.sum((B1 * x - y)**2) / n\n",
    "\n",
    "alpha = 1e-6\n",
    "\n",
    "#mse = 1/n * np.sum((B1 * x - y)**2)\n",
    "#mse = (2/n) * np.sum((B1 * X - y) * X)\n",
    "\n",
    "B1 = 0.1\n",
    "n = 8\n",
    "\n",
    "for i in range(10):\n",
    "    B1 -= alpha * (2/n) * np.sum((B1 * x - y) * x)\n",
    "    print('B1 = {}'.format(B1))"
   ]
  },
  {
   "cell_type": "code",
   "execution_count": 22,
   "id": "4ae4ae7e-f16d-4014-bf6b-7ca58759b966",
   "metadata": {},
   "outputs": [
    {
     "name": "stdout",
     "output_type": "stream",
     "text": [
      "Iteration = 0, B1 = 0.041668006835310197, mse = 0.0228472166398719\n",
      "Iteration = 500, B1 = 0.04166800644873233, mse = 0.022847216639871368\n",
      "Iteration = 1000, B1 = 0.04166800643165722, mse = 0.02284721663987141\n",
      "Iteration = 1500, B1 = 0.041668006430903036, mse = 0.022847216639871364\n",
      "Iteration = 2000, B1 = 0.04166800643086973, mse = 0.022847216639871364\n",
      "Iteration = 2500, B1 = 0.04166800643086872, mse = 0.022847216639871392\n"
     ]
    }
   ],
   "source": [
    "for i in range(3000):\n",
    "    B1 -= alpha * (2/n) * np.sum((B1 * x - y) * x)\n",
    "    if i % 500 == 0:\n",
    "        print('Iteration = {i}, B1 = {B1}, mse = {mse}'.format(i = i, B1 = B1, mse = mse_(B1)))"
   ]
  },
  {
   "cell_type": "code",
   "execution_count": 23,
   "id": "38b4af0d-41e4-4432-9d66-5aafedbd8f1d",
   "metadata": {},
   "outputs": [
    {
     "data": {
      "text/plain": [
       "0.022847216640000008"
      ]
     },
     "execution_count": 23,
     "metadata": {},
     "output_type": "execute_result"
    }
   ],
   "source": [
    "mse_(0.041668)"
   ]
  },
  {
   "cell_type": "code",
   "execution_count": 24,
   "id": "406e6bbd-e677-4e25-ac36-a7eadb7f2df0",
   "metadata": {},
   "outputs": [],
   "source": [
    "from sklearn.linear_model import LinearRegression"
   ]
  },
  {
   "cell_type": "code",
   "execution_count": 25,
   "id": "be9b4ea3-d72d-4d05-b777-ad52b6ebd5df",
   "metadata": {},
   "outputs": [
    {
     "data": {
      "text/plain": [
       "array([[27],\n",
       "       [37],\n",
       "       [42],\n",
       "       [48],\n",
       "       [57],\n",
       "       [56],\n",
       "       [77],\n",
       "       [80]])"
      ]
     },
     "execution_count": 25,
     "metadata": {},
     "output_type": "execute_result"
    }
   ],
   "source": [
    "model = LinearRegression() # set up a model of linear regression\n",
    "\n",
    "# creating an array s two-d atribute reshape(-1, 1)\n",
    "s = s.reshape(-1, 1)\n",
    "s"
   ]
  },
  {
   "cell_type": "code",
   "execution_count": 26,
   "id": "848984cd-6a36-4f44-809b-81588ead8894",
   "metadata": {},
   "outputs": [
    {
     "name": "stdout",
     "output_type": "stream",
     "text": [
      "0.17147009966777427\n",
      "[0.03874585]\n"
     ]
    }
   ],
   "source": [
    "regres = model.fit(s, p) # finding coefficients\n",
    "\n",
    "print(regres.intercept_) # intercept's output\n",
    "\n",
    "print(regres.coef_) # coefficient's output"
   ]
  },
  {
   "cell_type": "code",
   "execution_count": 27,
   "id": "b0a1f094-423c-46c0-ad5d-1b01fb85d3f2",
   "metadata": {},
   "outputs": [
    {
     "data": {
      "text/plain": [
       "array([1.21760797, 1.60506645, 1.79879568, 2.03127076, 2.37998339,\n",
       "       2.34123754, 3.15490033, 3.27113787])"
      ]
     },
     "execution_count": 27,
     "metadata": {},
     "output_type": "execute_result"
    }
   ],
   "source": [
    "# predict function\n",
    "y_pred = model.predict(s) # adding squaremtrs into the model and calculating prices' prediction\n",
    "y_pred"
   ]
  },
  {
   "cell_type": "code",
   "execution_count": 28,
   "id": "fd2328fb-78b2-41af-8a58-05191c02a8a3",
   "metadata": {},
   "outputs": [],
   "source": [
    "import pandas as pd"
   ]
  },
  {
   "cell_type": "code",
   "execution_count": 29,
   "id": "1699ecac-9928-4e65-b20f-0106ea216573",
   "metadata": {},
   "outputs": [
    {
     "data": {
      "text/html": [
       "<div>\n",
       "<style scoped>\n",
       "    .dataframe tbody tr th:only-of-type {\n",
       "        vertical-align: middle;\n",
       "    }\n",
       "\n",
       "    .dataframe tbody tr th {\n",
       "        vertical-align: top;\n",
       "    }\n",
       "\n",
       "    .dataframe thead th {\n",
       "        text-align: right;\n",
       "    }\n",
       "</style>\n",
       "<table border=\"1\" class=\"dataframe\">\n",
       "  <thead>\n",
       "    <tr style=\"text-align: right;\">\n",
       "      <th></th>\n",
       "      <th>real</th>\n",
       "      <th>predicted</th>\n",
       "    </tr>\n",
       "  </thead>\n",
       "  <tbody>\n",
       "    <tr>\n",
       "      <th>0</th>\n",
       "      <td>1.2</td>\n",
       "      <td>1.217608</td>\n",
       "    </tr>\n",
       "    <tr>\n",
       "      <th>1</th>\n",
       "      <td>1.6</td>\n",
       "      <td>1.605066</td>\n",
       "    </tr>\n",
       "    <tr>\n",
       "      <th>2</th>\n",
       "      <td>1.8</td>\n",
       "      <td>1.798796</td>\n",
       "    </tr>\n",
       "    <tr>\n",
       "      <th>3</th>\n",
       "      <td>1.8</td>\n",
       "      <td>2.031271</td>\n",
       "    </tr>\n",
       "    <tr>\n",
       "      <th>4</th>\n",
       "      <td>2.5</td>\n",
       "      <td>2.379983</td>\n",
       "    </tr>\n",
       "    <tr>\n",
       "      <th>5</th>\n",
       "      <td>2.6</td>\n",
       "      <td>2.341238</td>\n",
       "    </tr>\n",
       "    <tr>\n",
       "      <th>6</th>\n",
       "      <td>3.0</td>\n",
       "      <td>3.154900</td>\n",
       "    </tr>\n",
       "    <tr>\n",
       "      <th>7</th>\n",
       "      <td>3.3</td>\n",
       "      <td>3.271138</td>\n",
       "    </tr>\n",
       "  </tbody>\n",
       "</table>\n",
       "</div>"
      ],
      "text/plain": [
       "   real  predicted\n",
       "0   1.2   1.217608\n",
       "1   1.6   1.605066\n",
       "2   1.8   1.798796\n",
       "3   1.8   2.031271\n",
       "4   2.5   2.379983\n",
       "5   2.6   2.341238\n",
       "6   3.0   3.154900\n",
       "7   3.3   3.271138"
      ]
     },
     "execution_count": 29,
     "metadata": {},
     "output_type": "execute_result"
    }
   ],
   "source": [
    "df = pd.DataFrame({'real': p, 'predicted': y_pred})\n",
    "df"
   ]
  },
  {
   "cell_type": "code",
   "execution_count": 30,
   "id": "f6d6710c-193d-4277-ab8f-3de2d92c0519",
   "metadata": {},
   "outputs": [
    {
     "data": {
      "image/png": "[encoded data removed]",
      "text/plain": [
       "<Figure size 640x480 with 1 Axes>"
      ]
     },
     "metadata": {},
     "output_type": "display_data"
    }
   ],
   "source": [
    "stats.probplot(y_pred, dist='norm', plot=pylab)\n",
    "pylab.show();"
   ]
  },
  {
   "cell_type": "code",
   "execution_count": 32,
   "id": "ad8d4bc8-79df-4a49-9f8c-d05e4fa13e70",
   "metadata": {},
   "outputs": [
    {
     "data": {
      "text/plain": [
       "0.9785768205829909"
      ]
     },
     "execution_count": 32,
     "metadata": {},
     "output_type": "execute_result"
    }
   ],
   "source": [
    "s = np.array([27, 37, 42, 48, 57, 56, 77, 80])\n",
    "p = np.array([1.2, 1.6, 1.8, 1.8, 2.5, 2.6, 3, 3.3])\n",
    "r = np.corrcoef(s, p)[1, 0]\n",
    "r"
   ]
  },
  {
   "cell_type": "code",
   "execution_count": 33,
   "id": "11a29320-f396-4b5f-ac40-b7b5a695f227",
   "metadata": {},
   "outputs": [
    {
     "data": {
      "text/plain": [
       "0.9576125937823151"
      ]
     },
     "execution_count": 33,
     "metadata": {},
     "output_type": "execute_result"
    }
   ],
   "source": [
    "r**2"
   ]
  },
  {
   "cell_type": "code",
   "execution_count": 35,
   "id": "66968152-9a41-4b3a-89c2-18144b7a80bb",
   "metadata": {},
   "outputs": [
    {
     "data": {
      "text/plain": [
       "0.9576125937823151"
      ]
     },
     "execution_count": 35,
     "metadata": {},
     "output_type": "execute_result"
    }
   ],
   "source": [
    "s = s.reshape(-1, 1)\n",
    "regres.score(s, p)"
   ]
  },
  {
   "cell_type": "code",
   "execution_count": 36,
   "id": "a736fcbf-9341-4e70-92e8-303690ab62cc",
   "metadata": {},
   "outputs": [
    {
     "data": {
      "text/plain": [
       "5.987377607273699"
      ]
     },
     "execution_count": 36,
     "metadata": {},
     "output_type": "execute_result"
    }
   ],
   "source": [
    "stats.f.ppf(1 - 0.05, 1, 6)"
   ]
  },
  {
   "cell_type": "code",
   "execution_count": 38,
   "id": "b0255be0-3c42-4abc-904b-7809e666ae36",
   "metadata": {},
   "outputs": [
    {
     "name": "stdout",
     "output_type": "stream",
     "text": [
      "SSf = 3.614987541528238, SSo = 0.1600124584717606, Msf = 3.614987541528238, Mso = 0.026668743078626767, F = 135.55147803067672\n"
     ]
    }
   ],
   "source": [
    "# критерий Фишера F= Msf / Ms0\n",
    "# В свою очередь Msf (фактическая сумма квадратных отклонений на одну степень свободы)\n",
    "# Msf = SSf / df1\n",
    "\n",
    "# остаточная сумма квадратных отклонений на 1 степень свободы\n",
    "# Ms0 = SSo / df2\n",
    "\n",
    "# df1 - степень свободы числителя df1 = р - 1, где р - число параметров (у нас площадь и цена, т.е. 2)\n",
    "# df2 - степень свободы знаменателя df2 = n - p, где n - число парных измерений (у нас 8)\n",
    "\n",
    "# SSf - сумма квадратичных отклонений фактически\n",
    "# SSo - сумма квадратичных отклонений остаточная\n",
    "\n",
    "df1 = 2 - 1\n",
    "df2 = 8 - 2\n",
    "\n",
    "SSf = np.sum((y_pred - np.mean(p))**2)\n",
    "\n",
    "SSo = np.sum((p - y_pred) ** 2)\n",
    "\n",
    "Msf = SSf / df1\n",
    "\n",
    "Mso = SSo / df2\n",
    "\n",
    "F = Msf / Mso\n",
    "\n",
    "print(f'SSf = {SSf}, SSo = {SSo}, Msf = {Msf}, Mso = {Mso}, F = {F}')"
   ]
  },
  {
   "cell_type": "code",
   "execution_count": 39,
   "id": "2ef78b40-b3db-4a53-811c-e7732f201e63",
   "metadata": {},
   "outputs": [
    {
     "data": {
      "text/plain": [
       "2.4469118511449692"
      ]
     },
     "execution_count": 39,
     "metadata": {},
     "output_type": "execute_result"
    }
   ],
   "source": [
    "# T-criterion\n",
    "stats.t.ppf(1 - 0.025, 6)"
   ]
  },
  {
   "cell_type": "code",
   "execution_count": 40,
   "id": "e81f00b6-8ba0-4034-8985-497e4e98233e",
   "metadata": {},
   "outputs": [
    {
     "data": {
      "text/plain": [
       "(0.0033279211856704735, 0.18558942531859646)"
      ]
     },
     "execution_count": 40,
     "metadata": {},
     "output_type": "execute_result"
    }
   ],
   "source": [
    "sb = np.sqrt(Mso / np.sum((s - np.mean(s))**2))\n",
    "s0 = np.sqrt((Mso * np.sum(s**2)) / (n * np.sum((s - np.mean(s))**2)))\n",
    "# standard coefficients' errors\n",
    "sb, s0"
   ]
  },
  {
   "cell_type": "code",
   "execution_count": 41,
   "id": "90543b96-a854-4576-9d7c-d184b1501bde",
   "metadata": {},
   "outputs": [
    {
     "data": {
      "text/plain": [
       "11.642657687601973"
      ]
     },
     "execution_count": 41,
     "metadata": {},
     "output_type": "execute_result"
    }
   ],
   "source": [
    "tb = b1 / sb\n",
    "tb"
   ]
  },
  {
   "cell_type": "code",
   "execution_count": 42,
   "id": "c206af60-6ec4-4aae-afb4-536f38635217",
   "metadata": {},
   "outputs": [
    {
     "data": {
      "text/plain": [
       "0.9239217125297502"
      ]
     },
     "execution_count": 42,
     "metadata": {},
     "output_type": "execute_result"
    }
   ],
   "source": [
    "t0 = b0 / s0\n",
    "t0"
   ]
  },
  {
   "cell_type": "code",
   "execution_count": null,
   "id": "1ab50eb5-b07e-4b25-b0d4-8c1be668af0f",
   "metadata": {},
   "outputs": [],
   "source": [
    " "
   ]
  }
 ],
 "metadata": {
  "kernelspec": {
   "display_name": "Python 3 (ipykernel)",
   "language": "python",
   "name": "python3"
  },
  "language_info": {
   "codemirror_mode": {
    "name": "ipython",
    "version": 3
   },
   "file_extension": ".py",
   "mimetype": "text/x-python",
   "name": "python",
   "nbconvert_exporter": "python",
   "pygments_lexer": "ipython3",
   "version": "3.11.9"
  }
 },
 "nbformat": 4,
 "nbformat_minor": 5
}
