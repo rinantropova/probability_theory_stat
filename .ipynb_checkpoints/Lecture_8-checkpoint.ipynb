{
 "cells": [
  {
   "cell_type": "markdown",
   "id": "3316266e-bdf8-4ae1-9b65-47e922f90c68",
   "metadata": {},
   "source": [
    "# Correlation Analysis"
   ]
  },
  {
   "cell_type": "markdown",
   "id": "1f00b677-89b0-46b3-82fb-ec81067fabff",
   "metadata": {},
   "source": [
    "## Task 1"
   ]
  },
  {
   "cell_type": "code",
   "execution_count": 2,
   "id": "93227a05-1faa-4e7f-92df-f975b019de3b",
   "metadata": {},
   "outputs": [],
   "source": [
    "import numpy as np\n",
    "import matplotlib.pyplot as plt"
   ]
  },
  {
   "cell_type": "code",
   "execution_count": 4,
   "id": "f342c426-d5e3-4b78-b5e4-7e2fb0a416ed",
   "metadata": {},
   "outputs": [
    {
     "data": {
      "image/png": "[encoded data removed]",
      "text/plain": [
       "<Figure size 640x480 with 1 Axes>"
      ]
     },
     "metadata": {},
     "output_type": "display_data"
    }
   ],
   "source": [
    "s = np.array([27, 37, 42, 48, 57, 56, 77, 80])\n",
    "p = np.array([1.2, 1.6, 1.8, 1.8, 2.5, 2.6, 3, 3.3])\n",
    "\n",
    "plt.scatter(s, p)\n",
    "plt.show;"
   ]
  },
  {
   "cell_type": "code",
   "execution_count": 5,
   "id": "431e09ce-4b7c-49f4-b3b5-8dbb4fad8f32",
   "metadata": {},
   "outputs": [
    {
     "data": {
      "text/plain": [
       "array([[1.        , 0.97857682],\n",
       "       [0.97857682, 1.        ]])"
      ]
     },
     "execution_count": 5,
     "metadata": {},
     "output_type": "execute_result"
    }
   ],
   "source": [
    "np.corrcoef(p, s)"
   ]
  },
  {
   "cell_type": "markdown",
   "id": "aceab00c-a7ef-4ddc-884b-f145e29458db",
   "metadata": {},
   "source": [
    "## Task 2"
   ]
  },
  {
   "cell_type": "code",
   "execution_count": 6,
   "id": "d5c357eb-fa42-41eb-b55b-6c9c8e5e45d0",
   "metadata": {},
   "outputs": [
    {
     "data": {
      "text/plain": [
       "array([[1., 0.],\n",
       "       [0., 1.]])"
      ]
     },
     "execution_count": 6,
     "metadata": {},
     "output_type": "execute_result"
    }
   ],
   "source": [
    "x = np.array([0, -1, 1, -2, 2, -3, 3, -4, 4])\n",
    "y = x ** 2\n",
    "\n",
    "np.corrcoef(x, y)"
   ]
  },
  {
   "cell_type": "code",
   "execution_count": 7,
   "id": "9d819494-70b4-49e1-aeca-487d8b70b216",
   "metadata": {},
   "outputs": [
    {
     "data": {
      "image/png": "[encoded data removed]",
      "text/plain": [
       "<Figure size 640x480 with 1 Axes>"
      ]
     },
     "metadata": {},
     "output_type": "display_data"
    }
   ],
   "source": [
    "plt.scatter(x, y)\n",
    "plt.show;"
   ]
  },
  {
   "cell_type": "markdown",
   "id": "9b912ebe-eac3-446c-8f61-09013eb52c20",
   "metadata": {},
   "source": [
    "## Task 3"
   ]
  },
  {
   "cell_type": "code",
   "execution_count": 8,
   "id": "38a642d8-b61c-4b19-8f55-484ff978eb0a",
   "metadata": {},
   "outputs": [
    {
     "data": {
      "text/plain": [
       "array([[ 1.        , -0.41602515],\n",
       "       [-0.41602515,  1.        ]])"
      ]
     },
     "execution_count": 8,
     "metadata": {},
     "output_type": "execute_result"
    }
   ],
   "source": [
    "a = np.array([1, 2, 3, 4, 5])\n",
    "b = np.array([7, 4, 6, 9, 0])\n",
    "\n",
    "np.corrcoef(a, b)"
   ]
  },
  {
   "cell_type": "code",
   "execution_count": 9,
   "id": "c300d67e-8517-426a-a929-7be3a70f946f",
   "metadata": {},
   "outputs": [
    {
     "data": {
      "text/plain": [
       "array([[ 1.        , -0.68080746],\n",
       "       [-0.68080746,  1.        ]])"
      ]
     },
     "execution_count": 9,
     "metadata": {},
     "output_type": "execute_result"
    }
   ],
   "source": [
    "b = np.array([11, 12, 0.8, 9, 0.4])\n",
    "np.corrcoef(a, b)"
   ]
  },
  {
   "cell_type": "code",
   "execution_count": 10,
   "id": "d5c81a7a-bf86-4490-a85a-173d35c0deb4",
   "metadata": {},
   "outputs": [
    {
     "data": {
      "text/plain": [
       "array([[1.        , 0.90419443],\n",
       "       [0.90419443, 1.        ]])"
      ]
     },
     "execution_count": 10,
     "metadata": {},
     "output_type": "execute_result"
    }
   ],
   "source": [
    "b = np.array([0.5, 0.7, 0.9, 0.8, 1])\n",
    "np.corrcoef(a, b)"
   ]
  },
  {
   "cell_type": "markdown",
   "id": "e0387180-94ce-44e0-9c48-c4a9a4743533",
   "metadata": {},
   "source": [
    "## Task 4"
   ]
  },
  {
   "cell_type": "code",
   "execution_count": 11,
   "id": "e44158f4-889e-4eba-8b3c-e33bb234af4b",
   "metadata": {},
   "outputs": [
    {
     "data": {
      "text/plain": [
       "11.662500000000023"
      ]
     },
     "execution_count": 11,
     "metadata": {},
     "output_type": "execute_result"
    }
   ],
   "source": [
    "cov = np.mean(p*s) - np.mean(p) * np.mean(s)\n",
    "cov"
   ]
  },
  {
   "cell_type": "code",
   "execution_count": 12,
   "id": "15e6c6f0-1b2b-4ff4-8b8e-1efff9a0fefa",
   "metadata": {},
   "outputs": [
    {
     "data": {
      "text/plain": [
       "array([[  0.53928571,  13.32857143],\n",
       "       [ 13.32857143, 344.        ]])"
      ]
     },
     "execution_count": 12,
     "metadata": {},
     "output_type": "execute_result"
    }
   ],
   "source": [
    "np.cov(p, s)"
   ]
  },
  {
   "cell_type": "code",
   "execution_count": 17,
   "id": "94d630ce-c9eb-423a-a143-4a694a6b1a33",
   "metadata": {},
   "outputs": [
    {
     "data": {
      "text/plain": [
       "array([[  0.53928571,  13.32857143],\n",
       "       [ 13.32857143, 344.        ]])"
      ]
     },
     "execution_count": 17,
     "metadata": {},
     "output_type": "execute_result"
    }
   ],
   "source": [
    "# unbaised covariation\n",
    "np.cov(p, s, ddof=1)"
   ]
  },
  {
   "cell_type": "code",
   "execution_count": 14,
   "id": "97d09d2e-ed8f-4ae3-91e9-a2d9a010ef96",
   "metadata": {},
   "outputs": [
    {
     "data": {
      "text/plain": [
       "0.7343607521414215"
      ]
     },
     "execution_count": 14,
     "metadata": {},
     "output_type": "execute_result"
    }
   ],
   "source": [
    "np.std(p, ddof=1)"
   ]
  },
  {
   "cell_type": "code",
   "execution_count": 15,
   "id": "b63483c8-01bc-441e-a276-9c6b262d9e50",
   "metadata": {},
   "outputs": [
    {
     "data": {
      "text/plain": [
       "18.547236990991408"
      ]
     },
     "execution_count": 15,
     "metadata": {},
     "output_type": "execute_result"
    }
   ],
   "source": [
    "np.std(s, ddof=1)"
   ]
  },
  {
   "cell_type": "code",
   "execution_count": 16,
   "id": "5235a583-185c-413c-b995-23a73b97f004",
   "metadata": {},
   "outputs": [
    {
     "data": {
      "text/plain": [
       "0.9785768206878758"
      ]
     },
     "execution_count": 16,
     "metadata": {},
     "output_type": "execute_result"
    }
   ],
   "source": [
    "13.32857143 / (0.7343607521414215 * 18.547236990991408)"
   ]
  },
  {
   "cell_type": "code",
   "execution_count": 18,
   "id": "f0124d6e-661a-45ea-9ac6-7c9ce8f596a7",
   "metadata": {},
   "outputs": [
    {
     "data": {
      "text/plain": [
       "array([[  0.471875,  11.6625  ],\n",
       "       [ 11.6625  , 301.      ]])"
      ]
     },
     "execution_count": 18,
     "metadata": {},
     "output_type": "execute_result"
    }
   ],
   "source": [
    "# biased covariation\n",
    "np.cov(p, s, ddof = 0)"
   ]
  },
  {
   "cell_type": "code",
   "execution_count": 19,
   "id": "ee6a0159-b33b-47e1-ace6-574e1059429d",
   "metadata": {},
   "outputs": [
    {
     "data": {
      "text/plain": [
       "0.6869315832017042"
      ]
     },
     "execution_count": 19,
     "metadata": {},
     "output_type": "execute_result"
    }
   ],
   "source": [
    "np.std(p, ddof=0)"
   ]
  },
  {
   "cell_type": "code",
   "execution_count": 20,
   "id": "e8386be3-50b8-42c6-92be-ca2c3f46c5ad",
   "metadata": {},
   "outputs": [
    {
     "data": {
      "text/plain": [
       "17.349351572897472"
      ]
     },
     "execution_count": 20,
     "metadata": {},
     "output_type": "execute_result"
    }
   ],
   "source": [
    "np.std(s, ddof=0)"
   ]
  },
  {
   "cell_type": "code",
   "execution_count": 21,
   "id": "96779927-7667-47fe-9323-2af09f39c022",
   "metadata": {},
   "outputs": [
    {
     "data": {
      "text/plain": [
       "0.9785768205829909"
      ]
     },
     "execution_count": 21,
     "metadata": {},
     "output_type": "execute_result"
    }
   ],
   "source": [
    "11.6625 / (0.6869315832017042 * 17.349351572897472)"
   ]
  },
  {
   "cell_type": "code",
   "execution_count": 22,
   "id": "6565003a-b7f5-4568-8aec-4187ef8815aa",
   "metadata": {},
   "outputs": [
    {
     "data": {
      "text/plain": [
       "array([[1.        , 0.97857682],\n",
       "       [0.97857682, 1.        ]])"
      ]
     },
     "execution_count": 22,
     "metadata": {},
     "output_type": "execute_result"
    }
   ],
   "source": [
    "np.corrcoef(p, s)"
   ]
  },
  {
   "cell_type": "markdown",
   "id": "3179c74d-6516-4eb0-8d23-685e0e4efa5e",
   "metadata": {},
   "source": [
    "## Task 5 - Spearman"
   ]
  },
  {
   "cell_type": "code",
   "execution_count": 23,
   "id": "f7333c7f-aa4c-4732-acce-5fc3d7362b7a",
   "metadata": {},
   "outputs": [],
   "source": [
    "from scipy import stats"
   ]
  },
  {
   "cell_type": "code",
   "execution_count": 24,
   "id": "0eeb16af-deba-4ffe-bd00-9ffbbf7be06a",
   "metadata": {},
   "outputs": [
    {
     "data": {
      "text/plain": [
       "SignificanceResult(statistic=0.9700772721497398, pvalue=6.548558831120599e-05)"
      ]
     },
     "execution_count": 24,
     "metadata": {},
     "output_type": "execute_result"
    }
   ],
   "source": [
    "stats.spearmanr(p, s)"
   ]
  },
  {
   "cell_type": "code",
   "execution_count": 25,
   "id": "eecce72f-0dba-47b4-89b3-f1d04f7ee1e9",
   "metadata": {},
   "outputs": [
    {
     "data": {
      "text/plain": [
       "array([[1.        , 0.97007727],\n",
       "       [0.97007727, 1.        ]])"
      ]
     },
     "execution_count": 25,
     "metadata": {},
     "output_type": "execute_result"
    }
   ],
   "source": [
    "p2 = np.array([1, 2, 3.5, 3.5, 5, 6, 7, 8])\n",
    "s2 = np.array([1, 2, 3, 4, 6, 5, 7, 8])\n",
    "\n",
    "np.corrcoef(p2, s2)"
   ]
  },
  {
   "cell_type": "code",
   "execution_count": 26,
   "id": "67316f01-d00b-4cf8-9e3a-e6ecc0fdf958",
   "metadata": {},
   "outputs": [
    {
     "data": {
      "text/plain": [
       "SignificanceResult(statistic=0.9700772721497398, pvalue=6.548558831120599e-05)"
      ]
     },
     "execution_count": 26,
     "metadata": {},
     "output_type": "execute_result"
    }
   ],
   "source": [
    "stats.spearmanr(p2, s2)"
   ]
  },
  {
   "cell_type": "code",
   "execution_count": null,
   "id": "00db8edc-2433-43c7-9395-92ce3d365500",
   "metadata": {},
   "outputs": [],
   "source": []
  }
 ],
 "metadata": {
  "kernelspec": {
   "display_name": "Python 3 (ipykernel)",
   "language": "python",
   "name": "python3"
  },
  "language_info": {
   "codemirror_mode": {
    "name": "ipython",
    "version": 3
   },
   "file_extension": ".py",
   "mimetype": "text/x-python",
   "name": "python",
   "nbconvert_exporter": "python",
   "pygments_lexer": "ipython3",
   "version": "3.11.9"
  }
 },
 "nbformat": 4,
 "nbformat_minor": 5
}
