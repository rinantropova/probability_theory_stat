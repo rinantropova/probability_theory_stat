{
 "cells": [
  {
   "cell_type": "markdown",
   "id": "cb941021-857c-4646-a347-f9af9380f03d",
   "metadata": {},
   "source": [
    "## Task 1\n",
    "Когда используется критерий Стьюдента, а когда Z –критерий?\n",
    "\n",
    "\n",
    "\n",
    "\n",
    "**Ответ:**\n",
    "\n",
    "Критерий Стьюдента используется, когда у нас неизвестно стандартное квадратичное отклонение (сигма) генеральной совокупности. Тогда мы ищем стандартное несмещенное отклонение, рассчитанное по выборке.\n",
    "Соответственно, когда стандартное квадратичное отклонение генеральной совокупности известно, уместно использовать Z-критерий"
   ]
  },
  {
   "cell_type": "markdown",
   "id": "a7a4a702-207c-4ca4-b184-ed076da05ad7",
   "metadata": {},
   "source": [
    "## Task 2\n",
    "Проведите тест гипотезы. Утверждается, что шарики для подшипников, изготовленные автоматическим станком, имеют средний диаметр 17 мм. Используя односторонний критерий с α=0,05, проверить эту гипотезу, если в выборке из n=100 шариков средний диаметр оказался равным 17.5 мм, а дисперсия известна и равна 4 кв. мм.\n",
    "\n",
    "Решить вручную"
   ]
  },
  {
   "cell_type": "code",
   "execution_count": 1,
   "id": "3357a1b8-3c08-4093-b470-b8edc8168d32",
   "metadata": {},
   "outputs": [],
   "source": [
    "import numpy as np\n",
    "import scipy.stats as stats\n",
    "from scipy import stats"
   ]
  },
  {
   "cell_type": "code",
   "execution_count": 2,
   "id": "f547b7df-539a-48be-abf4-ed68bbcbb98a",
   "metadata": {},
   "outputs": [],
   "source": [
    "alpha = 0.05\n",
    "n = 100\n",
    "var = 4\n",
    "mu = 17\n",
    "mu_0 = 17.5"
   ]
  },
  {
   "cell_type": "code",
   "execution_count": 16,
   "id": "8ae8e31e-7969-40dd-b2f3-28a9c9692844",
   "metadata": {},
   "outputs": [],
   "source": [
    "# В этой задаче по условию неясно, дисперсия указана к выборке или ко всей генеральной совокупности. Решение представлено для условий,\n",
    "# когда дисперсия указана для ген.совокупности"
   ]
  },
  {
   "cell_type": "markdown",
   "id": "327344f0-0dbc-4f91-af96-175ad57fac9c",
   "metadata": {},
   "source": [
    "Дисперсия генеральной совокупности известна (=> СКО тоже известно)\n",
    "\n",
    "1) Определяем гипотезы:\n",
    "   Н_0: mu = 17\n",
    "   H_1: mu > 17\n",
    "2) Уровень статистической значимости alpha = 0.05\n",
    "3) Если исходить из того, что дисперсия нам дана от ген.совокупности, соответственно СКО тоже относится к ген.совокупности,\n",
    "   значит, будем использовать Z-критерий\n",
    "4) Рассчитаем наблюдаемый Z-критерий"
   ]
  },
  {
   "cell_type": "code",
   "execution_count": 4,
   "id": "b0448d21-ff3c-42f1-b176-b15ff14372b8",
   "metadata": {},
   "outputs": [
    {
     "name": "stdout",
     "output_type": "stream",
     "text": [
      "Наблюдаемый критерий равен: 2.5\n"
     ]
    }
   ],
   "source": [
    "z_n = (mu_0 - mu) / (np.sqrt(var) / np.sqrt(n))\n",
    "print(f'Наблюдаемый критерий равен: {z_n}')"
   ]
  },
  {
   "cell_type": "markdown",
   "id": "de54d7bd-662e-4ae1-b1bc-22795abfdb61",
   "metadata": {},
   "source": [
    "5. Рассчитаем табличный критерий и сравним его с наблюдаемым:"
   ]
  },
  {
   "cell_type": "code",
   "execution_count": 9,
   "id": "80dcd287-5339-45a9-bbe1-5f170331408a",
   "metadata": {},
   "outputs": [
    {
     "name": "stdout",
     "output_type": "stream",
     "text": [
      "Табличное (рассчитанное с помощью Python) значение критерия равно 1.6448536269514722\n",
      "Согласно таблице, для 95% (1 - alpha) значение находится между 1.64 и 1.65\n"
     ]
    }
   ],
   "source": [
    "z_t = stats.norm.ppf(1 - alpha)\n",
    "print(f'Табличное (рассчитанное с помощью Python) значение критерия равно {z_t}')\n",
    "print('Согласно таблице, для 95% (1 - alpha) значение находится между 1.64 и 1.65')"
   ]
  },
  {
   "cell_type": "code",
   "execution_count": 14,
   "id": "83bbf68f-31bc-454c-86b1-e5592834c0ed",
   "metadata": {},
   "outputs": [
    {
     "name": "stdout",
     "output_type": "stream",
     "text": [
      "При alpha=0.05 гипотеза H_0 отвергается, принимаем гипотезу Н_1\n"
     ]
    }
   ],
   "source": [
    "if z_n < z_t:\n",
    "    print('При alpha=0.05 гипотеза Н_0 принимается')\n",
    "elif z_n > z_t:\n",
    "    print('При alpha=0.05 гипотеза H_0 отвергается, принимаем гипотезу Н_1')"
   ]
  },
  {
   "cell_type": "code",
   "execution_count": 27,
   "id": "a016be78-b7d1-47e2-80d7-525e4b6eccef",
   "metadata": {},
   "outputs": [
    {
     "name": "stdout",
     "output_type": "stream",
     "text": [
      "0.006209665325776159\n",
      "Отвергаем гипотезу Н_0\n"
     ]
    }
   ],
   "source": [
    "# p-value\n",
    "p_value = 1 - stats.norm.cdf(z_n)\n",
    "print(p_value)\n",
    "if p_value < alpha:\n",
    "    print('Отвергаем гипотезу Н_0')\n",
    "elif p_value > alpha:\n",
    "    print('Принимаем гипотезу Н_0')"
   ]
  },
  {
   "cell_type": "markdown",
   "id": "07aacec9-8723-41da-9898-e1537da57b56",
   "metadata": {},
   "source": [
    "## Task 3\n",
    "Проведите тест гипотезы. Продавец утверждает, что средний вес пачки печенья составляет 200 г. Из партии извлечена выборка из 10 пачек. Вес каждой пачки составляет: 202, 203, 199, 197, 195, 201, 200, 204, 194, 190. Известно, что их веса распределены нормально. Верно ли утверждение продавца, если учитывать, что доверительная вероятность равна 99%? (Провести двусторонний тест.) \n",
    "\n",
    "Решить вручную"
   ]
  },
  {
   "cell_type": "code",
   "execution_count": 15,
   "id": "f92625af-c8c9-4a1f-8d26-8f012723a4c4",
   "metadata": {},
   "outputs": [],
   "source": [
    "mu_w = 200\n",
    "n = 10\n",
    "x = np.array([202, 203, 199, 197, 195, 201, 200, 204, 194, 190])\n",
    "alpha = 0.01"
   ]
  },
  {
   "cell_type": "markdown",
   "id": "127ca03a-7c74-4fbe-83c8-99f379cf7b39",
   "metadata": {},
   "source": [
    "1. Определяем гипотезы:\n",
    "    * Н_0: mu_w = mu_0\n",
    "    * H_1: mu_w ≠ mu_0\n",
    "2. Уровень стат.значимости составит 0.01, (1 - 0.99)\n",
    "3. Мы не знаем сигму генеральной совокупности, значит будем использовать критерий Стьюдента или t-критерий\n",
    "4. Таким образом, рассчитаем наблюдаемый критерий:"
   ]
  },
  {
   "cell_type": "code",
   "execution_count": 30,
   "id": "0463a647-c755-44f7-819f-44724327819c",
   "metadata": {},
   "outputs": [
    {
     "name": "stdout",
     "output_type": "stream",
     "text": [
      "mu_0 = 198.5, D(x) = 19.833333333333332, std = 4.453463071962462\n"
     ]
    }
   ],
   "source": [
    "x_mean = np.mean(x)\n",
    "# x_var = np.var(x, ddof=1)\n",
    "# x_std = np.sqrt(x_var)\n",
    "x_std = np.std(x, ddof=1)\n",
    "print(f'mu_0 = {x_mean}, D(x) = {x_var}, std = {x_std}')"
   ]
  },
  {
   "cell_type": "code",
   "execution_count": 31,
   "id": "068de9b4-c858-4499-b5d6-69673e363ce8",
   "metadata": {},
   "outputs": [
    {
     "name": "stdout",
     "output_type": "stream",
     "text": [
      "t-критерий наблюдаемый равен 1.0651074037450896\n"
     ]
    }
   ],
   "source": [
    "t_emp = abs((x_mean - mu_w) / (x_std / np.sqrt(n)))\n",
    "print(f't-критерий наблюдаемый равен {t_emp}')"
   ]
  },
  {
   "cell_type": "markdown",
   "id": "5105f4a9-04db-441c-ae05-8067f440cf97",
   "metadata": {},
   "source": [
    "5. Рассчитаем табличный критерий и сравним его с наблюдаемым:"
   ]
  },
  {
   "cell_type": "code",
   "execution_count": 23,
   "id": "a0d7ef6c-93e6-4dd7-93b8-36f24bf81f97",
   "metadata": {},
   "outputs": [
    {
     "name": "stdout",
     "output_type": "stream",
     "text": [
      "Рассчитанное табличное значение критерия равно 3.2498355415921254\n",
      "Согласно таблице, при числе степеней свободы 9 и вероятности 0.995 значение критерия составит 3.250\n"
     ]
    }
   ],
   "source": [
    "t_t = stats.t.ppf(1 - alpha / 2, df=n - 1)\n",
    "print(f'Рассчитанное табличное значение критерия равно {t_t}')\n",
    "print('Согласно таблице, при числе степеней свободы 9 и вероятности 0.995 значение критерия составит 3.250')"
   ]
  },
  {
   "cell_type": "code",
   "execution_count": 24,
   "id": "1c270634-c300-4e62-af2b-2516f550c240",
   "metadata": {},
   "outputs": [
    {
     "name": "stdout",
     "output_type": "stream",
     "text": [
      "При alpha=0.01 гипотеза Н_0 принимается\n"
     ]
    }
   ],
   "source": [
    "if t_emp < t_t:\n",
    "    print('При alpha=0.01 гипотеза Н_0 принимается')\n",
    "elif t_emp > t_t:\n",
    "    print('При alpha=0.01 гипотеза H_0 отвергается, принимаем гипотезу Н_1')"
   ]
  },
  {
   "cell_type": "code",
   "execution_count": 28,
   "id": "1004f764-7053-4a74-b32e-902d28ff33dd",
   "metadata": {},
   "outputs": [
    {
     "name": "stdout",
     "output_type": "stream",
     "text": [
      "0.31456660352472854\n",
      "Принимаем гипотезу Н_0\n"
     ]
    }
   ],
   "source": [
    "# проверим с p-value\n",
    "p_value = 2 * (1 - stats.t.cdf(t_emp, df=n-1))\n",
    "print(p_value)\n",
    "if p_value < alpha:\n",
    "    print('Отвергаем гипотезу Н_0')\n",
    "elif p_value > alpha:\n",
    "    print('Принимаем гипотезу Н_0')"
   ]
  },
  {
   "cell_type": "markdown",
   "id": "618d7476-7bea-428e-9286-835158ea3c2c",
   "metadata": {},
   "source": [
    "## Task 4\n",
    "Есть ли статистически значимые различия в росте дочерей? Рост матерей 172, 177, 158, 170, 178,175, 164, 160, 169, 165 Рост взрослых дочерей: 173, 175, 162, 174, 175, 168, 155, 170, 160.\n",
    "\n",
    "Задачу 4 решать с помощью функции"
   ]
  },
  {
   "cell_type": "code",
   "execution_count": 36,
   "id": "82b21cc9-0e22-48a5-92d0-012cbe6c0d5b",
   "metadata": {},
   "outputs": [],
   "source": [
    "# H_0: mu_m = mu_d\n",
    "# H_1: mu_m ≠ mu_d\n",
    "\n",
    "# alpha is not defined, therefore we will take basic value 0.05\n",
    "\n",
    "# Это двухвыборочный тест, так как мы не знаем, в какую сторону ожидаются девиации, плюс это независимые выборки, поэтому\n",
    "# будем использовать t-критерий"
   ]
  },
  {
   "cell_type": "code",
   "execution_count": 29,
   "id": "62825153-9d25-4063-bd1a-55c4740fbcb6",
   "metadata": {},
   "outputs": [],
   "source": [
    "mothers = np.array([172, 177, 158, 170, 178,175, 164, 160, 169, 165])\n",
    "daughters = np.array([173, 175, 162, 174, 175, 168, 155, 170, 160])"
   ]
  },
  {
   "cell_type": "code",
   "execution_count": 32,
   "id": "bc3636bd-6d82-4fdd-bce2-d6749a16ad95",
   "metadata": {},
   "outputs": [],
   "source": [
    "def independent_t_test(sample1, sample2, alpha=0.05):\n",
    "    t_emp, p_value = stats.ttest_ind(sample1, sample2)\n",
    "    significant = p_value < alpha\n",
    "\n",
    "    mean1, std1 = np.mean(sample1), np.std(sample1, ddof=1)\n",
    "    mean2, std2 = np.mean(sample2), np.std(sample2, ddof=1)\n",
    "\n",
    "    return {\n",
    "        't_emp': t_emp,\n",
    "        'p_value': p_value,\n",
    "        'significant': significant,\n",
    "        'alpha': alpha,\n",
    "        'mean1': mean1,\n",
    "        'mean2': mean2,\n",
    "        'std1': std1,\n",
    "        'std2': std2\n",
    "    }"
   ]
  },
  {
   "cell_type": "code",
   "execution_count": 33,
   "id": "41cb2e9c-e5d4-4b1f-8f3c-e3ae26d1ad9f",
   "metadata": {},
   "outputs": [],
   "source": [
    "results = independent_t_test(mothers, daughters)"
   ]
  },
  {
   "cell_type": "code",
   "execution_count": 41,
   "id": "65daac43-0666-4d7f-b68a-b9654a1a76bc",
   "metadata": {},
   "outputs": [
    {
     "name": "stdout",
     "output_type": "stream",
     "text": [
      "Средний рост матерей: 168.8 см (станд. отклонение: 6.941021378570864)\n",
      "Средний рост дочерей: 168.0 см (станд. отклонение: 7.3484692283495345)\n",
      "Наблюдаемый критерий: 0.24400587215969016\n",
      "p-value: 0.8101467126543231\n",
      "Уровень значимости: 0.05\n",
      "Статистически значимые различия: Нет (принимаем гипотезу Н_0)\n",
      "Нет статистически значимых различий в росте между матерями и дочерями. Принимаем гипотезу Н_0\n"
     ]
    }
   ],
   "source": [
    "print(f\"Средний рост матерей: {results['mean1']} см (станд. отклонение: {results['std1']})\")\n",
    "print(f\"Средний рост дочерей: {results['mean2']} см (станд. отклонение: {results['std2']})\")\n",
    "print(f\"Наблюдаемый критерий: {results['t_statistic']}\")\n",
    "print(f\"p-value: {results['p_value']}\")\n",
    "print(f\"Уровень значимости: {results['alpha']}\")\n",
    "print(f\"Статистически значимые различия: {'Да' if results['significant'] else 'Нет'} (принимаем гипотезу Н_0)\")\n",
    "\n",
    "if results['significant']:\n",
    "    print('Есть статистически значимые различия в росте между матерями и дочерями. Отвергаем гипотезу Н_0')\n",
    "else:\n",
    "    print('Нет статистически значимых различий в росте между матерями и дочерями. Принимаем гипотезу Н_0')"
   ]
  }
 ],
 "metadata": {
  "kernelspec": {
   "display_name": "Python 3 (ipykernel)",
   "language": "python",
   "name": "python3"
  },
  "language_info": {
   "codemirror_mode": {
    "name": "ipython",
    "version": 3
   },
   "file_extension": ".py",
   "mimetype": "text/x-python",
   "name": "python",
   "nbconvert_exporter": "python",
   "pygments_lexer": "ipython3",
   "version": "3.11.9"
  }
 },
 "nbformat": 4,
 "nbformat_minor": 5
}
