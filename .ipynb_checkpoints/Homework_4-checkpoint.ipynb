{
 "cells": [
  {
   "cell_type": "code",
   "execution_count": 2,
   "id": "421c3ece-59c9-4f9d-a741-7cf7b4289eb1",
   "metadata": {},
   "outputs": [],
   "source": [
    "from scipy import stats"
   ]
  },
  {
   "cell_type": "code",
   "execution_count": 25,
   "id": "c5afcfe8-25b8-46c7-bdd2-56a4eceff546",
   "metadata": {},
   "outputs": [],
   "source": [
    "import numpy as np"
   ]
  },
  {
   "cell_type": "markdown",
   "id": "98001ee8-88fb-4b56-82f6-15fe5e8bdb2c",
   "metadata": {},
   "source": [
    "## Task 1\n",
    "Случайная непрерывная величина A имеет равномерное распределение на промежутке (200, 800]. Найдите ее среднее значение и дисперсию."
   ]
  },
  {
   "cell_type": "code",
   "execution_count": 44,
   "id": "49d7b614-5f85-48df-87fa-2fd99dc68822",
   "metadata": {},
   "outputs": [
    {
     "name": "stdout",
     "output_type": "stream",
     "text": [
      "M(x) = 500.0, D(X) =  30000.0\n"
     ]
    }
   ],
   "source": [
    "a = 200\n",
    "b = 800\n",
    "\n",
    "# M(X)\n",
    "mu = (a + b) / 2\n",
    "\n",
    "# D(X)\n",
    "var = (b - a)**2 / 12\n",
    "\n",
    "print(f\"M(x) = {mu}, D(X) =  {var}\")"
   ]
  },
  {
   "cell_type": "markdown",
   "id": "93a64645-4ae3-41da-a7fb-8c3618aa9b09",
   "metadata": {},
   "source": [
    "## Task 2\n",
    "О случайной непрерывной равномерно распределенной величине B известно, что ее дисперсия равна 0.2. Можно ли найти правую границу величины B и ее среднее значение зная, что левая граница равна 0.5? Если да, найдите ее."
   ]
  },
  {
   "cell_type": "code",
   "execution_count": 45,
   "id": "011582b0-53b1-4a96-8ba3-c0eb1ad060e1",
   "metadata": {},
   "outputs": [
    {
     "name": "stdout",
     "output_type": "stream",
     "text": [
      "Right border equals 2.049193338482967\n"
     ]
    }
   ],
   "source": [
    "# Using formula D(X) = (b - a) ** 2 / 12, we'll need to create an equation with one variable b.\n",
    "\n",
    "a = 0.5 # left border\n",
    "var = 0.2\n",
    "b = np.sqrt(var * 12) + a\n",
    "print(f'Right border equals {b}')"
   ]
  },
  {
   "cell_type": "code",
   "execution_count": 47,
   "id": "036b8a70-1521-4cc6-99f5-cddf4bd8d672",
   "metadata": {},
   "outputs": [
    {
     "name": "stdout",
     "output_type": "stream",
     "text": [
      "M(X) equals 1.2745966692414834\n"
     ]
    }
   ],
   "source": [
    "# M(X)\n",
    "mu = (a + b) / 2\n",
    "print(f'M(X) equals {mu}')"
   ]
  },
  {
   "cell_type": "markdown",
   "id": "950c56b8-8555-4334-96ad-c9dd2286d84f",
   "metadata": {},
   "source": [
    "## Task 3\n",
    "Непрерывная случайная величина X распределена нормально и задана плотностью распределения \n",
    "\n",
    "$$f(x) = (1 / (4 * sqrt(2pi))) * exp((-(x+2)**2) / 32)$$\r\n",
    "\r\n",
    "Найдите:\r\n",
    "а). M(X)\r\n",
    "б). D(X)\r\n",
    "в). std(X) (среднее квадратичное отклон\n",
    "ение)."
   ]
  },
  {
   "cell_type": "code",
   "execution_count": 48,
   "id": "320ed71f-eeba-4629-8d0c-3b024d99b07c",
   "metadata": {},
   "outputs": [
    {
     "name": "stdout",
     "output_type": "stream",
     "text": [
      "M(x) = -2, D(X) = 16.0, std(X) = 4.0\n"
     ]
    }
   ],
   "source": [
    "# M(X)\n",
    "mu = -2\n",
    "\n",
    "# D(X)\n",
    "var = 32 / 2\n",
    "\n",
    "# std(X)\n",
    "std = np.sqrt(var)\n",
    "\n",
    "print(f'M(x) = {mu}, D(X) = {var}, std(X) = {std}')"
   ]
  },
  {
   "cell_type": "markdown",
   "id": "c62a0488-6baf-48c7-984e-9a9f873e2233",
   "metadata": {},
   "source": [
    "## Task 4\n",
    "Рост взрослого населения города X имеет нормальное распределение.\r\n",
    "Причем, средний рост равен 174 см, а среднее квадратичное отклонение равно 8 см.\r\n",
    "\r\n",
    "Какова вероятность того, что случайным образом выбранный взрослый человек имеет ро\n",
    "1. больше 182см\n",
    "2. больше 190см\n",
    "3. от 166 до 190 см\n",
    "4. от 166 до 182см\n",
    "5. от 158 до 190см\n",
    "6. не выше 150см или не ниже 190см\n",
    "7. не выше 150см или не ниже 198см\n",
    "8. ниже 166иже 166 см."
   ]
  },
  {
   "cell_type": "code",
   "execution_count": 49,
   "id": "0f1fce7b-f750-4b0e-9bc5-e8ef0c1377bb",
   "metadata": {},
   "outputs": [
    {
     "name": "stdout",
     "output_type": "stream",
     "text": [
      "Probability that person has height higher than 182: 0.15865525393145707\n"
     ]
    }
   ],
   "source": [
    "# больше 182см\n",
    "less_182 = stats.norm.cdf(182, loc=174, scale=8)\n",
    "first = 1 - less_182\n",
    "print(f'Probability that person has height higher than 182: {first}')"
   ]
  },
  {
   "cell_type": "code",
   "execution_count": 50,
   "id": "600bb1ae-0de8-4f27-95a9-4a601b9a4d3a",
   "metadata": {},
   "outputs": [
    {
     "name": "stdout",
     "output_type": "stream",
     "text": [
      "Probability that person has height higher than 190: 0.02275013194817921\n"
     ]
    }
   ],
   "source": [
    "# больше 190см\n",
    "less_190 = stats.norm.cdf(190, loc=174, scale=8)\n",
    "second = 1 - less_190\n",
    "print(f'Probability that person has height higher than 190: {second}')"
   ]
  },
  {
   "cell_type": "code",
   "execution_count": 51,
   "id": "c2894145-364d-45bd-a005-aaa332b02877",
   "metadata": {},
   "outputs": [
    {
     "name": "stdout",
     "output_type": "stream",
     "text": [
      "Probability that person has height from 166 to 190: 0.8185946141203637\n"
     ]
    }
   ],
   "source": [
    "# от 166 до 190 см\n",
    "less_166 = stats.norm.cdf(166, loc=174, scale=8)\n",
    "share = less_190 - less_166\n",
    "print(f'Probability that person has height from 166 to 190: {share}')"
   ]
  },
  {
   "cell_type": "code",
   "execution_count": 52,
   "id": "15165003-0c8d-41b9-9e04-bd44713673a0",
   "metadata": {},
   "outputs": [
    {
     "name": "stdout",
     "output_type": "stream",
     "text": [
      "Probability that person has height from 158 to 190: 0.9544997361036416\n"
     ]
    }
   ],
   "source": [
    "# от 158 до 190см\n",
    "less_158 = stats.norm.cdf(158, loc=174, scale=8)\n",
    "third = less_190 - less_158\n",
    "print(f'Probability that person has height from 158 to 190: {third}')"
   ]
  },
  {
   "cell_type": "code",
   "execution_count": 53,
   "id": "def5901a-a588-4dc8-9d89-774d995fe3dd",
   "metadata": {},
   "outputs": [
    {
     "name": "stdout",
     "output_type": "stream",
     "text": [
      "Probability that person has height either lower than 150 or higher than 190:  0.0241000299798093\n"
     ]
    }
   ],
   "source": [
    "# не выше 150см или не ниже 190см\n",
    "less_150 = stats.norm.cdf(150, loc=174, scale=8)\n",
    "higher_190 = 1 - less_190\n",
    "sum_1 = less_150 + higher_190\n",
    "print(f'Probability that person has height either lower than 150 or higher than 190:  {sum_1}')"
   ]
  },
  {
   "cell_type": "code",
   "execution_count": 54,
   "id": "cddcaf1a-8dd2-42e6-b2ac-2a723626d1f7",
   "metadata": {},
   "outputs": [
    {
     "name": "stdout",
     "output_type": "stream",
     "text": [
      "Probability that person has height either lower than 150 or higher than 198:  0.0026997960632601965\n"
     ]
    }
   ],
   "source": [
    "# не выше 150см или не ниже 198см\n",
    "higher_198 = 1 - stats.norm.cdf(198, loc=174, scale=8)\n",
    "sum_2 = less_150 + higher_198\n",
    "print(f'Probability that person has height either lower than 150 or higher than 198:  {sum_2}')"
   ]
  },
  {
   "cell_type": "code",
   "execution_count": 55,
   "id": "f223586a-522e-4b6b-9753-a26b508dfc9d",
   "metadata": {},
   "outputs": [
    {
     "name": "stdout",
     "output_type": "stream",
     "text": [
      "Probability that person has hieght lower than 160: 0.15865525393145707\n"
     ]
    }
   ],
   "source": [
    "# ниже 166cm\n",
    "less_166 = stats.norm.cdf(166, loc=174, scale=8)\n",
    "print(f'Probability that person has hieght lower than 160: {less_166}')"
   ]
  },
  {
   "cell_type": "markdown",
   "id": "a260e83e-605e-4516-a027-8b1f43369635",
   "metadata": {},
   "source": [
    "## Task 5\n",
    "На сколько сигм (средних квадратичных отклонений) отклоняется рост человека, равный 190 см, от математического ожидания роста в популяции, в которой M(X) = 178 см и D(X) = 25 кв.см?"
   ]
  },
  {
   "cell_type": "code",
   "execution_count": 59,
   "id": "035b2da6-fbbf-47c5-9d89-7d2174b88e64",
   "metadata": {},
   "outputs": [],
   "source": [
    "height = 190\n",
    "mu = 178\n",
    "var = 25\n",
    "std = np.sqrt(var)"
   ]
  },
  {
   "cell_type": "code",
   "execution_count": 63,
   "id": "c32b4e48-a90f-4588-baca-e29f2ad6b882",
   "metadata": {},
   "outputs": [
    {
     "name": "stdout",
     "output_type": "stream",
     "text": [
      "Person height 190cm deviates from M(X) 178cm on 2.4 sigmas\n"
     ]
    }
   ],
   "source": [
    "sigma_deviation = (height - mu) / std\n",
    "print(f'Person height {height}cm deviates from M(X) {mu}cm on {sigma_deviation} sigmas')"
   ]
  }
 ],
 "metadata": {
  "kernelspec": {
   "display_name": "Python 3 (ipykernel)",
   "language": "python",
   "name": "python3"
  },
  "language_info": {
   "codemirror_mode": {
    "name": "ipython",
    "version": 3
   },
   "file_extension": ".py",
   "mimetype": "text/x-python",
   "name": "python",
   "nbconvert_exporter": "python",
   "pygments_lexer": "ipython3",
   "version": "3.11.9"
  }
 },
 "nbformat": 4,
 "nbformat_minor": 5
}
