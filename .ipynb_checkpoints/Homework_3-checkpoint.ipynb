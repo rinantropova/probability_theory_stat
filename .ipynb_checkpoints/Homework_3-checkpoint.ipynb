{
 "cells": [
  {
   "cell_type": "markdown",
   "id": "8028cf2f-f276-496f-9c90-2c846f470dbf",
   "metadata": {},
   "source": [
    "## Task 1\n",
    "Даны значения зарплат из выборки выпускников: 100, 80, 75, 77, 89, 33, 45, 25, 65, 17, 30, 24, 57, 55, 70, 75, 65, 84, 90, 150. Посчитать (желательно без использования статистических методов наподобие std, var, mean) среднее арифметическое, среднее квадратичное отклонение, смещенную и несмещенную оценки дисперсий для данной выборки."
   ]
  },
  {
   "cell_type": "code",
   "execution_count": 10,
   "id": "11e172d1-56b4-4db5-be6f-d8a9e33ee7b0",
   "metadata": {},
   "outputs": [],
   "source": [
    "import numpy as np\n",
    "import math"
   ]
  },
  {
   "cell_type": "code",
   "execution_count": 2,
   "id": "71244fa2-8406-4136-8cc9-e90bd5ab9ca6",
   "metadata": {},
   "outputs": [
    {
     "data": {
      "text/plain": [
       "array([100,  80,  75,  77,  89,  33,  45,  25,  65,  17,  30,  24,  57,\n",
       "        55,  70,  75,  65,  84,  90, 150])"
      ]
     },
     "execution_count": 2,
     "metadata": {},
     "output_type": "execute_result"
    }
   ],
   "source": [
    "salary = np.array([100, 80, 75, 77, 89, 33, 45, 25, 65, 17, 30, 24, 57, 55, 70, 75, 65, 84, 90, 150])\n",
    "salary"
   ]
  },
  {
   "cell_type": "code",
   "execution_count": 3,
   "id": "7ea0c820-96e6-401e-b363-5b72b9722d2d",
   "metadata": {},
   "outputs": [
    {
     "data": {
      "text/plain": [
       "20"
      ]
     },
     "execution_count": 3,
     "metadata": {},
     "output_type": "execute_result"
    }
   ],
   "source": [
    "len(salary)"
   ]
  },
  {
   "cell_type": "code",
   "execution_count": 7,
   "id": "877fb098-2068-4f3f-8939-1430c19e2f49",
   "metadata": {},
   "outputs": [
    {
     "data": {
      "text/plain": [
       "65.3"
      ]
     },
     "execution_count": 7,
     "metadata": {},
     "output_type": "execute_result"
    }
   ],
   "source": [
    "# mean without method .mean()\n",
    "total = 0\n",
    "for i in salary:\n",
    "    total += i\n",
    "avg = total / len(salary)\n",
    "avg"
   ]
  },
  {
   "cell_type": "code",
   "execution_count": 6,
   "id": "d281875a-139a-4ca6-a1ea-72d940ace043",
   "metadata": {},
   "outputs": [
    {
     "data": {
      "text/plain": [
       "65.3"
      ]
     },
     "execution_count": 6,
     "metadata": {},
     "output_type": "execute_result"
    }
   ],
   "source": [
    "# to check\n",
    "salary.mean()"
   ]
  },
  {
   "cell_type": "code",
   "execution_count": 35,
   "id": "032d2f6f-9bee-445d-8b75-f45e1d5f353f",
   "metadata": {},
   "outputs": [
    {
     "data": {
      "text/plain": [
       "31.624607341019814"
      ]
     },
     "execution_count": 35,
     "metadata": {},
     "output_type": "execute_result"
    }
   ],
   "source": [
    "# standard deviation without method .std()\n",
    "new_total = 0\n",
    "for i in salary:\n",
    "    new_total += (i - avg) ** 2\n",
    "unbaised_var = new_total / (len(salary) - 1)\n",
    "np.sqrt(unbaised_var)"
   ]
  },
  {
   "cell_type": "code",
   "execution_count": 13,
   "id": "d196ca65-2c60-47c7-a85d-49e04d677b00",
   "metadata": {},
   "outputs": [
    {
     "data": {
      "text/plain": [
       "950.11"
      ]
     },
     "execution_count": 13,
     "metadata": {},
     "output_type": "execute_result"
    }
   ],
   "source": [
    "baised_var = new_total / len(salary)\n",
    "baised_var"
   ]
  },
  {
   "cell_type": "code",
   "execution_count": 33,
   "id": "385f3079-7190-434d-a923-79d3b681bb24",
   "metadata": {},
   "outputs": [
    {
     "data": {
      "text/plain": [
       "30.823854398825596"
      ]
     },
     "execution_count": 33,
     "metadata": {},
     "output_type": "execute_result"
    }
   ],
   "source": [
    "np.sqrt(baised_var)"
   ]
  },
  {
   "cell_type": "code",
   "execution_count": 34,
   "id": "3b841158-be07-45b9-806e-02fdc0d79d80",
   "metadata": {},
   "outputs": [
    {
     "data": {
      "text/plain": [
       "1000.1157894736842"
      ]
     },
     "execution_count": 34,
     "metadata": {},
     "output_type": "execute_result"
    }
   ],
   "source": [
    "new_total = 0\n",
    "for i in salary:\n",
    "    new_total += (i - avg) ** 2\n",
    "unbaised_var = new_total / (len(salary) - 1)\n",
    "unbaised_var"
   ]
  },
  {
   "cell_type": "code",
   "execution_count": 15,
   "id": "bd38ec71-b65a-47cb-afdb-e7fc15ee91c1",
   "metadata": {},
   "outputs": [
    {
     "data": {
      "text/plain": [
       "30.823854398825596"
      ]
     },
     "execution_count": 15,
     "metadata": {},
     "output_type": "execute_result"
    }
   ],
   "source": [
    "# to check:\n",
    "np.std(salary)"
   ]
  },
  {
   "cell_type": "code",
   "execution_count": 21,
   "id": "9ff30268-4a9d-46f0-92b0-819ccd680a2e",
   "metadata": {},
   "outputs": [
    {
     "data": {
      "text/plain": [
       "950.11"
      ]
     },
     "execution_count": 21,
     "metadata": {},
     "output_type": "execute_result"
    }
   ],
   "source": [
    "# to check - baised\n",
    "np.var(salary)"
   ]
  },
  {
   "cell_type": "code",
   "execution_count": 26,
   "id": "c82223a8-2d3f-4916-aaf8-20b986d6fb3a",
   "metadata": {},
   "outputs": [
    {
     "data": {
      "text/plain": [
       "1000.1157894736842"
      ]
     },
     "execution_count": 26,
     "metadata": {},
     "output_type": "execute_result"
    }
   ],
   "source": [
    "# to check unbaised\n",
    "np.var(salary, ddof=1)"
   ]
  },
  {
   "cell_type": "code",
   "execution_count": 30,
   "id": "7cd318c4-03a4-4304-8466-4ed28ae5e6c2",
   "metadata": {},
   "outputs": [
    {
     "data": {
      "text/plain": [
       "31.624607341019814"
      ]
     },
     "execution_count": 30,
     "metadata": {},
     "output_type": "execute_result"
    }
   ],
   "source": [
    "np.std(salary, ddof=1)"
   ]
  },
  {
   "cell_type": "markdown",
   "id": "e2443078-a6a7-457f-8429-d53e273bd1e2",
   "metadata": {},
   "source": [
    "## Task 2\n",
    "В первом ящике находится 8 мячей, из которых 5 - белые. Во втором ящике - 12 мячей, из которых 5 белых. Из первого ящика вытаскивают случайным образом два мяча, из второго - 4. Какова вероятность того, что 3 мяча белые?"
   ]
  },
  {
   "cell_type": "code",
   "execution_count": 52,
   "id": "d57c8931-ec7f-4edd-843a-a734e12cb6aa",
   "metadata": {},
   "outputs": [],
   "source": [
    "def combinations(n, k):\n",
    "    return math.factorial(n) // (math.factorial(k) * math.factorial(n - k))"
   ]
  },
  {
   "cell_type": "code",
   "execution_count": 75,
   "id": "fd7d3cd7-653a-41d3-8129-53a54a8fcc00",
   "metadata": {},
   "outputs": [
    {
     "data": {
      "text/plain": [
       "0.01515151515151515"
      ]
     },
     "execution_count": 75,
     "metadata": {},
     "output_type": "execute_result"
    }
   ],
   "source": [
    "# 0 whites from 1st box\n",
    "p1_1 = combinations(5, 0) * combinations(3, 2) / combinations(8, 2)\n",
    "p2_1 = combinations(5, 3) * combinations(7, 1) / combinations(12, 4)\n",
    "p1 = p1_1 * p2_1\n",
    "p1"
   ]
  },
  {
   "cell_type": "code",
   "execution_count": 76,
   "id": "969a9120-be0b-4c22-a5c8-3f41d6a5c817",
   "metadata": {},
   "outputs": [
    {
     "data": {
      "text/plain": [
       "0.22727272727272727"
      ]
     },
     "execution_count": 76,
     "metadata": {},
     "output_type": "execute_result"
    }
   ],
   "source": [
    "# 1 white ball from the 1st box\n",
    "p2_1 = combinations(5, 1) * combinations(3, 1) / combinations(8, 2)\n",
    "p2_2 = combinations(5, 2) * combinations(7, 2) / combinations(12, 4)\n",
    "p2 = p2_1 * p2_2\n",
    "p2"
   ]
  },
  {
   "cell_type": "code",
   "execution_count": 77,
   "id": "cc9297fb-e4b8-472f-bbe4-1775474d6bb1",
   "metadata": {},
   "outputs": [
    {
     "data": {
      "text/plain": [
       "0.12626262626262627"
      ]
     },
     "execution_count": 77,
     "metadata": {},
     "output_type": "execute_result"
    }
   ],
   "source": [
    "# 2 white balls from the 1st box\n",
    "p3_1 = combinations(5, 2) * combinations(3, 0) / combinations(8, 2)\n",
    "p3_2 = combinations(5, 1) * combinations(7, 3) / combinations(12, 4)\n",
    "p3 = p3_1 * p3_2\n",
    "p3"
   ]
  },
  {
   "cell_type": "code",
   "execution_count": 78,
   "id": "755cf25a-bcc4-4e42-a486-f15a7fc7ad80",
   "metadata": {},
   "outputs": [
    {
     "data": {
      "text/plain": [
       "0.3686868686868687"
      ]
     },
     "execution_count": 78,
     "metadata": {},
     "output_type": "execute_result"
    }
   ],
   "source": [
    "total_p = p1 + p2 + p3\n",
    "total_p"
   ]
  },
  {
   "cell_type": "markdown",
   "id": "e177ac19-d4d7-4f34-a4d6-f9d3f4620b42",
   "metadata": {},
   "source": [
    "## Task 3\n",
    "На соревновании по биатлону один из трех спортсменов стреляет и попадает в мишень. Вероятность попадания для первого спортсмена равна 0.9, для второго — 0.8, для третьего — 0.6. Найти вероятность того, что выстрел произведен: a). первым спортсменом б). вторым спортсменом в). третьим спортсменом."
   ]
  },
  {
   "cell_type": "code",
   "execution_count": 80,
   "id": "f7ca29ea-dba0-4568-b2bd-0e39cf734630",
   "metadata": {},
   "outputs": [],
   "source": [
    "pb_a1 = 0.9\n",
    "pb_a2 = 0.8\n",
    "pb_a3 = 0.6"
   ]
  },
  {
   "cell_type": "markdown",
   "id": "a60fdacb-549a-4182-b04e-f8d4e8576fe0",
   "metadata": {},
   "source": [
    "a1 - first shooter shoot\n",
    "a2 - second\n",
    "a3 - third\n",
    "b - shooting is successful"
   ]
  },
  {
   "cell_type": "code",
   "execution_count": 84,
   "id": "8b24afea-946d-4dbc-91a7-f6be5fce8672",
   "metadata": {},
   "outputs": [
    {
     "name": "stdout",
     "output_type": "stream",
     "text": [
      "0.3333333333333333 0.3333333333333333 0.3333333333333333\n"
     ]
    }
   ],
   "source": [
    "pa1 = pa2 = pa3 = 1 / 3\n",
    "print(pa1, pa2, pa3)"
   ]
  },
  {
   "cell_type": "code",
   "execution_count": 85,
   "id": "02d8c290-d94f-46cd-b993-8606a3177170",
   "metadata": {},
   "outputs": [
    {
     "data": {
      "text/plain": [
       "0.7666666666666666"
      ]
     },
     "execution_count": 85,
     "metadata": {},
     "output_type": "execute_result"
    }
   ],
   "source": [
    "pb = pb_a1 * pa1 + pb_a2 * pa2 + pb_a3 * pa3\n",
    "pb"
   ]
  },
  {
   "cell_type": "code",
   "execution_count": 86,
   "id": "642db471-57fb-499f-988d-6ecdfe38ae2e",
   "metadata": {},
   "outputs": [
    {
     "data": {
      "text/plain": [
       "0.391304347826087"
      ]
     },
     "execution_count": 86,
     "metadata": {},
     "output_type": "execute_result"
    }
   ],
   "source": [
    "# probability that the first shooter shoot\n",
    "pa1_b = pb_a1 * pa1 / pb\n",
    "pa1_b"
   ]
  },
  {
   "cell_type": "code",
   "execution_count": 87,
   "id": "ec8589c7-15f7-4351-a2b8-7345753e16e9",
   "metadata": {},
   "outputs": [
    {
     "data": {
      "text/plain": [
       "0.3478260869565218"
      ]
     },
     "execution_count": 87,
     "metadata": {},
     "output_type": "execute_result"
    }
   ],
   "source": [
    "# probability that the second shooter shoot\n",
    "pa2_b = pb_a2 * pa2 / pb\n",
    "pa2_b"
   ]
  },
  {
   "cell_type": "code",
   "execution_count": 88,
   "id": "edb4ea0c-5339-449a-89b8-fc61cfd464ea",
   "metadata": {},
   "outputs": [
    {
     "data": {
      "text/plain": [
       "0.2608695652173913"
      ]
     },
     "execution_count": 88,
     "metadata": {},
     "output_type": "execute_result"
    }
   ],
   "source": [
    "# probability that the thrird shooter shoot\n",
    "pa3_b = pb_a3 * pa3 / pb\n",
    "pa3_b"
   ]
  },
  {
   "cell_type": "markdown",
   "id": "1a90ac01-4239-4ad4-932c-0e9ab4e5dbe1",
   "metadata": {},
   "source": [
    "# Task 4\n",
    "В университет на факультеты A и B поступило равное количество студентов, а на факультет C студентов поступило столько же, сколько на A и B вместе. Вероятность того, что студент факультета A сдаст первую сессию, равна 0.8. Для студента факультета B эта вероятность равна 0.7, а для студента факультета C - 0.9. Студент сдал первую сессию. Какова вероятность, что он учится: a). на факультете A б). на факультете B в). на факультете C?"
   ]
  },
  {
   "cell_type": "code",
   "execution_count": 91,
   "id": "1944b51e-0f9a-4baa-97d6-a3500393c9e0",
   "metadata": {},
   "outputs": [],
   "source": [
    "p_student_a = 0.8\n",
    "p_student_b = 0.7\n",
    "p_student_c = 0.9"
   ]
  },
  {
   "cell_type": "code",
   "execution_count": 92,
   "id": "45a229f1-23f1-474e-87dd-5cc5b0d3fc1e",
   "metadata": {},
   "outputs": [],
   "source": [
    "# a_1 - student A passed the first exam session\n",
    "# a_2 - student B passed the first exam session\n",
    "# a_3 - student C passed the first exam session\n",
    "# b - exam session is passed"
   ]
  },
  {
   "cell_type": "code",
   "execution_count": 98,
   "id": "b42a6307-1a6b-4eca-acdf-ef8eaf42ac62",
   "metadata": {},
   "outputs": [],
   "source": [
    "pa_1 = 1 /4\n",
    "pa_2 = 1 / 4\n",
    "pa_3 = 1 /2"
   ]
  },
  {
   "cell_type": "code",
   "execution_count": 99,
   "id": "79201250-04e3-47ca-bddc-cb8c07529bf9",
   "metadata": {},
   "outputs": [
    {
     "data": {
      "text/plain": [
       "0.825"
      ]
     },
     "execution_count": 99,
     "metadata": {},
     "output_type": "execute_result"
    }
   ],
   "source": [
    "pb = p_student_a * pa_1 + p_student_b * pa_2 + p_student_c * pa_3\n",
    "pb"
   ]
  },
  {
   "cell_type": "code",
   "execution_count": 100,
   "id": "bd43a8fb-58ee-461a-8e0f-fbeb9424e273",
   "metadata": {},
   "outputs": [
    {
     "data": {
      "text/plain": [
       "0.24242424242424246"
      ]
     },
     "execution_count": 100,
     "metadata": {},
     "output_type": "execute_result"
    }
   ],
   "source": [
    "# student A probability\n",
    "pa1_b = p_student_a * pa_1 / pb\n",
    "pa1_b"
   ]
  },
  {
   "cell_type": "code",
   "execution_count": 101,
   "id": "54e9600a-7aba-4133-9d14-0be0de41e1f1",
   "metadata": {},
   "outputs": [
    {
     "data": {
      "text/plain": [
       "0.21212121212121213"
      ]
     },
     "execution_count": 101,
     "metadata": {},
     "output_type": "execute_result"
    }
   ],
   "source": [
    "# student B probability\n",
    "pa2_b = p_student_b * pa_2 / pb\n",
    "pa2_b"
   ]
  },
  {
   "cell_type": "code",
   "execution_count": 102,
   "id": "ecb9ca8b-ae15-4241-a55a-ad597bdc9601",
   "metadata": {},
   "outputs": [
    {
     "data": {
      "text/plain": [
       "0.5454545454545455"
      ]
     },
     "execution_count": 102,
     "metadata": {},
     "output_type": "execute_result"
    }
   ],
   "source": [
    "# student C probability\n",
    "pa3_b = p_student_c * pa_3 / pb\n",
    "pa3_b"
   ]
  },
  {
   "cell_type": "markdown",
   "id": "ab1dcb99-9e1e-47a7-bd0c-477514048278",
   "metadata": {},
   "source": [
    "## Task 5\n",
    "Устройство состоит из трех деталей. Для первой детали вероятность выйти из строя в первый месяц равна 0.1, для второй - 0.2, для третьей - 0.25. Какова вероятность того, что в первый месяц выйдут из строя: а). все детали б). только две детали в). хотя бы одна деталь г). от одной до двух деталей?"
   ]
  },
  {
   "cell_type": "code",
   "execution_count": 104,
   "id": "ab82e867-99ce-492a-bfa9-0a4c30517c51",
   "metadata": {},
   "outputs": [],
   "source": [
    "# a - detail 1\n",
    "# b - detail 2\n",
    "# c - detail 3\n",
    "# d - details gets broken during first month"
   ]
  },
  {
   "cell_type": "code",
   "execution_count": 105,
   "id": "1852c653-186b-4a1b-8a7e-ab21297c80d3",
   "metadata": {},
   "outputs": [],
   "source": [
    "p_a = 0.1\n",
    "p_b = 0.2\n",
    "p_c = 0.25"
   ]
  },
  {
   "cell_type": "code",
   "execution_count": 107,
   "id": "2d8215eb-b19d-410f-92d7-a1499f8f2dd0",
   "metadata": {},
   "outputs": [
    {
     "data": {
      "text/plain": [
       "(1, 3, 3)"
      ]
     },
     "execution_count": 107,
     "metadata": {},
     "output_type": "execute_result"
    }
   ],
   "source": [
    "# combinations:\n",
    "c1 = combinations(3, 3)\n",
    "c2 = combinations(3, 2)\n",
    "c3 = combinations(3, 1)\n",
    "c1, c2, c3"
   ]
  },
  {
   "cell_type": "code",
   "execution_count": 108,
   "id": "5ca2b350-77b3-414a-a5a2-14dd9567c6db",
   "metadata": {},
   "outputs": [
    {
     "data": {
      "text/plain": [
       "0.005000000000000001"
      ]
     },
     "execution_count": 108,
     "metadata": {},
     "output_type": "execute_result"
    }
   ],
   "source": [
    "# all get broken\n",
    "p_all = p_a * p_b * p_c\n",
    "p_all"
   ]
  },
  {
   "cell_type": "code",
   "execution_count": 109,
   "id": "f167cbad-3a5e-49b4-9fc9-376f465c56f8",
   "metadata": {},
   "outputs": [
    {
     "data": {
      "text/plain": [
       "0.08000000000000002"
      ]
     },
     "execution_count": 109,
     "metadata": {},
     "output_type": "execute_result"
    }
   ],
   "source": [
    "# 2 get broken\n",
    "p2_1 = p_a * p_b * (1 - p_c)\n",
    "p2_2 = p_a * (1 - p_b) * p_c\n",
    "p2_3 = (1 - p_a) * p_b * p_c\n",
    "p2 = p2_1 + p2_2 + p2_3\n",
    "p2"
   ]
  },
  {
   "cell_type": "code",
   "execution_count": 110,
   "id": "8607b350-7ba7-4453-a393-b5044a0766dd",
   "metadata": {},
   "outputs": [
    {
     "data": {
      "text/plain": [
       "0.45999999999999996"
      ]
     },
     "execution_count": 110,
     "metadata": {},
     "output_type": "execute_result"
    }
   ],
   "source": [
    "# at least one details gets broken\n",
    "p_a_not = 1 - p_a\n",
    "p_b_not = 1 - p_b\n",
    "p_c_not = 1 - p_c\n",
    "p_not = p_a_not * p_b_not * p_c_not\n",
    "p1 = 1 - p_not\n",
    "p1"
   ]
  },
  {
   "cell_type": "code",
   "execution_count": 113,
   "id": "3a15708c-9d4c-4d89-ad19-8e2fe4124c44",
   "metadata": {},
   "outputs": [
    {
     "name": "stdout",
     "output_type": "stream",
     "text": [
      "0.06000000000000001\n",
      "0.135\n",
      "0.18000000000000002\n",
      "0.375\n",
      "0.455\n"
     ]
    }
   ],
   "source": [
    "# from 1 to 2 details are broken\n",
    "\n",
    "# 1st gets broken\n",
    "p1_1 = p_a * (1 - p_b) * (1 - p_c)\n",
    "print(p1_1)\n",
    "# 2nd gets broken\n",
    "p1_2 = (1 - p_a) * p_b * (1 - p_c)\n",
    "print(p1_2)\n",
    "#3rd gets broken\n",
    "p1_3 = (1 - p_a) * (1 - p_b) * p_c\n",
    "print(p1_3)\n",
    "prob = p1_1 + p1_2 + p1_3\n",
    "print(prob)\n",
    "\n",
    "# sum up the probability that 1 detail gets broken and probability that 2 details get broken\n",
    "t_prob = prob + p2\n",
    "print(t_prob)"
   ]
  },
  {
   "cell_type": "code",
   "execution_count": null,
   "id": "d8c21f97-ea9f-4cd4-b47a-2a013072c938",
   "metadata": {},
   "outputs": [],
   "source": []
  }
 ],
 "metadata": {
  "kernelspec": {
   "display_name": "Python 3 (ipykernel)",
   "language": "python",
   "name": "python3"
  },
  "language_info": {
   "codemirror_mode": {
    "name": "ipython",
    "version": 3
   },
   "file_extension": ".py",
   "mimetype": "text/x-python",
   "name": "python",
   "nbconvert_exporter": "python",
   "pygments_lexer": "ipython3",
   "version": "3.11.9"
  }
 },
 "nbformat": 4,
 "nbformat_minor": 5
}
