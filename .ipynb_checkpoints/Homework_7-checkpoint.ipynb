{
 "cells": [
  {
   "cell_type": "code",
   "execution_count": 1,
   "id": "7d26529f-7740-41a5-b89d-c3a3fba804ee",
   "metadata": {},
   "outputs": [],
   "source": [
    "import numpy as np\n",
    "from scipy import stats"
   ]
  },
  {
   "cell_type": "markdown",
   "id": "5aae9918-5f27-4125-b707-ed8062d2eefd",
   "metadata": {},
   "source": [
    "## Task 1\n",
    "1 )  Даны две  независимые выборки. Не соблюдается условие нормальности\r\n",
    "x1  380,420, 290\r\n",
    "y1 140,360,200,9\n",
    "\n",
    "Сделайте вывод по результатам, полученным с помощью функции00"
   ]
  },
  {
   "cell_type": "code",
   "execution_count": 3,
   "id": "e4524883-6a8d-47dc-850b-4d0d60ceb278",
   "metadata": {},
   "outputs": [
    {
     "data": {
      "text/plain": [
       "MannwhitneyuResult(statistic=8.0, pvalue=0.6285714285714286)"
      ]
     },
     "execution_count": 3,
     "metadata": {},
     "output_type": "execute_result"
    }
   ],
   "source": [
    "x = np.array([380, 420, 290])\n",
    "y = np.array([140, 360, 200, 900])\n",
    "alpha = 0.05\n",
    "\n",
    "stats.mannwhitneyu(x, y)"
   ]
  },
  {
   "cell_type": "code",
   "execution_count": 4,
   "id": "969f98b2-f9c8-42e1-80ef-1db22c68df1d",
   "metadata": {},
   "outputs": [],
   "source": [
    "# p-value > alpha => Нулевая гипотеза принимается при вероятности ошибки 5%.\n",
    "# Статистически значимых различий между выборками нет"
   ]
  },
  {
   "cell_type": "markdown",
   "id": "f1fbcddd-072e-4bf7-8a14-ae53a9d2ddbd",
   "metadata": {},
   "source": [
    "## Task 2\n",
    "2 ) Исследовалось влияние препарата на уровень давления пациентов. Сначала измерялось давление до приема препарата, потом через 10 минут и через 30 минут. Есть ли статистически значимые различия?\r\n",
    "\r\n",
    "1е измерение до приема препарата: 150, 160, 165, 145, 155\r\n",
    "2е измерение через 10 минут: 140, 155, 150,  130, 135\r\n",
    "3е измерение через 30 минут: 130, 130, 120, 130, 125"
   ]
  },
  {
   "cell_type": "code",
   "execution_count": 5,
   "id": "37e5042c-96ed-44ea-8ef1-f0fef6a3b594",
   "metadata": {},
   "outputs": [
    {
     "data": {
      "text/plain": [
       "FriedmanchisquareResult(statistic=9.578947368421062, pvalue=0.00831683351100441)"
      ]
     },
     "execution_count": 5,
     "metadata": {},
     "output_type": "execute_result"
    }
   ],
   "source": [
    "# критерий Фридмана, так как три выборки и они зависимые.\n",
    "first = np.array([150, 160, 165, 145, 155])\n",
    "second = np.array([140, 155, 150, 130, 135])\n",
    "third = np.array([130, 130, 120, 130, 125])\n",
    "alpha = 0.05\n",
    "\n",
    "stats.friedmanchisquare(first, second, third)"
   ]
  },
  {
   "cell_type": "code",
   "execution_count": 6,
   "id": "8ee86d01-7a19-49ae-966b-5702a1794a25",
   "metadata": {},
   "outputs": [],
   "source": [
    "# p-value < alpha => Нулевая гипотеза отвергается при вероятности ошибки 5%\n",
    "# Следовательно, препарат влияет на давление пациентов."
   ]
  },
  {
   "cell_type": "markdown",
   "id": "23585397-bfc1-48dc-8f08-36588d8c7d6d",
   "metadata": {},
   "source": [
    "## Task 3\n",
    "Сравните 1 и 2 е измерения, предполагая, что 3го измерения через 30 минут не было."
   ]
  },
  {
   "cell_type": "code",
   "execution_count": 7,
   "id": "3a4d0ee4-006e-4168-95df-4b1d0ab34832",
   "metadata": {},
   "outputs": [
    {
     "data": {
      "text/plain": [
       "WilcoxonResult(statistic=0.0, pvalue=0.0625)"
      ]
     },
     "execution_count": 7,
     "metadata": {},
     "output_type": "execute_result"
    }
   ],
   "source": [
    "# Здесь будем использовать критерий Уилкоксона, так как группы 2, но они все еще зависимые\n",
    "stats.wilcoxon(first, second)"
   ]
  },
  {
   "cell_type": "code",
   "execution_count": 15,
   "id": "b5320807-a3a7-4597-86f6-aec12dbb924f",
   "metadata": {},
   "outputs": [],
   "source": [
    "# p-value > alpha (alpha = 0.05) => Нулевую гипотезу при таких выборках принимаем с вероятностью ошибки 5%.\n",
    "# Соответственно, для таких выборок вывод будет, что препарат через 10 минут после приема еды на давление\n",
    "# пациентов статистически значимого влияния не имеет.\n",
    "#Это означает, что сумма рангов положительных различий равна сумме рангов отрицательных различий. \n",
    "# В данном случае, это может указывать на то, что различия между парами значений в выборках минимальны или отсутствуют."
   ]
  },
  {
   "cell_type": "markdown",
   "id": "f5414979-f696-4fb0-b387-e742edd40a06",
   "metadata": {},
   "source": [
    "## Task 4\n",
    "4) Даны 3 группы  учеников плавания.\n",
    "   \r\n",
    "В 1 группе время на дистанцию 50 м составляют \r\n",
    "56, 60, 62, 55, 71, 67, 59, 58, 64, 67\r\n",
    "\r\n",
    "Вторая группа : 57, 58, 69, 48, 72, 70, 68, 71, 50\n",
    ", 53\r\n",
    "Третья группа: 57, 67, 49, 48, 47, 55, 66, 51, 54"
   ]
  },
  {
   "cell_type": "code",
   "execution_count": 9,
   "id": "c807666e-3fa1-4439-9833-d89c484ab196",
   "metadata": {},
   "outputs": [
    {
     "data": {
      "text/plain": [
       "KruskalResult(statistic=5.465564058257224, pvalue=0.0650380998590494)"
      ]
     },
     "execution_count": 9,
     "metadata": {},
     "output_type": "execute_result"
    }
   ],
   "source": [
    "# выборки независимые, их больше трех, следовательно берем критерий Крускала-Уоллиса\n",
    "gr1 = np.array([56, 60, 62, 55, 71, 67, 59, 58, 64, 67])\n",
    "gr2 = np.array([57, 58, 69, 48, 72, 70, 68, 71, 50 , 53])\n",
    "gr3 = np.array([57, 67, 49, 48, 47, 55, 66, 51, 54])\n",
    "alpha = 0.05\n",
    "\n",
    "stats.kruskal(gr1, gr2, gr3)"
   ]
  },
  {
   "cell_type": "code",
   "execution_count": 10,
   "id": "9bad63e8-0a8a-45c8-945d-17c2ab3eb104",
   "metadata": {},
   "outputs": [],
   "source": [
    "#p-value > alpha => Нулевая гипотеза принимается с вероятностью ошибки 5%\n",
    "# Следовательно, нет статистически значимых различий времени среди групп учеников по плаванию на дистанцию 50 метров.\n",
    "#"
   ]
  },
  {
   "cell_type": "markdown",
   "id": "e360c0cc-7e4b-46c3-9c0d-2136459846e1",
   "metadata": {},
   "source": [
    "## Task 5\n",
    "Заявляется, что партия изготавливается со средним арифметическим 2,5 см. Проверить данную гипотезу, если известно, что размеры изделий подчинены нормальному закону распределения. Объем выборки 10, уровень статистической значимости 5%\r\n",
    "\r\n",
    "2.51, 2.35, 2.74, 2.56, 2.40, 2.36, 2.65, 2.7, 2.67, 2.34"
   ]
  },
  {
   "cell_type": "code",
   "execution_count": 14,
   "id": "6436ef75-cc07-4930-8386-ed1e1c01d67f",
   "metadata": {},
   "outputs": [
    {
     "name": "stdout",
     "output_type": "stream",
     "text": [
      "Mean of the sample: 2.5279999999999996\n",
      "Standard deviation of the sample: 0.1572542173961923\n",
      "t-criterion empirical: 0.5630613661802959 \n",
      "Tablular value of t-criterion: 2.2621571628540993\n",
      "При alpha=0.05 гипотеза Н_0 принимается\n"
     ]
    }
   ],
   "source": [
    "# H0: mean_general = mean_sample\n",
    "# H1: mean_general ≠ mean_sample\n",
    "mean_general = 2.5\n",
    "n = 10\n",
    "alpha = 0.05\n",
    "\n",
    "sample = np.array([2.51, 2.35, 2.74, 2.56, 2.40, 2.36, 2.65, 2.7, 2.67, 2.34])\n",
    "\n",
    "mean_sample = np.mean(sample)\n",
    "print(f'Mean of the sample: {mean_sample}')\n",
    "\n",
    "std_sample = np.std(sample, ddof=1)\n",
    "print(f'Standard deviation of the sample: {std_sample}')\n",
    "\n",
    "t_emp = abs((mean_sample - mean_general) / (std_sample / np.sqrt(n)))\n",
    "print(f't-criterion empirical: {t_emp} ')\n",
    "\n",
    "t_t = stats.t.ppf(1 - alpha / 2, df=n - 1)\n",
    "print(f'Tablular value of t-criterion: {t_t}')\n",
    "\n",
    "if t_emp < t_t:\n",
    "    print('При alpha=0.05 гипотеза Н_0 принимается')\n",
    "elif t_emp > t_t:\n",
    "    print('При alpha=0.05 гипотеза H_0 отвергается, принимаем гипотезу Н_1')"
   ]
  },
  {
   "cell_type": "code",
   "execution_count": 13,
   "id": "54f40060-dbb5-4da9-822f-510497819ab2",
   "metadata": {},
   "outputs": [
    {
     "name": "stdout",
     "output_type": "stream",
     "text": [
      "0.5871439993940628\n",
      "Принимаем гипотезу Н_0\n"
     ]
    }
   ],
   "source": [
    "# Checking p-value in addition\n",
    "p_value = 2 * (1 - stats.t.cdf(t_emp, df=n-1))\n",
    "print(p_value)\n",
    "if p_value < alpha:\n",
    "    print('Отвергаем гипотезу Н_0')\n",
    "elif p_value > alpha:\n",
    "    print('Принимаем гипотезу Н_0')"
   ]
  }
 ],
 "metadata": {
  "kernelspec": {
   "display_name": "Python 3 (ipykernel)",
   "language": "python",
   "name": "python3"
  },
  "language_info": {
   "codemirror_mode": {
    "name": "ipython",
    "version": 3
   },
   "file_extension": ".py",
   "mimetype": "text/x-python",
   "name": "python",
   "nbconvert_exporter": "python",
   "pygments_lexer": "ipython3",
   "version": "3.11.9"
  }
 },
 "nbformat": 4,
 "nbformat_minor": 5
}
