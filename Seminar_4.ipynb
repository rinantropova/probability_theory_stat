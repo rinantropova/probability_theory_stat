{
 "cells": [
  {
   "cell_type": "markdown",
   "id": "f1b1ffe7-4ec0-4d9c-9de6-4f7a6a6d5498",
   "metadata": {},
   "source": [
    "В модуле scipy.stats есть готовые функции распределения и плотности для многих известных распределений\n",
    "\n",
    "####**scipy.stats**\n",
    "\n",
    "* binom - биномиальное\n",
    "* poisson - Пуассоновское\n",
    "* geom - геометрическое\n",
    "* norm - нормальное\n",
    "* uniform - непрерывное равномерное\n",
    "* и др.\n",
    "\n",
    "Доступные функции:\n",
    "* pmf - закон распределения для дискретных величин\n",
    "* pdf - функция плотности для непрерывных величин\n",
    "* cdf - функция распределения\n",
    "* ppf - квантильная функция (обратная к функции распределения)\n"
   ]
  },
  {
   "cell_type": "code",
   "execution_count": 2,
   "id": "9262d32f-78e8-4d43-8cfa-df7a802b50bf",
   "metadata": {},
   "outputs": [],
   "source": [
    "from scipy import stats"
   ]
  },
  {
   "cell_type": "code",
   "execution_count": 4,
   "id": "3cc5f273-8032-421f-948e-8d7a7ea9f523",
   "metadata": {},
   "outputs": [
    {
     "data": {
      "text/plain": [
       "0.9044192954543706"
      ]
     },
     "execution_count": 4,
     "metadata": {},
     "output_type": "execute_result"
    }
   ],
   "source": [
    "stats.norm.cdf(55, loc=50, scale=3) - stats.norm.cdf(45, loc=50, scale=3)"
   ]
  },
  {
   "cell_type": "code",
   "execution_count": 5,
   "id": "52beebd7-aec5-4d3f-a132-ae11304872e5",
   "metadata": {},
   "outputs": [
    {
     "data": {
      "text/plain": [
       "0.021009428839842772"
      ]
     },
     "execution_count": 5,
     "metadata": {},
     "output_type": "execute_result"
    }
   ],
   "source": [
    "stats.norm.cdf(3.78, loc=5, scale=0.6)"
   ]
  },
  {
   "cell_type": "code",
   "execution_count": 7,
   "id": "0ba6154a-eaac-4ad9-8a86-b097e2c87502",
   "metadata": {},
   "outputs": [
    {
     "data": {
      "text/plain": [
       "0.9772498680518208"
      ]
     },
     "execution_count": 7,
     "metadata": {},
     "output_type": "execute_result"
    }
   ],
   "source": [
    "stats.norm.cdf(190, loc=174, scale=8) - stats.norm.cdf(100, loc=174, scale=8)"
   ]
  },
  {
   "cell_type": "code",
   "execution_count": null,
   "id": "b8bc0360-accc-4db6-a626-8cc8104f3ca2",
   "metadata": {},
   "outputs": [],
   "source": []
  }
 ],
 "metadata": {
  "kernelspec": {
   "display_name": "Python 3 (ipykernel)",
   "language": "python",
   "name": "python3"
  },
  "language_info": {
   "codemirror_mode": {
    "name": "ipython",
    "version": 3
   },
   "file_extension": ".py",
   "mimetype": "text/x-python",
   "name": "python",
   "nbconvert_exporter": "python",
   "pygments_lexer": "ipython3",
   "version": "3.11.9"
  }
 },
 "nbformat": 4,
 "nbformat_minor": 5
}
