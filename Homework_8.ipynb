{
 "cells": [
  {
   "cell_type": "markdown",
   "id": "2f34a095-d612-4a2b-a98b-718b54961bf5",
   "metadata": {},
   "source": [
    "## Task 1\n",
    "Даны значения величины заработной платы заемщиков банка (zp) и значения их\r\n",
    "поведенческого кредитного скоринга (ks): zp = [35, 45, 190, 200, 40, 70, 54, 150, 120, 110], ks\r\n",
    "= [401, 574, 874, 919, 459, 739, 653, 902, 746, 832]. Найдите ковариацию этих двух величин с\r\n",
    "помощью элементарных действий, а затем с помощью функции cov из numpy Полученные\r\n",
    "значения должны быть равны. Найдите коэффициент корреляции Пирсона с помощью\r\n",
    "ковариации и среднеквадратичных отклонений двух признаков, а затем с\r\n",
    "использованием функций из библиотек numpy и pandas.\r"
   ]
  },
  {
   "cell_type": "code",
   "execution_count": 1,
   "id": "c374f073-76fe-4832-9ad1-d46087af80be",
   "metadata": {},
   "outputs": [],
   "source": [
    "from scipy import stats\n",
    "import numpy as np\n",
    "import pandas as pd"
   ]
  },
  {
   "cell_type": "code",
   "execution_count": 2,
   "id": "5a2efa9f-5011-4fbb-b14c-ed0337d85730",
   "metadata": {},
   "outputs": [],
   "source": [
    "zp = np.array([35, 45, 190, 200, 40, 70, 54, 150, 120, 110])\n",
    "ks = np.array([401, 574, 874, 919, 459, 739, 653, 902, 746, 832])"
   ]
  },
  {
   "cell_type": "code",
   "execution_count": 3,
   "id": "9c2a91d9-3f2a-4e6c-9f09-28c9f353bbdb",
   "metadata": {},
   "outputs": [
    {
     "data": {
      "text/plain": [
       "101.4"
      ]
     },
     "execution_count": 3,
     "metadata": {},
     "output_type": "execute_result"
    }
   ],
   "source": [
    "zp_mean = np.mean(zp)\n",
    "zp_mean"
   ]
  },
  {
   "cell_type": "code",
   "execution_count": 4,
   "id": "4bdab2b6-4cb1-44f3-8ed4-2d55f9cd2022",
   "metadata": {},
   "outputs": [
    {
     "data": {
      "text/plain": [
       "709.9"
      ]
     },
     "execution_count": 4,
     "metadata": {},
     "output_type": "execute_result"
    }
   ],
   "source": [
    "ks_mean = np.mean(ks)\n",
    "ks_mean"
   ]
  },
  {
   "cell_type": "code",
   "execution_count": 14,
   "id": "1c760ff0-a004-437b-9c12-f671ca3d0f2b",
   "metadata": {},
   "outputs": [
    {
     "name": "stdout",
     "output_type": "stream",
     "text": [
      "Manually calculated covariation: 10175.37777777778\n"
     ]
    }
   ],
   "source": [
    "cov_manual = np.sum((zp - zp_mean) * (ks - ks_mean)) / (len(zp) - 1)\n",
    "print(f'Manually calculated covariation: {cov_manual}')"
   ]
  },
  {
   "cell_type": "code",
   "execution_count": 12,
   "id": "a4c0d2b2-72a9-4d7e-83a6-02306babcabc",
   "metadata": {},
   "outputs": [
    {
     "name": "stdout",
     "output_type": "stream",
     "text": [
      "Covariation calculated using numpy: 10175.377777777776\n"
     ]
    }
   ],
   "source": [
    "cov_np = np.cov(zp, ks)[0, 1]\n",
    "print(f'Covariation calculated using numpy: {cov_np}')"
   ]
  },
  {
   "cell_type": "code",
   "execution_count": 16,
   "id": "f9a17fd5-35a2-47f1-8007-7bfebe327324",
   "metadata": {},
   "outputs": [
    {
     "data": {
      "text/plain": [
       "(62.31318747531162, 183.99544076477068)"
      ]
     },
     "execution_count": 16,
     "metadata": {},
     "output_type": "execute_result"
    }
   ],
   "source": [
    "zp_std = np.std(zp, ddof=1)\n",
    "ks_std = np.std(ks, ddof=1)\n",
    "zp_std, ks_std"
   ]
  },
  {
   "cell_type": "code",
   "execution_count": 18,
   "id": "0c3d8b67-6adf-4d62-9d3f-e2d6578de7de",
   "metadata": {},
   "outputs": [
    {
     "name": "stdout",
     "output_type": "stream",
     "text": [
      "Correlation coefficient calculated manually: 0.8874900920739164\n"
     ]
    }
   ],
   "source": [
    "corrcoef_manually = cov_manual / (zp_std * ks_std)\n",
    "print(f'Correlation coefficient calculated manually: {corrcoef_manually}')"
   ]
  },
  {
   "cell_type": "code",
   "execution_count": 19,
   "id": "f7c044c0-258b-49fb-8514-43fa96f24a56",
   "metadata": {},
   "outputs": [
    {
     "name": "stdout",
     "output_type": "stream",
     "text": [
      "Correlation coefficient calculated using numpy: 0.8874900920739162\n"
     ]
    }
   ],
   "source": [
    "corrcoef_np = np.corrcoef(zp, ks)[0, 1]\n",
    "print(f'Correlation coefficient calculated using numpy: {corrcoef_np}')"
   ]
  },
  {
   "cell_type": "code",
   "execution_count": 20,
   "id": "ad9384d8-e13e-492f-a5ad-fbbf08d20bd5",
   "metadata": {},
   "outputs": [
    {
     "name": "stdout",
     "output_type": "stream",
     "text": [
      "Correlation coefficient calculated using pandas: 0.8874900920739162\n"
     ]
    }
   ],
   "source": [
    "corrcoef_pd = pd.Series(zp).corr(pd.Series(ks))\n",
    "print(f'Correlation coefficient calculated using pandas: {corrcoef_pd}')"
   ]
  },
  {
   "cell_type": "markdown",
   "id": "fa7d7c07-6c7f-42d9-b47a-2bb8a0daaad0",
   "metadata": {},
   "source": [
    "## Task 2\n",
    "Измерены значения IQ выборки студентов, обучающихся в местных технических вузах:\r\n",
    "131, 125, 115, 122, 131, 115, 107, 99, 125, 111. Известно, что в генеральной\r\n",
    "совокупности IQ распределен нормально. Найдите доверительный интервал для\r\n",
    "математического ожидания с надежностью 0.95."
   ]
  },
  {
   "cell_type": "code",
   "execution_count": 22,
   "id": "fd488a18-5d6a-4a1c-bdca-64b0ed01ab6a",
   "metadata": {},
   "outputs": [],
   "source": [
    "iq = np.array([131, 125, 115, 122, 131, 115, 107, 99, 125, 111])\n",
    "alpha = 0.05"
   ]
  },
  {
   "cell_type": "code",
   "execution_count": 24,
   "id": "5b815c8d-8512-4849-b7eb-8df44b01c94a",
   "metadata": {},
   "outputs": [
    {
     "data": {
      "text/plain": [
       "118.1"
      ]
     },
     "execution_count": 24,
     "metadata": {},
     "output_type": "execute_result"
    }
   ],
   "source": [
    "mean_iq = np.mean(iq)\n",
    "mean_iq"
   ]
  },
  {
   "cell_type": "code",
   "execution_count": 25,
   "id": "1a7e769a-87d7-4b9f-8951-856d1b83258f",
   "metadata": {},
   "outputs": [
    {
     "data": {
      "text/plain": [
       "10.54566788359614"
      ]
     },
     "execution_count": 25,
     "metadata": {},
     "output_type": "execute_result"
    }
   ],
   "source": [
    "std_iq = np.std(iq, ddof=1)\n",
    "std_iq"
   ]
  },
  {
   "cell_type": "code",
   "execution_count": 27,
   "id": "a497c366-a6fe-47eb-834d-8b05c548a0ac",
   "metadata": {},
   "outputs": [
    {
     "data": {
      "text/plain": [
       "10"
      ]
     },
     "execution_count": 27,
     "metadata": {},
     "output_type": "execute_result"
    }
   ],
   "source": [
    "n = len(iq)\n",
    "n"
   ]
  },
  {
   "cell_type": "code",
   "execution_count": 28,
   "id": "bd243099-b016-4d97-8623-3a01fead64e0",
   "metadata": {},
   "outputs": [],
   "source": [
    "df = n - 1"
   ]
  },
  {
   "cell_type": "code",
   "execution_count": 29,
   "id": "40eaad00-262b-4562-be4f-ba188b9ae93c",
   "metadata": {},
   "outputs": [
    {
     "data": {
      "text/plain": [
       "2.2621571628540993"
      ]
     },
     "execution_count": 29,
     "metadata": {},
     "output_type": "execute_result"
    }
   ],
   "source": [
    "t = stats.t.ppf(1 - alpha/2, df)\n",
    "t"
   ]
  },
  {
   "cell_type": "code",
   "execution_count": 30,
   "id": "34fad4b9-868c-4941-8104-d7c4dae43c33",
   "metadata": {},
   "outputs": [
    {
     "name": "stdout",
     "output_type": "stream",
     "text": [
      "Доверительный интервал составит:(110.56, 125.64)\n"
     ]
    }
   ],
   "source": [
    "x = mean_iq - t * std_iq / np.sqrt(n)\n",
    "y = mean_iq + t * std_iq / np.sqrt(n)\n",
    "print(f'Доверительный интервал составит:({x:.2f}, {y:.2f})')"
   ]
  },
  {
   "cell_type": "markdown",
   "id": "65b9bf27-0f9d-4853-9d69-3b0f8b5f4bc4",
   "metadata": {},
   "source": [
    "## Task 3\n",
    "Известно, что рост футболистов в сборной распределен нормально с дисперсией\r\n",
    "генеральной совокупности, равной 25 кв.см. Объем выборки равен 27, среднее\r\n",
    "выборочное составляет 174.2. Найдите доверительный интервал для математического\r\n",
    "ожидания с надежностью 0.95.\r"
   ]
  },
  {
   "cell_type": "code",
   "execution_count": 31,
   "id": "3fe04933-f937-4657-b66f-3d5693621cea",
   "metadata": {},
   "outputs": [],
   "source": [
    "var = 25\n",
    "n = 27\n",
    "mu = 174.2\n",
    "alpha = 0.05"
   ]
  },
  {
   "cell_type": "code",
   "execution_count": 32,
   "id": "95f7dd09-f147-4f69-be59-d7ae4aac6f31",
   "metadata": {},
   "outputs": [
    {
     "data": {
      "text/plain": [
       "5.0"
      ]
     },
     "execution_count": 32,
     "metadata": {},
     "output_type": "execute_result"
    }
   ],
   "source": [
    "std = np.sqrt(var)\n",
    "std"
   ]
  },
  {
   "cell_type": "code",
   "execution_count": 35,
   "id": "44a9fe52-36c5-402e-a462-116ffafbfdfe",
   "metadata": {},
   "outputs": [
    {
     "data": {
      "text/plain": [
       "1.959963984540054"
      ]
     },
     "execution_count": 35,
     "metadata": {},
     "output_type": "execute_result"
    }
   ],
   "source": [
    "z = stats.norm.ppf((1 - alpha / 2))\n",
    "z"
   ]
  },
  {
   "cell_type": "code",
   "execution_count": 36,
   "id": "320a2a58-dc9e-4090-9970-1b166e58afb0",
   "metadata": {},
   "outputs": [
    {
     "data": {
      "text/plain": [
       "0.9622504486493763"
      ]
     },
     "execution_count": 36,
     "metadata": {},
     "output_type": "execute_result"
    }
   ],
   "source": [
    "se = std / np.sqrt(n)\n",
    "se"
   ]
  },
  {
   "cell_type": "code",
   "execution_count": 38,
   "id": "66647164-52aa-46b7-b0bd-fb651949b03b",
   "metadata": {},
   "outputs": [
    {
     "name": "stdout",
     "output_type": "stream",
     "text": [
      "Доверительный интервал составит: (172.31, 176.09)\n"
     ]
    }
   ],
   "source": [
    "x = mu - z * se\n",
    "y = mu + z * se\n",
    "print(f'Доверительный интервал составит: ({x:.2f}, {y:.2f})')"
   ]
  }
 ],
 "metadata": {
  "kernelspec": {
   "display_name": "Python 3 (ipykernel)",
   "language": "python",
   "name": "python3"
  },
  "language_info": {
   "codemirror_mode": {
    "name": "ipython",
    "version": 3
   },
   "file_extension": ".py",
   "mimetype": "text/x-python",
   "name": "python",
   "nbconvert_exporter": "python",
   "pygments_lexer": "ipython3",
   "version": "3.11.9"
  }
 },
 "nbformat": 4,
 "nbformat_minor": 5
}
