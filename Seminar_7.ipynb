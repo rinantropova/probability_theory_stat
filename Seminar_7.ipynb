{
 "cells": [
  {
   "cell_type": "code",
   "execution_count": 1,
   "id": "d495666e-bb83-460d-8895-a0a475951584",
   "metadata": {},
   "outputs": [],
   "source": [
    "import numpy as np\n",
    "from scipy import stats"
   ]
  },
  {
   "cell_type": "markdown",
   "id": "3b35dc43-730f-4a19-a83a-4912e3e132e6",
   "metadata": {},
   "source": [
    "## Task 1"
   ]
  },
  {
   "cell_type": "code",
   "execution_count": 2,
   "id": "487ed7a7-ae0c-4860-a0c6-8e08f703b188",
   "metadata": {},
   "outputs": [
    {
     "data": {
      "text/plain": [
       "MannwhitneyuResult(statistic=3.0, pvalue=0.4)"
      ]
     },
     "execution_count": 2,
     "metadata": {},
     "output_type": "execute_result"
    }
   ],
   "source": [
    "x = np.array([100, 1380, 1200])\n",
    "y = np.array([1400, 1600, 1180, 1220])\n",
    "\n",
    "stats.mannwhitneyu(x, y)"
   ]
  },
  {
   "cell_type": "markdown",
   "id": "a19b9e3f-e274-45a9-8fa6-228f8ad0540d",
   "metadata": {},
   "source": [
    "## Task 2\n",
    "Средние расходы на обследование одного больного до ознакомления с расходами коллег\r\n",
    "X= np.array([20,17, 14, 42, 50, 62, 8, 49, 81, 54, 48, 55, 56])\r\n",
    "Y= np.array ([20, 26, 1, 24, 1, 47, 15, 7, 65, 9, 21, 36, 30])\r\n",
    "Средние расходы на лечение одного больного до ознакомления с расходами коллег\r\n",
    "X= np.array([ 32, 41, 51, 29, 76, 47, 60, 58, 40, 64, 73, 66, 73])\r\n",
    "Y= np.array ([42, 90, 71, 47, 56, 43, 137, 63, 28, 60, 87, 69, 50])\r\n",
    "Произошли ли изменения на расходы и лечение?"
   ]
  },
  {
   "cell_type": "code",
   "execution_count": 4,
   "id": "4527cea9-9a6a-457f-92e3-135385f40635",
   "metadata": {},
   "outputs": [
    {
     "data": {
      "text/plain": [
       "WilcoxonResult(statistic=3.0, pvalue=0.004741768038406972)"
      ]
     },
     "execution_count": 4,
     "metadata": {},
     "output_type": "execute_result"
    }
   ],
   "source": [
    "# 1\n",
    "a = np.array([20,17, 14, 42, 50, 62, 8, 49, 81, 54, 48, 55, 56])\n",
    "b = np.array ([20, 26, 1, 24, 1, 47, 15, 7, 65, 9, 21, 36, 30])\n",
    "\n",
    "stats.wilcoxon(a, b)\n",
    "# p-value < alpha => H0 is rejected"
   ]
  },
  {
   "cell_type": "markdown",
   "id": "5c296bbd-f79e-4ec0-ab97-4d772b898fe5",
   "metadata": {},
   "source": [
    "Summary: отвергаем нулевую гипотезу, с вероятностью ошибки 0.01, есть изменения"
   ]
  },
  {
   "cell_type": "code",
   "execution_count": 6,
   "id": "cdb3ec4d-cede-4309-84ce-34061ddcf719",
   "metadata": {},
   "outputs": [
    {
     "data": {
      "text/plain": [
       "WilcoxonResult(statistic=31.5, pvalue=0.339599609375)"
      ]
     },
     "execution_count": 6,
     "metadata": {},
     "output_type": "execute_result"
    }
   ],
   "source": [
    "# 2\n",
    "c = np.array([ 32, 41, 51, 29, 76, 47, 60, 58, 40, 64, 73, 66, 73])\n",
    "d = np.array ([42, 90, 71, 47, 56, 43, 137, 63, 28, 60, 87, 69, 50])\n",
    "\n",
    "stats.wilcoxon(c, d)\n",
    "# p-value > alpha => H0 is accepted with error probability 0.01"
   ]
  },
  {
   "cell_type": "markdown",
   "id": "d8f83a8a-d789-4306-83e4-1432dc80ebd1",
   "metadata": {},
   "source": [
    "## Task 3\n",
    "При исследовании препарата для снижения\r\n",
    "кровяного давления у больных 3 раза измерялся\r\n",
    "сердечный выброс. Менялся ли сердечный выброс?\r\n",
    "Найти критерий вручную, проверьте значение\r\n",
    "функцией и интерпретируйте результат с\r\n",
    "использованием p-value\r\n",
    "A= np.array([3.5, 3.3, 4.9, 3.6])\r\n",
    "B= np.array([8.6, 5.4, 8.8, 5.6])\r\n",
    "C=np.array([5.1, 8.6, 7.7, 5.0])"
   ]
  },
  {
   "cell_type": "code",
   "execution_count": 12,
   "id": "f6d1c3a0-46c7-43ea-a14f-3bb3287236ee",
   "metadata": {},
   "outputs": [
    {
     "data": {
      "text/plain": [
       "FriedmanchisquareResult(statistic=6.5, pvalue=0.03877420783172202)"
      ]
     },
     "execution_count": 12,
     "metadata": {},
     "output_type": "execute_result"
    }
   ],
   "source": [
    "e = np.array([3.5, 3.3, 4.9, 3.6])\n",
    "f = np.array([8.6, 5.4, 8.8, 5.6])\n",
    "j = np.array([5.1, 8.6, 7.7, 5.0])\n",
    "\n",
    "stats.friedmanchisquare(e, f, j)\n",
    "# pvalue < alpha=0.05 => H0 is rejected => сердечный выброс менялся, препарат для снижения давления работает"
   ]
  },
  {
   "cell_type": "markdown",
   "id": "86062e20-3bfd-46f2-af33-e6136ca81ffa",
   "metadata": {},
   "source": [
    "## Task 4\n",
    "Даны значения проницаемости сосудов сетчатки gr1 (здоровые пациенты), gr 2 ( поражение в области центральной\r\n",
    "ямки), gr3 (в области центральной ямки и на периферии).\r\n",
    "Сравнить данные, относящиеся к разным видам поражения.\r\n",
    "gr1 =([0.5, 0.7, 1, 1.2, 1.4])\r\n",
    "gr2 = ([1.3, 1.45, 1.6, 1.7, 1.8])\r\n",
    "gr3 = ([6.2, 12.6, 13.2, 14.1, 14.2])"
   ]
  },
  {
   "cell_type": "code",
   "execution_count": 13,
   "id": "22532189-cc65-4b07-9794-5819d8f489f4",
   "metadata": {},
   "outputs": [
    {
     "data": {
      "text/plain": [
       "KruskalResult(statistic=12.02000000000001, pvalue=0.002454088180413905)"
      ]
     },
     "execution_count": 13,
     "metadata": {},
     "output_type": "execute_result"
    }
   ],
   "source": [
    "gr1 = np.array([0.5, 0.7, 1, 1.2, 1.4])\n",
    "gr2 = np.array([1.3, 1.45, 1.6, 1.7, 1.8])\n",
    "gr3 = np.array([6.2, 12.6, 13.2, 14.1, 14.2])\n",
    "\n",
    "stats.kruskal(gr1, gr2, gr3)\n",
    "# pvalue < alpha=0.05 => H0 is rejected => есть различия в проницаемости сосудов в зависимости от группы"
   ]
  }
 ],
 "metadata": {
  "kernelspec": {
   "display_name": "Python 3 (ipykernel)",
   "language": "python",
   "name": "python3"
  },
  "language_info": {
   "codemirror_mode": {
    "name": "ipython",
    "version": 3
   },
   "file_extension": ".py",
   "mimetype": "text/x-python",
   "name": "python",
   "nbconvert_exporter": "python",
   "pygments_lexer": "ipython3",
   "version": "3.11.9"
  }
 },
 "nbformat": 4,
 "nbformat_minor": 5
}
