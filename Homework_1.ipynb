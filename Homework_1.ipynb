{
 "cells": [
  {
   "cell_type": "markdown",
   "id": "b85a25b5-2342-434e-9fd8-ffcdab733529",
   "metadata": {},
   "source": [
    "## Task 1\n",
    "1. Из колоды в 52 карты извлекаются случайным образом 4 карты. a) Найти вероятность того, что все карты – крести.\n",
    "\n",
    "A - all cards are crosses"
   ]
  },
  {
   "cell_type": "code",
   "execution_count": 1,
   "id": "1f302593-e9f2-4b85-b516-8abfbc5fe233",
   "metadata": {},
   "outputs": [],
   "source": [
    "import numpy as np\n",
    "from math import factorial"
   ]
  },
  {
   "cell_type": "code",
   "execution_count": 2,
   "id": "7f8cb72f-ed59-43aa-8713-e4c95313fdba",
   "metadata": {},
   "outputs": [],
   "source": [
    "def combinations(n, k):\n",
    "    return np.math.factorial(n) // (np.math.factorial(k) * np.math.factorial(n - k))"
   ]
  },
  {
   "cell_type": "code",
   "execution_count": 3,
   "id": "b7583c6d-2106-4985-9775-f67a66b2e165",
   "metadata": {},
   "outputs": [
    {
     "name": "stderr",
     "output_type": "stream",
     "text": [
      "C:\\Users\\Administrator\\AppData\\Local\\Temp\\ipykernel_20624\\1976221405.py:2: DeprecationWarning: `np.math` is a deprecated alias for the standard library `math` module (Deprecated Numpy 1.25). Replace usages of `np.math` with `math`\n",
      "  return np.math.factorial(n) // (np.math.factorial(k) * np.math.factorial(n - k))\n"
     ]
    },
    {
     "data": {
      "text/plain": [
       "0.0026410564225690276"
      ]
     },
     "execution_count": 3,
     "metadata": {},
     "output_type": "execute_result"
    }
   ],
   "source": [
    "n = combinations(52, 4)\n",
    "m = combinations(13, 4) * combinations(39, 0)\n",
    "p = m / n\n",
    "p"
   ]
  },
  {
   "cell_type": "markdown",
   "id": "3859f802-046d-4115-91a7-22d110c14ac7",
   "metadata": {},
   "source": [
    "б) Найти вероятность, что среди 4-х карт окажется хотя бы один туз.\n",
    "\n",
    "B - there is no ace in the sample"
   ]
  },
  {
   "cell_type": "code",
   "execution_count": 4,
   "id": "861ef265-b3bf-4d64-aa0d-13475eb08824",
   "metadata": {},
   "outputs": [
    {
     "name": "stderr",
     "output_type": "stream",
     "text": [
      "C:\\Users\\Administrator\\AppData\\Local\\Temp\\ipykernel_20624\\1976221405.py:2: DeprecationWarning: `np.math` is a deprecated alias for the standard library `math` module (Deprecated Numpy 1.25). Replace usages of `np.math` with `math`\n",
      "  return np.math.factorial(n) // (np.math.factorial(k) * np.math.factorial(n - k))\n"
     ]
    },
    {
     "data": {
      "text/plain": [
       "0.2812632745405854"
      ]
     },
     "execution_count": 4,
     "metadata": {},
     "output_type": "execute_result"
    }
   ],
   "source": [
    "n = combinations(52, 4)\n",
    "m = combinations(48, 4)\n",
    "p_b = m / n\n",
    "p_a = 1 - p_b\n",
    "p_a"
   ]
  },
  {
   "cell_type": "markdown",
   "id": "88f0ece0-42a9-4821-a131-af5c174b59d1",
   "metadata": {},
   "source": [
    "## Task 2\n",
    "2. На входной двери подъезда установлен кодовый замок, содержащий десять кнопок с цифрами от 0 до 9. Код содержит три цифры, которые нужно нажать одновременно. Какова вероятность того, что человек, не знающий код, откроет дверь с первой попытки?"
   ]
  },
  {
   "cell_type": "code",
   "execution_count": 5,
   "id": "7ab3274d-d437-4367-90cf-e459fc2c4552",
   "metadata": {},
   "outputs": [
    {
     "name": "stderr",
     "output_type": "stream",
     "text": [
      "C:\\Users\\Administrator\\AppData\\Local\\Temp\\ipykernel_20624\\1976221405.py:2: DeprecationWarning: `np.math` is a deprecated alias for the standard library `math` module (Deprecated Numpy 1.25). Replace usages of `np.math` with `math`\n",
      "  return np.math.factorial(n) // (np.math.factorial(k) * np.math.factorial(n - k))\n"
     ]
    },
    {
     "data": {
      "text/plain": [
       "0.008333333333333333"
      ]
     },
     "execution_count": 5,
     "metadata": {},
     "output_type": "execute_result"
    }
   ],
   "source": [
    "# there is no repeatitions and the order doesn't matter\n",
    "# A - code is input correctly\n",
    "# n - all combinations of 3 digits\n",
    "\n",
    "m = 1 # there is only one correct combination\n",
    "n = combinations(10, 3)\n",
    "p = m / n\n",
    "p"
   ]
  },
  {
   "cell_type": "markdown",
   "id": "bc106fce-51bd-4885-adbc-f23a1b168eeb",
   "metadata": {},
   "source": [
    "## Task 3\n",
    "3. В ящике имеется 15 деталей, из которых 9 окрашены. Рабочий случайным образом извлекает 3 детали. Какова вероятность того, что все извлеченные детали окрашены?"
   ]
  },
  {
   "cell_type": "code",
   "execution_count": 6,
   "id": "4b799012-9c73-42e3-b048-5e08501cb303",
   "metadata": {},
   "outputs": [
    {
     "name": "stderr",
     "output_type": "stream",
     "text": [
      "C:\\Users\\Administrator\\AppData\\Local\\Temp\\ipykernel_20624\\1976221405.py:2: DeprecationWarning: `np.math` is a deprecated alias for the standard library `math` module (Deprecated Numpy 1.25). Replace usages of `np.math` with `math`\n",
      "  return np.math.factorial(n) // (np.math.factorial(k) * np.math.factorial(n - k))\n"
     ]
    },
    {
     "data": {
      "text/plain": [
       "0.18461538461538463"
      ]
     },
     "execution_count": 6,
     "metadata": {},
     "output_type": "execute_result"
    }
   ],
   "source": [
    "# A - painted details from the box\n",
    "# n - 3 out of 15\n",
    "# m - 3 out of 9\n",
    "\n",
    "n = combinations(15, 3)\n",
    "m = combinations(9, 3)\n",
    "p = m / n\n",
    "p"
   ]
  },
  {
   "cell_type": "markdown",
   "id": "dadec17c-6cb2-46c5-ad86-f56d1e9fed5c",
   "metadata": {},
   "source": [
    "## Task 4\n",
    "В лотерее 100 билетов. Из них 2 выигрышных. Какова вероятность того, что 2 приобретенных билета окажутся выигрышными?"
   ]
  },
  {
   "cell_type": "code",
   "execution_count": 7,
   "id": "5838b3a3-6e08-49f3-bd52-ff78cde15197",
   "metadata": {},
   "outputs": [
    {
     "name": "stderr",
     "output_type": "stream",
     "text": [
      "C:\\Users\\Administrator\\AppData\\Local\\Temp\\ipykernel_20624\\1976221405.py:2: DeprecationWarning: `np.math` is a deprecated alias for the standard library `math` module (Deprecated Numpy 1.25). Replace usages of `np.math` with `math`\n",
      "  return np.math.factorial(n) // (np.math.factorial(k) * np.math.factorial(n - k))\n"
     ]
    },
    {
     "data": {
      "text/plain": [
       "0.00020202020202020202"
      ]
     },
     "execution_count": 7,
     "metadata": {},
     "output_type": "execute_result"
    }
   ],
   "source": [
    "# no repeatitions\n",
    "# order is non-essential\n",
    "# A is an event, when 2 bought lottery tickets are the winning ones\n",
    "# m is 2 out of 2, which gives us 1\n",
    "m = 1\n",
    "# n is 2 out of 100\n",
    "n = combinations(100, 2)\n",
    "p = m / n\n",
    "p"
   ]
  }
 ],
 "metadata": {
  "kernelspec": {
   "display_name": "Python 3 (ipykernel)",
   "language": "python",
   "name": "python3"
  },
  "language_info": {
   "codemirror_mode": {
    "name": "ipython",
    "version": 3
   },
   "file_extension": ".py",
   "mimetype": "text/x-python",
   "name": "python",
   "nbconvert_exporter": "python",
   "pygments_lexer": "ipython3",
   "version": "3.11.9"
  }
 },
 "nbformat": 4,
 "nbformat_minor": 5
}
