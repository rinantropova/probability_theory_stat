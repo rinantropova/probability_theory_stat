{
 "cells": [
  {
   "cell_type": "markdown",
   "id": "ee3c0a95-c6cf-4f96-9791-60e3e023c8bf",
   "metadata": {},
   "source": [
    "Дана выборка, состоящая из 10 человек. Оценить средний рост в данной популяции с помощью 95% интервала"
   ]
  },
  {
   "cell_type": "code",
   "execution_count": 6,
   "id": "a0510b41-125d-41e4-b9da-002147623f6e",
   "metadata": {},
   "outputs": [],
   "source": [
    "import numpy as np\n",
    "from scipy import stats"
   ]
  },
  {
   "cell_type": "code",
   "execution_count": 2,
   "id": "4ddcb6d9-a529-4ebf-85be-e32d320f74b2",
   "metadata": {},
   "outputs": [],
   "source": [
    "a = np.array([178, 184, 149, 193, 186, 173, 169, 175, 159, 174])"
   ]
  },
  {
   "cell_type": "code",
   "execution_count": 3,
   "id": "ea2490c4-e779-4512-87c7-e1d98f2463f8",
   "metadata": {},
   "outputs": [
    {
     "data": {
      "text/plain": [
       "174.0"
      ]
     },
     "execution_count": 3,
     "metadata": {},
     "output_type": "execute_result"
    }
   ],
   "source": [
    "x_1 = np.mean(a) #calculating mean value for the sample a\n",
    "x_1"
   ]
  },
  {
   "cell_type": "code",
   "execution_count": 4,
   "id": "49161556-5b81-41cb-b064-60dd8447e650",
   "metadata": {},
   "outputs": [
    {
     "data": {
      "text/plain": [
       "166.44444444444446"
      ]
     },
     "execution_count": 4,
     "metadata": {},
     "output_type": "execute_result"
    }
   ],
   "source": [
    "D1 = np.var(a, ddof=1) #calculating unbaised dispersion for the sample\n",
    "D1"
   ]
  },
  {
   "cell_type": "code",
   "execution_count": 7,
   "id": "022065f2-16d5-404d-bf0d-c6879e8e2205",
   "metadata": {},
   "outputs": [
    {
     "data": {
      "text/plain": [
       "2.2621571628540993"
      ]
     },
     "execution_count": 7,
     "metadata": {},
     "output_type": "execute_result"
    }
   ],
   "source": [
    "# confidence interval for mean\n",
    "t1 = stats.t.ppf(0.975, 9)\n",
    "t1"
   ]
  },
  {
   "cell_type": "code",
   "execution_count": 17,
   "id": "09625cdd-6c4a-4f12-98de-34f6d9c13797",
   "metadata": {},
   "outputs": [
    {
     "data": {
      "text/plain": [
       "164.7709409206456"
      ]
     },
     "execution_count": 17,
     "metadata": {},
     "output_type": "execute_result"
    }
   ],
   "source": [
    "x = x_1 - t1 * np.sqrt(D1/10)\n",
    "x"
   ]
  },
  {
   "cell_type": "code",
   "execution_count": 18,
   "id": "abf7ea4d-a988-44d7-a552-4634d83843b2",
   "metadata": {},
   "outputs": [
    {
     "data": {
      "text/plain": [
       "183.2290590793544"
      ]
     },
     "execution_count": 18,
     "metadata": {},
     "output_type": "execute_result"
    }
   ],
   "source": [
    "y = x_1 + t1 * np.sqrt(D1/10)\n",
    "y"
   ]
  },
  {
   "cell_type": "code",
   "execution_count": 16,
   "id": "f56bb254-eae9-40a1-8f6c-7b230f7e6c74",
   "metadata": {},
   "outputs": [
    {
     "name": "stdout",
     "output_type": "stream",
     "text": [
      "Confidence interval is [164.77; 183.23]\n"
     ]
    }
   ],
   "source": [
    "print(f'Confidence interval is [{x:.2f}; {y:.2f}]')"
   ]
  },
  {
   "cell_type": "markdown",
   "id": "74f84348-b74c-41b0-bd7a-08881d1500e1",
   "metadata": {},
   "source": [
    "## 2\n",
    "Оценить различие в росте между двумя средними арифметическими популяции a и b  с помощью 95% доверительного интервала"
   ]
  },
  {
   "cell_type": "code",
   "execution_count": 20,
   "id": "b3c061f0-dae0-42bf-8b8d-27d5a10ac51b",
   "metadata": {},
   "outputs": [],
   "source": [
    "a = np.array([178, 184, 149, 193, 186, 173, 169, 175, 159, 174])\n",
    "b = np.array([150, 154, 167, 165, 171, 150, 158, 170, 175, 160])"
   ]
  },
  {
   "cell_type": "code",
   "execution_count": 21,
   "id": "1ca650df-f82e-45bb-b159-522b05935e9e",
   "metadata": {},
   "outputs": [
    {
     "data": {
      "text/plain": [
       "10"
      ]
     },
     "execution_count": 21,
     "metadata": {},
     "output_type": "execute_result"
    }
   ],
   "source": [
    "len(a)"
   ]
  },
  {
   "cell_type": "code",
   "execution_count": 22,
   "id": "22100b00-f19a-483b-ab3c-1346fab507f3",
   "metadata": {},
   "outputs": [
    {
     "data": {
      "text/plain": [
       "10"
      ]
     },
     "execution_count": 22,
     "metadata": {},
     "output_type": "execute_result"
    }
   ],
   "source": [
    "len(b)"
   ]
  },
  {
   "cell_type": "code",
   "execution_count": 23,
   "id": "03c18f9d-ae24-4616-b7eb-a3908dc9dbe2",
   "metadata": {},
   "outputs": [
    {
     "data": {
      "text/plain": [
       "174.0"
      ]
     },
     "execution_count": 23,
     "metadata": {},
     "output_type": "execute_result"
    }
   ],
   "source": [
    "x_1 = np.mean(a)\n",
    "x_1"
   ]
  },
  {
   "cell_type": "code",
   "execution_count": 24,
   "id": "7e7603d9-f830-4c08-906b-e28c72454fe8",
   "metadata": {},
   "outputs": [
    {
     "data": {
      "text/plain": [
       "162.0"
      ]
     },
     "execution_count": 24,
     "metadata": {},
     "output_type": "execute_result"
    }
   ],
   "source": [
    "x_2 = np.mean(b)\n",
    "x_2"
   ]
  },
  {
   "cell_type": "code",
   "execution_count": 25,
   "id": "f156d0bf-899b-4edb-bd9e-be8c18e0137b",
   "metadata": {},
   "outputs": [
    {
     "data": {
      "text/plain": [
       "12.0"
      ]
     },
     "execution_count": 25,
     "metadata": {},
     "output_type": "execute_result"
    }
   ],
   "source": [
    "delta = x_1 - x_2\n",
    "delta"
   ]
  },
  {
   "cell_type": "code",
   "execution_count": 26,
   "id": "8c490dd6-afb7-4fd1-b656-aec97dd885eb",
   "metadata": {},
   "outputs": [
    {
     "data": {
      "text/plain": [
       "166.44444444444446"
      ]
     },
     "execution_count": 26,
     "metadata": {},
     "output_type": "execute_result"
    }
   ],
   "source": [
    "D1 = np.var(a, ddof=1)\n",
    "D1"
   ]
  },
  {
   "cell_type": "code",
   "execution_count": 27,
   "id": "3e21d243-0eae-4ff3-b973-222a7982c572",
   "metadata": {},
   "outputs": [
    {
     "data": {
      "text/plain": [
       "80.0"
      ]
     },
     "execution_count": 27,
     "metadata": {},
     "output_type": "execute_result"
    }
   ],
   "source": [
    "D2 = np.var(b, ddof=1)\n",
    "D2"
   ]
  },
  {
   "cell_type": "code",
   "execution_count": 28,
   "id": "7e7f3946-ef94-41f1-af70-b014115adbd7",
   "metadata": {},
   "outputs": [
    {
     "data": {
      "text/plain": [
       "123.22222222222223"
      ]
     },
     "execution_count": 28,
     "metadata": {},
     "output_type": "execute_result"
    }
   ],
   "source": [
    "D = (D1 + D2) / 2\n",
    "D"
   ]
  },
  {
   "cell_type": "code",
   "execution_count": 29,
   "id": "1dc0bfb6-46c5-4e05-940e-241dc1cc7c3c",
   "metadata": {},
   "outputs": [
    {
     "data": {
      "text/plain": [
       "4.964317117635058"
      ]
     },
     "execution_count": 29,
     "metadata": {},
     "output_type": "execute_result"
    }
   ],
   "source": [
    "SE = np.sqrt(D/len(a) + D/len(b))\n",
    "SE"
   ]
  },
  {
   "cell_type": "code",
   "execution_count": 30,
   "id": "6046fe2b-a654-44b3-abe2-d64a467b11a7",
   "metadata": {},
   "outputs": [
    {
     "data": {
      "text/plain": [
       "2.10092204024096"
      ]
     },
     "execution_count": 30,
     "metadata": {},
     "output_type": "execute_result"
    }
   ],
   "source": [
    "t = stats.t.ppf(0.975, df=2*(len(a) - 1))\n",
    "t"
   ]
  },
  {
   "cell_type": "code",
   "execution_count": 36,
   "id": "f5b232aa-51d2-4f66-a7db-800da1139983",
   "metadata": {},
   "outputs": [
    {
     "data": {
      "text/plain": [
       "1.570356752815032"
      ]
     },
     "execution_count": 36,
     "metadata": {},
     "output_type": "execute_result"
    }
   ],
   "source": [
    "dif1 = delta - t*SE\n",
    "dif1"
   ]
  },
  {
   "cell_type": "code",
   "execution_count": 33,
   "id": "3905b187-f15f-4bf4-a5b2-594e15f5004a",
   "metadata": {},
   "outputs": [
    {
     "data": {
      "text/plain": [
       "22.42964324718497"
      ]
     },
     "execution_count": 33,
     "metadata": {},
     "output_type": "execute_result"
    }
   ],
   "source": [
    "dif2 = delta + t * SE\n",
    "dif2"
   ]
  },
  {
   "cell_type": "code",
   "execution_count": 35,
   "id": "2e29ac79-10ec-428b-bce4-6f3fe13de04f",
   "metadata": {},
   "outputs": [
    {
     "name": "stdout",
     "output_type": "stream",
     "text": [
      "[1.57; 22.43]\n"
     ]
    }
   ],
   "source": [
    "print(f'[{dif1:.2f}; {dif2:.2f}]')"
   ]
  }
 ],
 "metadata": {
  "kernelspec": {
   "display_name": "Python 3 (ipykernel)",
   "language": "python",
   "name": "python3"
  },
  "language_info": {
   "codemirror_mode": {
    "name": "ipython",
    "version": 3
   },
   "file_extension": ".py",
   "mimetype": "text/x-python",
   "name": "python",
   "nbconvert_exporter": "python",
   "pygments_lexer": "ipython3",
   "version": "3.11.9"
  }
 },
 "nbformat": 4,
 "nbformat_minor": 5
}
