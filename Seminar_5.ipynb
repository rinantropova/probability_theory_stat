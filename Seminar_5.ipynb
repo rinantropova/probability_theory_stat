{
 "cells": [
  {
   "cell_type": "markdown",
   "id": "920db6ec-7c7e-44a5-ac12-f4847b814289",
   "metadata": {},
   "source": [
    "## Task 1\n",
    "Ниже приведены диаметры коронарных артерий после приема нифедипина и плацебо. Позволяют\r\n",
    "ли приводимые ниже данные утверждать, что нифедипин влияет на диаметр коронарных артерий?\r\n",
    "1. Выполнить расчеты в Python\r\n",
    "2. Сделайте расчет в ручную\r\n",
    "3. Сравните критерий Стьюдента и p-value со значениями, полученными в Python\r\n",
    "x =np.array([2.5, 2.2, 2.6, 2, 2.1, 1.8,2.4, 2.3, 2.7, 2.7, 1.9])\r\n",
    "y= np.array([2.5, 1.7, 1.5, 2.5, 1.4, 1.9, 2.3, 2.0, 2.6, 2.3, 2.2])"
   ]
  },
  {
   "cell_type": "code",
   "execution_count": 1,
   "id": "b960919e-4a37-489e-a632-261192c212a5",
   "metadata": {},
   "outputs": [],
   "source": [
    "import numpy as np\n",
    "import scipy.stats as stats\n",
    "from scipy import stats"
   ]
  },
  {
   "cell_type": "code",
   "execution_count": 2,
   "id": "aec896c8-9b69-47b1-9b72-0d8b0924c622",
   "metadata": {},
   "outputs": [],
   "source": [
    "x =np.array([2.5, 2.2, 2.6, 2, 2.1, 1.8,2.4, 2.3, 2.7, 2.7, 1.9])\n",
    "y= np.array([2.5, 1.7, 1.5, 2.5, 1.4, 1.9, 2.3, 2.0, 2.6, 2.3, 2.2])"
   ]
  },
  {
   "cell_type": "code",
   "execution_count": 7,
   "id": "8d353702-56dd-4cfa-bf60-116ea05ed459",
   "metadata": {},
   "outputs": [
    {
     "data": {
      "text/plain": [
       "2.0859634472658364"
      ]
     },
     "execution_count": 7,
     "metadata": {},
     "output_type": "execute_result"
    }
   ],
   "source": [
    "alpha = 0.05\n",
    "n = 11\n",
    "\n",
    "t1 = stats.t.ppf(1 - alpha / 2, df=2 * (n - 1))\n",
    "t1"
   ]
  },
  {
   "cell_type": "code",
   "execution_count": 8,
   "id": "3001a953-b475-41e4-8c7a-6ee34699b895",
   "metadata": {},
   "outputs": [
    {
     "data": {
      "text/plain": [
       "TtestResult(statistic=1.3283484757831463, pvalue=0.19902265798859647, df=20.0)"
      ]
     },
     "execution_count": 8,
     "metadata": {},
     "output_type": "execute_result"
    }
   ],
   "source": [
    "stats.ttest_ind(x, y)\n",
    "# p-value > alpha > H0 не отвергается на уровне значимости alpha"
   ]
  },
  {
   "cell_type": "code",
   "execution_count": 4,
   "id": "fd823264-ea1c-475a-9a57-5809328fa1d0",
   "metadata": {},
   "outputs": [
    {
     "name": "stdout",
     "output_type": "stream",
     "text": [
      "2.2909090909090906 2.0818181818181816 0.10090909090909095 0.17163636363636364 11 11\n"
     ]
    }
   ],
   "source": [
    "x_mean = np.mean(x)\n",
    "y_mean = np.mean(y)\n",
    "x_var = np.var(x, ddof=1)\n",
    "y_var = np.var(y, ddof=1)\n",
    "n_x = len(x)\n",
    "n_y = len(y)\n",
    "print(x_mean, y_mean, x_var, y_var, n_x, n_y)"
   ]
  },
  {
   "cell_type": "code",
   "execution_count": 6,
   "id": "210404bf-3ebd-4043-a148-eb7f30c7e195",
   "metadata": {},
   "outputs": [
    {
     "data": {
      "text/plain": [
       "1.3283484757831465"
      ]
     },
     "execution_count": 6,
     "metadata": {},
     "output_type": "execute_result"
    }
   ],
   "source": [
    "t_emp = (x_mean - y_mean) / np.sqrt(x_var / n_x + y_var / n_y)\n",
    "t_emp # observed value"
   ]
  },
  {
   "cell_type": "markdown",
   "id": "06da443d-d49b-4c5d-9ce9-fbe516620365",
   "metadata": {},
   "source": [
    "## Task 2\n",
    "Ниже приведены данные из исследования Фреба и Уайта, посвященному исследованию\r\n",
    "состоянию легких. . Мы возьмем данные для группы людей, которые работали в накуренном\r\n",
    "помещении и для людей, выкуривающих небольшое число сигарет в день.\r\n",
    "Объемы выборок одинаковые – по 200 человек. Для людей, работающих в накуренном\r\n",
    "помещении средняя скорость средины выдоха составляет 2,72, std = 0.71, а выкуривающих\r\n",
    "небольшое число сигарет 2,63, std = 0.73.Можно ли считать одинаковой максимальную\r\n",
    "объемную скорость середины выдоха одинаковой в обеих группах?"
   ]
  },
  {
   "cell_type": "code",
   "execution_count": 9,
   "id": "30a8654b-4049-4741-acd7-45b37ab828f1",
   "metadata": {},
   "outputs": [
    {
     "data": {
      "text/plain": [
       "1.9659423239761926"
      ]
     },
     "execution_count": 9,
     "metadata": {},
     "output_type": "execute_result"
    }
   ],
   "source": [
    "alpha = 0.05\n",
    "n = 200\n",
    "\n",
    "t1 = stats.t.ppf(1 - alpha / 2, df=2 * (n - 1))\n",
    "t1"
   ]
  },
  {
   "cell_type": "markdown",
   "id": "fa41f20a-d2f2-4b10-a02b-f5ede44fca82",
   "metadata": {},
   "source": [
    "## Task 3\n",
    "Утверждается, что средний рост\r\n",
    "мужчин национальности Х 179,5.\r\n",
    "Была взята выборка из 100 человек,\r\n",
    "по которой получилось среднее\r\n",
    "арифметическое 178,5. Проверить\r\n",
    "это утверждение с помощью одностороннего\r\n",
    "теста, если известно, что стандартное\r\n",
    "отклонение генеральной совокупности 3 см.\r\n",
    "А уровень статистической значимости\r\n",
    "принять за 1%"
   ]
  },
  {
   "cell_type": "code",
   "execution_count": 11,
   "id": "ac3c0f6a-3f01-4d80-a75c-f51cf736cfaf",
   "metadata": {},
   "outputs": [
    {
     "data": {
      "text/plain": [
       "-2.3263478740408408"
      ]
     },
     "execution_count": 11,
     "metadata": {},
     "output_type": "execute_result"
    }
   ],
   "source": [
    "alpha = 0.01\n",
    "n = 100\n",
    "\n",
    "t3 = stats.norm.ppf(alpha)\n",
    "t3"
   ]
  }
 ],
 "metadata": {
  "kernelspec": {
   "display_name": "Python 3 (ipykernel)",
   "language": "python",
   "name": "python3"
  },
  "language_info": {
   "codemirror_mode": {
    "name": "ipython",
    "version": 3
   },
   "file_extension": ".py",
   "mimetype": "text/x-python",
   "name": "python",
   "nbconvert_exporter": "python",
   "pygments_lexer": "ipython3",
   "version": "3.11.9"
  }
 },
 "nbformat": 4,
 "nbformat_minor": 5
}
