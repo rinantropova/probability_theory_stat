{
 "cells": [
  {
   "cell_type": "markdown",
   "id": "b08d51b5-2396-4bf2-b52c-e8c787a8dd60",
   "metadata": {},
   "source": [
    "# EDA"
   ]
  },
  {
   "cell_type": "code",
   "execution_count": 1,
   "id": "12eb4392-78fb-4a66-9244-d7a9a566801d",
   "metadata": {},
   "outputs": [],
   "source": [
    "import numpy as np"
   ]
  },
  {
   "cell_type": "markdown",
   "id": "587bd7b0-ae5e-4754-8b91-4d7cc2577695",
   "metadata": {},
   "source": [
    "Смещенные стандартное отклонение и дисперсия"
   ]
  },
  {
   "cell_type": "code",
   "execution_count": 2,
   "id": "29271d85-af94-48ea-98d0-61c999aef634",
   "metadata": {},
   "outputs": [
    {
     "data": {
      "text/plain": [
       "array([167, 181, 174, 178, 175, 164, 182, 178, 193, 166, 154, 170, 177])"
      ]
     },
     "execution_count": 2,
     "metadata": {},
     "output_type": "execute_result"
    }
   ],
   "source": [
    "x = np.array([167, 181, 174, 178, 175, 164, 182, 178, 193, 166, 154, 170, 177])\n",
    "x"
   ]
  },
  {
   "cell_type": "code",
   "execution_count": 11,
   "id": "63c9c6e0-95f2-43e9-9fa9-4b1ea12960b2",
   "metadata": {},
   "outputs": [
    {
     "data": {
      "text/plain": [
       "9.382092977531892"
      ]
     },
     "execution_count": 11,
     "metadata": {},
     "output_type": "execute_result"
    }
   ],
   "source": [
    "np.std(x) # standard deviation\n"
   ]
  },
  {
   "cell_type": "code",
   "execution_count": 12,
   "id": "6142eab3-aa3f-453f-9be9-d98fc3e82a1c",
   "metadata": {},
   "outputs": [
    {
     "data": {
      "text/plain": [
       "88.02366863905326"
      ]
     },
     "execution_count": 12,
     "metadata": {},
     "output_type": "execute_result"
    }
   ],
   "source": [
    "np.var(x) # dispersion "
   ]
  },
  {
   "cell_type": "code",
   "execution_count": 6,
   "id": "ed2604f3-8485-4692-bdf0-962106482f87",
   "metadata": {},
   "outputs": [
    {
     "data": {
      "text/plain": [
       "9.382092977531892"
      ]
     },
     "execution_count": 6,
     "metadata": {},
     "output_type": "execute_result"
    }
   ],
   "source": [
    "np.sqrt(88.02366863905326)"
   ]
  },
  {
   "cell_type": "markdown",
   "id": "4936420c-5b43-40d1-a4e5-05ecc66c0ad6",
   "metadata": {},
   "source": [
    "Несмещенные стандартное отклонение и дисперсия"
   ]
  },
  {
   "cell_type": "code",
   "execution_count": 7,
   "id": "6ae1ad32-ffbb-4fa7-8fa9-a621b90e1a4c",
   "metadata": {},
   "outputs": [
    {
     "data": {
      "text/plain": [
       "array([167, 181, 174, 178, 175, 164, 182, 178, 193, 166, 154, 170, 177])"
      ]
     },
     "execution_count": 7,
     "metadata": {},
     "output_type": "execute_result"
    }
   ],
   "source": [
    "x = np.array([167, 181, 174, 178, 175, 164, 182, 178, 193, 166, 154, 170, 177])\n",
    "x"
   ]
  },
  {
   "cell_type": "code",
   "execution_count": 13,
   "id": "803ec5f5-58d6-43fc-9619-996fc924b965",
   "metadata": {},
   "outputs": [
    {
     "data": {
      "text/plain": [
       "9.765191977579056"
      ]
     },
     "execution_count": 13,
     "metadata": {},
     "output_type": "execute_result"
    }
   ],
   "source": [
    "np.std(x, ddof=1) # ddof - степени свободы"
   ]
  },
  {
   "cell_type": "code",
   "execution_count": 9,
   "id": "468e7690-0f4d-44bb-8d50-262dddeb3761",
   "metadata": {},
   "outputs": [
    {
     "data": {
      "text/plain": [
       "95.35897435897436"
      ]
     },
     "execution_count": 9,
     "metadata": {},
     "output_type": "execute_result"
    }
   ],
   "source": [
    "np.var(x, ddof=1)"
   ]
  },
  {
   "cell_type": "code",
   "execution_count": 10,
   "id": "7459e274-40ad-4ab7-9ffd-5db924740b83",
   "metadata": {},
   "outputs": [
    {
     "data": {
      "text/plain": [
       "9.765191977579056"
      ]
     },
     "execution_count": 10,
     "metadata": {},
     "output_type": "execute_result"
    }
   ],
   "source": [
    "np.sqrt(95.35897435897436)"
   ]
  },
  {
   "cell_type": "markdown",
   "id": "c3d5ef0c-e7fd-44c4-8aef-d9185e668a6b",
   "metadata": {},
   "source": [
    "Медиана"
   ]
  },
  {
   "cell_type": "code",
   "execution_count": 14,
   "id": "30b093e5-7b30-4415-a693-6f6e83663334",
   "metadata": {},
   "outputs": [
    {
     "data": {
      "text/plain": [
       "array([100,  80,  75,  77,  89,  33,  45,  25,  65,  17,  30,  24,  57,\n",
       "        55,  70,  75,  65,  84,  90, 150])"
      ]
     },
     "execution_count": 14,
     "metadata": {},
     "output_type": "execute_result"
    }
   ],
   "source": [
    "z = np.array([100, 80, 75, 77, 89, 33, 45, 25, 65, 17, 30, 24, 57, 55, 70, 75, 65, 84, 90, 150])\n",
    "z"
   ]
  },
  {
   "cell_type": "code",
   "execution_count": 15,
   "id": "7cd94056-abaf-4a3e-adf0-573da2a4c021",
   "metadata": {},
   "outputs": [
    {
     "data": {
      "text/plain": [
       "(20,)"
      ]
     },
     "execution_count": 15,
     "metadata": {},
     "output_type": "execute_result"
    }
   ],
   "source": [
    "z.shape"
   ]
  },
  {
   "cell_type": "code",
   "execution_count": 17,
   "id": "f019ce90-44af-4af4-b593-f6c4b04e4bdb",
   "metadata": {},
   "outputs": [
    {
     "data": {
      "text/plain": [
       "array([ 17,  24,  25,  30,  33,  45,  55,  57,  65,  65,  70,  75,  75,\n",
       "        77,  80,  84,  89,  90, 100, 150])"
      ]
     },
     "execution_count": 17,
     "metadata": {},
     "output_type": "execute_result"
    }
   ],
   "source": [
    "z.sort()\n",
    "z"
   ]
  },
  {
   "cell_type": "code",
   "execution_count": 18,
   "id": "d8ada1f5-b155-4bfb-92c8-39d2e25b2fad",
   "metadata": {},
   "outputs": [
    {
     "data": {
      "text/plain": [
       "67.5"
      ]
     },
     "execution_count": 18,
     "metadata": {},
     "output_type": "execute_result"
    }
   ],
   "source": [
    "(z[9] + z[10])/2"
   ]
  },
  {
   "cell_type": "markdown",
   "id": "de49135a-5bab-48e4-8598-5349ec221452",
   "metadata": {},
   "source": [
    "Квантили"
   ]
  },
  {
   "cell_type": "code",
   "execution_count": 19,
   "id": "7355e9a6-6bad-4c7d-a8a2-913626f8cf34",
   "metadata": {},
   "outputs": [
    {
     "data": {
      "text/plain": [
       "array([1, 2, 4, 2, 1, 5, 7, 2, 3, 5, 7, 8, 9])"
      ]
     },
     "execution_count": 19,
     "metadata": {},
     "output_type": "execute_result"
    }
   ],
   "source": [
    "z = np.array([1, 2, 4, 2, 1, 5, 7, 2, 3, 5, 7, 8, 9])\n",
    "z"
   ]
  },
  {
   "cell_type": "code",
   "execution_count": 20,
   "id": "d4eec429-2972-4893-9854-80518bcd0390",
   "metadata": {},
   "outputs": [
    {
     "data": {
      "text/plain": [
       "array([1, 1, 2, 2, 2, 3, 4, 5, 5, 7, 7, 8, 9])"
      ]
     },
     "execution_count": 20,
     "metadata": {},
     "output_type": "execute_result"
    }
   ],
   "source": [
    "z.sort()\n",
    "z"
   ]
  },
  {
   "cell_type": "markdown",
   "id": "ea8d4714-c517-4940-a710-4df0485ad6b9",
   "metadata": {},
   "source": [
    "если  n k/100 целое число, то k-я персентиль - это среднее значение элементов под номерами nk/100 и nk/100+1\n",
    "\n",
    "Если n k/100 не целое число, то k-я персентиль совпадает с измерением j+1, где j - максимальное число, которое меньше, чем n k/100"
   ]
  },
  {
   "cell_type": "code",
   "execution_count": 21,
   "id": "ddacd814-9ce3-4621-9843-834320727528",
   "metadata": {},
   "outputs": [
    {
     "data": {
      "text/plain": [
       "13"
      ]
     },
     "execution_count": 21,
     "metadata": {},
     "output_type": "execute_result"
    }
   ],
   "source": [
    "n = len(z)\n",
    "n"
   ]
  },
  {
   "cell_type": "code",
   "execution_count": 22,
   "id": "9a6c95ea-20f3-432b-ba87-c66d9320c312",
   "metadata": {},
   "outputs": [
    {
     "data": {
      "text/plain": [
       "3.25"
      ]
     },
     "execution_count": 22,
     "metadata": {},
     "output_type": "execute_result"
    }
   ],
   "source": [
    "k = 25\n",
    "n*k/100"
   ]
  },
  {
   "cell_type": "code",
   "execution_count": 23,
   "id": "6de6ec84-91e8-41a3-a5a2-6dee575ce42f",
   "metadata": {},
   "outputs": [
    {
     "data": {
      "text/plain": [
       "4"
      ]
     },
     "execution_count": 23,
     "metadata": {},
     "output_type": "execute_result"
    }
   ],
   "source": [
    "3+1"
   ]
  },
  {
   "cell_type": "code",
   "execution_count": 25,
   "id": "f689b7c4-45bf-44ab-8919-1578a8e01b40",
   "metadata": {},
   "outputs": [
    {
     "data": {
      "text/plain": [
       "2"
      ]
     },
     "execution_count": 25,
     "metadata": {},
     "output_type": "execute_result"
    }
   ],
   "source": [
    "z[3] # element for 25-%"
   ]
  },
  {
   "cell_type": "code",
   "execution_count": 26,
   "id": "a6ed7015-1535-4b0c-91d6-5edfb99ed64e",
   "metadata": {},
   "outputs": [
    {
     "data": {
      "text/plain": [
       "9.75"
      ]
     },
     "execution_count": 26,
     "metadata": {},
     "output_type": "execute_result"
    }
   ],
   "source": [
    "k = 75\n",
    "n*k/100"
   ]
  },
  {
   "cell_type": "code",
   "execution_count": 27,
   "id": "10632f12-b69c-47b9-a5c8-53383f3fd327",
   "metadata": {},
   "outputs": [
    {
     "data": {
      "text/plain": [
       "10"
      ]
     },
     "execution_count": 27,
     "metadata": {},
     "output_type": "execute_result"
    }
   ],
   "source": [
    "9+1"
   ]
  },
  {
   "cell_type": "code",
   "execution_count": 29,
   "id": "4ab05321-babb-4521-b6ad-173e68e26907",
   "metadata": {},
   "outputs": [
    {
     "data": {
      "text/plain": [
       "7"
      ]
     },
     "execution_count": 29,
     "metadata": {},
     "output_type": "execute_result"
    }
   ],
   "source": [
    "z[9] # element of 75-%"
   ]
  },
  {
   "cell_type": "code",
   "execution_count": null,
   "id": "80cfcb30-4051-4318-99e3-dc4edb216436",
   "metadata": {},
   "outputs": [],
   "source": []
  }
 ],
 "metadata": {
  "kernelspec": {
   "display_name": "Python 3 (ipykernel)",
   "language": "python",
   "name": "python3"
  },
  "language_info": {
   "codemirror_mode": {
    "name": "ipython",
    "version": 3
   },
   "file_extension": ".py",
   "mimetype": "text/x-python",
   "name": "python",
   "nbconvert_exporter": "python",
   "pygments_lexer": "ipython3",
   "version": "3.11.9"
  }
 },
 "nbformat": 4,
 "nbformat_minor": 5
}
